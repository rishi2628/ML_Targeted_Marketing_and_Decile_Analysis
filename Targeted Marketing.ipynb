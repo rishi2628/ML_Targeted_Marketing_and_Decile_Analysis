{
 "cells": [
  {
   "cell_type": "code",
   "execution_count": 1,
   "id": "aa7de052",
   "metadata": {},
   "outputs": [
    {
     "data": {
      "text/plain": [
       "0"
      ]
     },
     "execution_count": 1,
     "metadata": {},
     "output_type": "execute_result"
    }
   ],
   "source": [
    "import gc\n",
    "import os\n",
    "import numpy as np\n",
    "import pandas as pd\n",
    "\n",
    "import time\n",
    "import itertools\n",
    "from tqdm import tqdm\n",
    "from datetime import datetime\n",
    "from scipy.stats import chi2_contingency\n",
    "\n",
    "# import packages\n",
    "from collections import defaultdict\n",
    "import pandas.core.algorithms as algos\n",
    "from pandas import Series\n",
    "from scipy.stats import spearmanr\n",
    "import re\n",
    "import math\n",
    "import traceback\n",
    "import string\n",
    "\n",
    "import plotly.graph_objects as go\n",
    "import matplotlib.pyplot as plt\n",
    "%matplotlib inline\n",
    "import seaborn as sns\n",
    "\n",
    "from xgboost import XGBClassifier\n",
    "from bayes_opt import BayesianOptimization\n",
    "from sklearn.model_selection import cross_val_score\n",
    "from sklearn.preprocessing import MinMaxScaler, StandardScaler\n",
    "from sklearn.metrics import roc_auc_score, accuracy_score, precision_score, recall_score, f1_score\n",
    "\n",
    "gc.collect()"
   ]
  },
  {
   "cell_type": "code",
   "execution_count": 2,
   "id": "ee97d829",
   "metadata": {},
   "outputs": [
    {
     "data": {
      "text/html": [
       "<div>\n",
       "<style scoped>\n",
       "    .dataframe tbody tr th:only-of-type {\n",
       "        vertical-align: middle;\n",
       "    }\n",
       "\n",
       "    .dataframe tbody tr th {\n",
       "        vertical-align: top;\n",
       "    }\n",
       "\n",
       "    .dataframe thead th {\n",
       "        text-align: right;\n",
       "    }\n",
       "</style>\n",
       "<table border=\"1\" class=\"dataframe\">\n",
       "  <thead>\n",
       "    <tr style=\"text-align: right;\">\n",
       "      <th></th>\n",
       "      <th>age</th>\n",
       "      <th>job</th>\n",
       "      <th>marital</th>\n",
       "      <th>education</th>\n",
       "      <th>default</th>\n",
       "      <th>housing</th>\n",
       "      <th>loan</th>\n",
       "      <th>contact</th>\n",
       "      <th>month</th>\n",
       "      <th>day_of_week</th>\n",
       "      <th>...</th>\n",
       "      <th>campaign</th>\n",
       "      <th>pdays</th>\n",
       "      <th>previous</th>\n",
       "      <th>poutcome</th>\n",
       "      <th>emp.var.rate</th>\n",
       "      <th>cons.price.idx</th>\n",
       "      <th>cons.conf.idx</th>\n",
       "      <th>euribor3m</th>\n",
       "      <th>nr.employed</th>\n",
       "      <th>y</th>\n",
       "    </tr>\n",
       "  </thead>\n",
       "  <tbody>\n",
       "    <tr>\n",
       "      <th>0</th>\n",
       "      <td>56</td>\n",
       "      <td>housemaid</td>\n",
       "      <td>married</td>\n",
       "      <td>basic.4y</td>\n",
       "      <td>no</td>\n",
       "      <td>no</td>\n",
       "      <td>no</td>\n",
       "      <td>telephone</td>\n",
       "      <td>may</td>\n",
       "      <td>mon</td>\n",
       "      <td>...</td>\n",
       "      <td>1</td>\n",
       "      <td>999</td>\n",
       "      <td>0</td>\n",
       "      <td>nonexistent</td>\n",
       "      <td>1.1</td>\n",
       "      <td>93.994</td>\n",
       "      <td>-36.4</td>\n",
       "      <td>4.857</td>\n",
       "      <td>5191.0</td>\n",
       "      <td>no</td>\n",
       "    </tr>\n",
       "    <tr>\n",
       "      <th>1</th>\n",
       "      <td>57</td>\n",
       "      <td>services</td>\n",
       "      <td>married</td>\n",
       "      <td>high.school</td>\n",
       "      <td>unknown</td>\n",
       "      <td>no</td>\n",
       "      <td>no</td>\n",
       "      <td>telephone</td>\n",
       "      <td>may</td>\n",
       "      <td>mon</td>\n",
       "      <td>...</td>\n",
       "      <td>1</td>\n",
       "      <td>999</td>\n",
       "      <td>0</td>\n",
       "      <td>nonexistent</td>\n",
       "      <td>1.1</td>\n",
       "      <td>93.994</td>\n",
       "      <td>-36.4</td>\n",
       "      <td>4.857</td>\n",
       "      <td>5191.0</td>\n",
       "      <td>no</td>\n",
       "    </tr>\n",
       "    <tr>\n",
       "      <th>2</th>\n",
       "      <td>37</td>\n",
       "      <td>services</td>\n",
       "      <td>married</td>\n",
       "      <td>high.school</td>\n",
       "      <td>no</td>\n",
       "      <td>yes</td>\n",
       "      <td>no</td>\n",
       "      <td>telephone</td>\n",
       "      <td>may</td>\n",
       "      <td>mon</td>\n",
       "      <td>...</td>\n",
       "      <td>1</td>\n",
       "      <td>999</td>\n",
       "      <td>0</td>\n",
       "      <td>nonexistent</td>\n",
       "      <td>1.1</td>\n",
       "      <td>93.994</td>\n",
       "      <td>-36.4</td>\n",
       "      <td>4.857</td>\n",
       "      <td>5191.0</td>\n",
       "      <td>no</td>\n",
       "    </tr>\n",
       "    <tr>\n",
       "      <th>3</th>\n",
       "      <td>40</td>\n",
       "      <td>admin.</td>\n",
       "      <td>married</td>\n",
       "      <td>basic.6y</td>\n",
       "      <td>no</td>\n",
       "      <td>no</td>\n",
       "      <td>no</td>\n",
       "      <td>telephone</td>\n",
       "      <td>may</td>\n",
       "      <td>mon</td>\n",
       "      <td>...</td>\n",
       "      <td>1</td>\n",
       "      <td>999</td>\n",
       "      <td>0</td>\n",
       "      <td>nonexistent</td>\n",
       "      <td>1.1</td>\n",
       "      <td>93.994</td>\n",
       "      <td>-36.4</td>\n",
       "      <td>4.857</td>\n",
       "      <td>5191.0</td>\n",
       "      <td>no</td>\n",
       "    </tr>\n",
       "    <tr>\n",
       "      <th>4</th>\n",
       "      <td>56</td>\n",
       "      <td>services</td>\n",
       "      <td>married</td>\n",
       "      <td>high.school</td>\n",
       "      <td>no</td>\n",
       "      <td>no</td>\n",
       "      <td>yes</td>\n",
       "      <td>telephone</td>\n",
       "      <td>may</td>\n",
       "      <td>mon</td>\n",
       "      <td>...</td>\n",
       "      <td>1</td>\n",
       "      <td>999</td>\n",
       "      <td>0</td>\n",
       "      <td>nonexistent</td>\n",
       "      <td>1.1</td>\n",
       "      <td>93.994</td>\n",
       "      <td>-36.4</td>\n",
       "      <td>4.857</td>\n",
       "      <td>5191.0</td>\n",
       "      <td>no</td>\n",
       "    </tr>\n",
       "    <tr>\n",
       "      <th>...</th>\n",
       "      <td>...</td>\n",
       "      <td>...</td>\n",
       "      <td>...</td>\n",
       "      <td>...</td>\n",
       "      <td>...</td>\n",
       "      <td>...</td>\n",
       "      <td>...</td>\n",
       "      <td>...</td>\n",
       "      <td>...</td>\n",
       "      <td>...</td>\n",
       "      <td>...</td>\n",
       "      <td>...</td>\n",
       "      <td>...</td>\n",
       "      <td>...</td>\n",
       "      <td>...</td>\n",
       "      <td>...</td>\n",
       "      <td>...</td>\n",
       "      <td>...</td>\n",
       "      <td>...</td>\n",
       "      <td>...</td>\n",
       "      <td>...</td>\n",
       "    </tr>\n",
       "    <tr>\n",
       "      <th>41183</th>\n",
       "      <td>73</td>\n",
       "      <td>retired</td>\n",
       "      <td>married</td>\n",
       "      <td>professional.course</td>\n",
       "      <td>no</td>\n",
       "      <td>yes</td>\n",
       "      <td>no</td>\n",
       "      <td>cellular</td>\n",
       "      <td>nov</td>\n",
       "      <td>fri</td>\n",
       "      <td>...</td>\n",
       "      <td>1</td>\n",
       "      <td>999</td>\n",
       "      <td>0</td>\n",
       "      <td>nonexistent</td>\n",
       "      <td>-1.1</td>\n",
       "      <td>94.767</td>\n",
       "      <td>-50.8</td>\n",
       "      <td>1.028</td>\n",
       "      <td>4963.6</td>\n",
       "      <td>yes</td>\n",
       "    </tr>\n",
       "    <tr>\n",
       "      <th>41184</th>\n",
       "      <td>46</td>\n",
       "      <td>blue-collar</td>\n",
       "      <td>married</td>\n",
       "      <td>professional.course</td>\n",
       "      <td>no</td>\n",
       "      <td>no</td>\n",
       "      <td>no</td>\n",
       "      <td>cellular</td>\n",
       "      <td>nov</td>\n",
       "      <td>fri</td>\n",
       "      <td>...</td>\n",
       "      <td>1</td>\n",
       "      <td>999</td>\n",
       "      <td>0</td>\n",
       "      <td>nonexistent</td>\n",
       "      <td>-1.1</td>\n",
       "      <td>94.767</td>\n",
       "      <td>-50.8</td>\n",
       "      <td>1.028</td>\n",
       "      <td>4963.6</td>\n",
       "      <td>no</td>\n",
       "    </tr>\n",
       "    <tr>\n",
       "      <th>41185</th>\n",
       "      <td>56</td>\n",
       "      <td>retired</td>\n",
       "      <td>married</td>\n",
       "      <td>university.degree</td>\n",
       "      <td>no</td>\n",
       "      <td>yes</td>\n",
       "      <td>no</td>\n",
       "      <td>cellular</td>\n",
       "      <td>nov</td>\n",
       "      <td>fri</td>\n",
       "      <td>...</td>\n",
       "      <td>2</td>\n",
       "      <td>999</td>\n",
       "      <td>0</td>\n",
       "      <td>nonexistent</td>\n",
       "      <td>-1.1</td>\n",
       "      <td>94.767</td>\n",
       "      <td>-50.8</td>\n",
       "      <td>1.028</td>\n",
       "      <td>4963.6</td>\n",
       "      <td>no</td>\n",
       "    </tr>\n",
       "    <tr>\n",
       "      <th>41186</th>\n",
       "      <td>44</td>\n",
       "      <td>technician</td>\n",
       "      <td>married</td>\n",
       "      <td>professional.course</td>\n",
       "      <td>no</td>\n",
       "      <td>no</td>\n",
       "      <td>no</td>\n",
       "      <td>cellular</td>\n",
       "      <td>nov</td>\n",
       "      <td>fri</td>\n",
       "      <td>...</td>\n",
       "      <td>1</td>\n",
       "      <td>999</td>\n",
       "      <td>0</td>\n",
       "      <td>nonexistent</td>\n",
       "      <td>-1.1</td>\n",
       "      <td>94.767</td>\n",
       "      <td>-50.8</td>\n",
       "      <td>1.028</td>\n",
       "      <td>4963.6</td>\n",
       "      <td>yes</td>\n",
       "    </tr>\n",
       "    <tr>\n",
       "      <th>41187</th>\n",
       "      <td>74</td>\n",
       "      <td>retired</td>\n",
       "      <td>married</td>\n",
       "      <td>professional.course</td>\n",
       "      <td>no</td>\n",
       "      <td>yes</td>\n",
       "      <td>no</td>\n",
       "      <td>cellular</td>\n",
       "      <td>nov</td>\n",
       "      <td>fri</td>\n",
       "      <td>...</td>\n",
       "      <td>3</td>\n",
       "      <td>999</td>\n",
       "      <td>1</td>\n",
       "      <td>failure</td>\n",
       "      <td>-1.1</td>\n",
       "      <td>94.767</td>\n",
       "      <td>-50.8</td>\n",
       "      <td>1.028</td>\n",
       "      <td>4963.6</td>\n",
       "      <td>no</td>\n",
       "    </tr>\n",
       "  </tbody>\n",
       "</table>\n",
       "<p>41188 rows × 21 columns</p>\n",
       "</div>"
      ],
      "text/plain": [
       "       age          job  marital            education  default housing loan  \\\n",
       "0       56    housemaid  married             basic.4y       no      no   no   \n",
       "1       57     services  married          high.school  unknown      no   no   \n",
       "2       37     services  married          high.school       no     yes   no   \n",
       "3       40       admin.  married             basic.6y       no      no   no   \n",
       "4       56     services  married          high.school       no      no  yes   \n",
       "...    ...          ...      ...                  ...      ...     ...  ...   \n",
       "41183   73      retired  married  professional.course       no     yes   no   \n",
       "41184   46  blue-collar  married  professional.course       no      no   no   \n",
       "41185   56      retired  married    university.degree       no     yes   no   \n",
       "41186   44   technician  married  professional.course       no      no   no   \n",
       "41187   74      retired  married  professional.course       no     yes   no   \n",
       "\n",
       "         contact month day_of_week  ...  campaign  pdays  previous  \\\n",
       "0      telephone   may         mon  ...         1    999         0   \n",
       "1      telephone   may         mon  ...         1    999         0   \n",
       "2      telephone   may         mon  ...         1    999         0   \n",
       "3      telephone   may         mon  ...         1    999         0   \n",
       "4      telephone   may         mon  ...         1    999         0   \n",
       "...          ...   ...         ...  ...       ...    ...       ...   \n",
       "41183   cellular   nov         fri  ...         1    999         0   \n",
       "41184   cellular   nov         fri  ...         1    999         0   \n",
       "41185   cellular   nov         fri  ...         2    999         0   \n",
       "41186   cellular   nov         fri  ...         1    999         0   \n",
       "41187   cellular   nov         fri  ...         3    999         1   \n",
       "\n",
       "          poutcome emp.var.rate  cons.price.idx  cons.conf.idx  euribor3m  \\\n",
       "0      nonexistent          1.1          93.994          -36.4      4.857   \n",
       "1      nonexistent          1.1          93.994          -36.4      4.857   \n",
       "2      nonexistent          1.1          93.994          -36.4      4.857   \n",
       "3      nonexistent          1.1          93.994          -36.4      4.857   \n",
       "4      nonexistent          1.1          93.994          -36.4      4.857   \n",
       "...            ...          ...             ...            ...        ...   \n",
       "41183  nonexistent         -1.1          94.767          -50.8      1.028   \n",
       "41184  nonexistent         -1.1          94.767          -50.8      1.028   \n",
       "41185  nonexistent         -1.1          94.767          -50.8      1.028   \n",
       "41186  nonexistent         -1.1          94.767          -50.8      1.028   \n",
       "41187      failure         -1.1          94.767          -50.8      1.028   \n",
       "\n",
       "       nr.employed    y  \n",
       "0           5191.0   no  \n",
       "1           5191.0   no  \n",
       "2           5191.0   no  \n",
       "3           5191.0   no  \n",
       "4           5191.0   no  \n",
       "...            ...  ...  \n",
       "41183       4963.6  yes  \n",
       "41184       4963.6   no  \n",
       "41185       4963.6   no  \n",
       "41186       4963.6  yes  \n",
       "41187       4963.6   no  \n",
       "\n",
       "[41188 rows x 21 columns]"
      ]
     },
     "execution_count": 2,
     "metadata": {},
     "output_type": "execute_result"
    }
   ],
   "source": [
    "data = pd.read_csv('bank-additional-full.csv',sep=';')\n",
    "data"
   ]
  },
  {
   "cell_type": "code",
   "execution_count": 3,
   "id": "422d0e9a",
   "metadata": {},
   "outputs": [
    {
     "data": {
      "text/plain": [
       "(41188, 21)"
      ]
     },
     "execution_count": 3,
     "metadata": {},
     "output_type": "execute_result"
    }
   ],
   "source": [
    "predicting_feature = 'y'\n",
    "categorical_features = ['job','marital','education','default','housing','loan','contact','month','day_of_week','poutcome']\n",
    "data.shape"
   ]
  },
  {
   "cell_type": "code",
   "execution_count": 4,
   "id": "7686c105",
   "metadata": {},
   "outputs": [
    {
     "data": {
      "text/plain": [
       "Index(['age', 'job', 'marital', 'education', 'default', 'housing', 'loan',\n",
       "       'contact', 'month', 'day_of_week', 'duration', 'campaign', 'pdays',\n",
       "       'previous', 'poutcome', 'emp.var.rate', 'cons.price.idx',\n",
       "       'cons.conf.idx', 'euribor3m', 'nr.employed', 'y'],\n",
       "      dtype='object')"
      ]
     },
     "execution_count": 4,
     "metadata": {},
     "output_type": "execute_result"
    }
   ],
   "source": [
    "data.columns"
   ]
  },
  {
   "cell_type": "code",
   "execution_count": 5,
   "id": "8a31bdda",
   "metadata": {},
   "outputs": [
    {
     "data": {
      "text/plain": [
       "y                    2\n",
       "contact              2\n",
       "default              3\n",
       "housing              3\n",
       "loan                 3\n",
       "poutcome             3\n",
       "marital              4\n",
       "day_of_week          5\n",
       "education            8\n",
       "previous             8\n",
       "emp.var.rate        10\n",
       "month               10\n",
       "nr.employed         11\n",
       "job                 12\n",
       "cons.price.idx      26\n",
       "cons.conf.idx       26\n",
       "pdays               27\n",
       "campaign            42\n",
       "age                 78\n",
       "euribor3m          316\n",
       "duration          1544\n",
       "dtype: int64"
      ]
     },
     "execution_count": 5,
     "metadata": {},
     "output_type": "execute_result"
    }
   ],
   "source": [
    "data.nunique().sort_values()"
   ]
  },
  {
   "cell_type": "code",
   "execution_count": 6,
   "id": "18753082",
   "metadata": {},
   "outputs": [
    {
     "name": "stdout",
     "output_type": "stream",
     "text": [
      "job\n",
      "marital\n",
      "education\n",
      "default\n",
      "housing\n",
      "loan\n",
      "contact\n",
      "month\n",
      "day_of_week\n",
      "poutcome\n"
     ]
    },
    {
     "data": {
      "text/plain": [
       "(41188, 64)"
      ]
     },
     "execution_count": 6,
     "metadata": {},
     "output_type": "execute_result"
    }
   ],
   "source": [
    "for col in categorical_features:\n",
    "    print(col)\n",
    "    temp = pd.get_dummies(data[col],prefix=col)\n",
    "    data = pd.concat([data.drop(columns=[col]),temp],axis=1)\n",
    "data.shape"
   ]
  },
  {
   "cell_type": "code",
   "execution_count": 8,
   "id": "254dedd1",
   "metadata": {},
   "outputs": [],
   "source": [
    "data[predicting_feature] = (data[predicting_feature] == 'yes').astype(int)"
   ]
  },
  {
   "cell_type": "code",
   "execution_count": 10,
   "id": "fd7a94a5",
   "metadata": {},
   "outputs": [
    {
     "data": {
      "text/plain": [
       "0    36548\n",
       "1     4640\n",
       "Name: y, dtype: int64"
      ]
     },
     "execution_count": 10,
     "metadata": {},
     "output_type": "execute_result"
    }
   ],
   "source": [
    "data[predicting_feature].value_counts()"
   ]
  },
  {
   "cell_type": "code",
   "execution_count": 11,
   "id": "208d627a",
   "metadata": {},
   "outputs": [
    {
     "data": {
      "text/plain": [
       "0    0.887346\n",
       "1    0.112654\n",
       "Name: y, dtype: float64"
      ]
     },
     "execution_count": 11,
     "metadata": {},
     "output_type": "execute_result"
    }
   ],
   "source": [
    "data[predicting_feature].value_counts(normalize=True)"
   ]
  },
  {
   "cell_type": "code",
   "execution_count": 12,
   "id": "3731d18e",
   "metadata": {},
   "outputs": [],
   "source": [
    "from sklearn.model_selection import train_test_split"
   ]
  },
  {
   "cell_type": "code",
   "execution_count": 13,
   "id": "8756b5ed",
   "metadata": {},
   "outputs": [],
   "source": [
    "X_train, X_test, y_train, y_test = train_test_split(data.drop(columns=[predicting_feature]), data[predicting_feature],\n",
    "                                                    stratify=data[predicting_feature], test_size=0.33, random_state=42)"
   ]
  },
  {
   "cell_type": "code",
   "execution_count": 14,
   "id": "37256e46",
   "metadata": {
    "scrolled": true
   },
   "outputs": [
    {
     "data": {
      "text/html": [
       "<div>\n",
       "<style scoped>\n",
       "    .dataframe tbody tr th:only-of-type {\n",
       "        vertical-align: middle;\n",
       "    }\n",
       "\n",
       "    .dataframe tbody tr th {\n",
       "        vertical-align: top;\n",
       "    }\n",
       "\n",
       "    .dataframe thead th {\n",
       "        text-align: right;\n",
       "    }\n",
       "</style>\n",
       "<table border=\"1\" class=\"dataframe\">\n",
       "  <thead>\n",
       "    <tr style=\"text-align: right;\">\n",
       "      <th></th>\n",
       "      <th>age</th>\n",
       "      <th>duration</th>\n",
       "      <th>campaign</th>\n",
       "      <th>pdays</th>\n",
       "      <th>previous</th>\n",
       "      <th>emp.var.rate</th>\n",
       "      <th>cons.price.idx</th>\n",
       "      <th>cons.conf.idx</th>\n",
       "      <th>euribor3m</th>\n",
       "      <th>nr.employed</th>\n",
       "      <th>...</th>\n",
       "      <th>month_oct</th>\n",
       "      <th>month_sep</th>\n",
       "      <th>day_of_week_fri</th>\n",
       "      <th>day_of_week_mon</th>\n",
       "      <th>day_of_week_thu</th>\n",
       "      <th>day_of_week_tue</th>\n",
       "      <th>day_of_week_wed</th>\n",
       "      <th>poutcome_failure</th>\n",
       "      <th>poutcome_nonexistent</th>\n",
       "      <th>poutcome_success</th>\n",
       "    </tr>\n",
       "  </thead>\n",
       "  <tbody>\n",
       "    <tr>\n",
       "      <th>7517</th>\n",
       "      <td>54</td>\n",
       "      <td>270</td>\n",
       "      <td>1</td>\n",
       "      <td>999</td>\n",
       "      <td>0</td>\n",
       "      <td>1.1</td>\n",
       "      <td>93.994</td>\n",
       "      <td>-36.4</td>\n",
       "      <td>4.864</td>\n",
       "      <td>5191.0</td>\n",
       "      <td>...</td>\n",
       "      <td>0</td>\n",
       "      <td>0</td>\n",
       "      <td>1</td>\n",
       "      <td>0</td>\n",
       "      <td>0</td>\n",
       "      <td>0</td>\n",
       "      <td>0</td>\n",
       "      <td>0</td>\n",
       "      <td>1</td>\n",
       "      <td>0</td>\n",
       "    </tr>\n",
       "    <tr>\n",
       "      <th>21591</th>\n",
       "      <td>40</td>\n",
       "      <td>172</td>\n",
       "      <td>1</td>\n",
       "      <td>999</td>\n",
       "      <td>0</td>\n",
       "      <td>1.4</td>\n",
       "      <td>93.444</td>\n",
       "      <td>-36.1</td>\n",
       "      <td>4.963</td>\n",
       "      <td>5228.1</td>\n",
       "      <td>...</td>\n",
       "      <td>0</td>\n",
       "      <td>0</td>\n",
       "      <td>0</td>\n",
       "      <td>0</td>\n",
       "      <td>0</td>\n",
       "      <td>1</td>\n",
       "      <td>0</td>\n",
       "      <td>0</td>\n",
       "      <td>1</td>\n",
       "      <td>0</td>\n",
       "    </tr>\n",
       "    <tr>\n",
       "      <th>13925</th>\n",
       "      <td>33</td>\n",
       "      <td>1060</td>\n",
       "      <td>2</td>\n",
       "      <td>999</td>\n",
       "      <td>0</td>\n",
       "      <td>1.4</td>\n",
       "      <td>93.918</td>\n",
       "      <td>-42.7</td>\n",
       "      <td>4.963</td>\n",
       "      <td>5228.1</td>\n",
       "      <td>...</td>\n",
       "      <td>0</td>\n",
       "      <td>0</td>\n",
       "      <td>1</td>\n",
       "      <td>0</td>\n",
       "      <td>0</td>\n",
       "      <td>0</td>\n",
       "      <td>0</td>\n",
       "      <td>0</td>\n",
       "      <td>1</td>\n",
       "      <td>0</td>\n",
       "    </tr>\n",
       "    <tr>\n",
       "      <th>33434</th>\n",
       "      <td>33</td>\n",
       "      <td>165</td>\n",
       "      <td>1</td>\n",
       "      <td>999</td>\n",
       "      <td>1</td>\n",
       "      <td>-1.8</td>\n",
       "      <td>92.893</td>\n",
       "      <td>-46.2</td>\n",
       "      <td>1.291</td>\n",
       "      <td>5099.1</td>\n",
       "      <td>...</td>\n",
       "      <td>0</td>\n",
       "      <td>0</td>\n",
       "      <td>0</td>\n",
       "      <td>0</td>\n",
       "      <td>0</td>\n",
       "      <td>1</td>\n",
       "      <td>0</td>\n",
       "      <td>1</td>\n",
       "      <td>0</td>\n",
       "      <td>0</td>\n",
       "    </tr>\n",
       "    <tr>\n",
       "      <th>6299</th>\n",
       "      <td>55</td>\n",
       "      <td>452</td>\n",
       "      <td>2</td>\n",
       "      <td>999</td>\n",
       "      <td>0</td>\n",
       "      <td>1.1</td>\n",
       "      <td>93.994</td>\n",
       "      <td>-36.4</td>\n",
       "      <td>4.857</td>\n",
       "      <td>5191.0</td>\n",
       "      <td>...</td>\n",
       "      <td>0</td>\n",
       "      <td>0</td>\n",
       "      <td>0</td>\n",
       "      <td>0</td>\n",
       "      <td>0</td>\n",
       "      <td>1</td>\n",
       "      <td>0</td>\n",
       "      <td>0</td>\n",
       "      <td>1</td>\n",
       "      <td>0</td>\n",
       "    </tr>\n",
       "    <tr>\n",
       "      <th>...</th>\n",
       "      <td>...</td>\n",
       "      <td>...</td>\n",
       "      <td>...</td>\n",
       "      <td>...</td>\n",
       "      <td>...</td>\n",
       "      <td>...</td>\n",
       "      <td>...</td>\n",
       "      <td>...</td>\n",
       "      <td>...</td>\n",
       "      <td>...</td>\n",
       "      <td>...</td>\n",
       "      <td>...</td>\n",
       "      <td>...</td>\n",
       "      <td>...</td>\n",
       "      <td>...</td>\n",
       "      <td>...</td>\n",
       "      <td>...</td>\n",
       "      <td>...</td>\n",
       "      <td>...</td>\n",
       "      <td>...</td>\n",
       "      <td>...</td>\n",
       "    </tr>\n",
       "    <tr>\n",
       "      <th>28337</th>\n",
       "      <td>58</td>\n",
       "      <td>624</td>\n",
       "      <td>1</td>\n",
       "      <td>999</td>\n",
       "      <td>0</td>\n",
       "      <td>-1.8</td>\n",
       "      <td>93.075</td>\n",
       "      <td>-47.1</td>\n",
       "      <td>1.445</td>\n",
       "      <td>5099.1</td>\n",
       "      <td>...</td>\n",
       "      <td>0</td>\n",
       "      <td>0</td>\n",
       "      <td>0</td>\n",
       "      <td>0</td>\n",
       "      <td>0</td>\n",
       "      <td>0</td>\n",
       "      <td>1</td>\n",
       "      <td>0</td>\n",
       "      <td>1</td>\n",
       "      <td>0</td>\n",
       "    </tr>\n",
       "    <tr>\n",
       "      <th>7494</th>\n",
       "      <td>29</td>\n",
       "      <td>165</td>\n",
       "      <td>1</td>\n",
       "      <td>999</td>\n",
       "      <td>0</td>\n",
       "      <td>1.1</td>\n",
       "      <td>93.994</td>\n",
       "      <td>-36.4</td>\n",
       "      <td>4.864</td>\n",
       "      <td>5191.0</td>\n",
       "      <td>...</td>\n",
       "      <td>0</td>\n",
       "      <td>0</td>\n",
       "      <td>1</td>\n",
       "      <td>0</td>\n",
       "      <td>0</td>\n",
       "      <td>0</td>\n",
       "      <td>0</td>\n",
       "      <td>0</td>\n",
       "      <td>1</td>\n",
       "      <td>0</td>\n",
       "    </tr>\n",
       "    <tr>\n",
       "      <th>10747</th>\n",
       "      <td>35</td>\n",
       "      <td>544</td>\n",
       "      <td>3</td>\n",
       "      <td>999</td>\n",
       "      <td>0</td>\n",
       "      <td>1.4</td>\n",
       "      <td>94.465</td>\n",
       "      <td>-41.8</td>\n",
       "      <td>4.961</td>\n",
       "      <td>5228.1</td>\n",
       "      <td>...</td>\n",
       "      <td>0</td>\n",
       "      <td>0</td>\n",
       "      <td>0</td>\n",
       "      <td>0</td>\n",
       "      <td>0</td>\n",
       "      <td>1</td>\n",
       "      <td>0</td>\n",
       "      <td>0</td>\n",
       "      <td>1</td>\n",
       "      <td>0</td>\n",
       "    </tr>\n",
       "    <tr>\n",
       "      <th>34138</th>\n",
       "      <td>32</td>\n",
       "      <td>1805</td>\n",
       "      <td>4</td>\n",
       "      <td>999</td>\n",
       "      <td>0</td>\n",
       "      <td>-1.8</td>\n",
       "      <td>92.893</td>\n",
       "      <td>-46.2</td>\n",
       "      <td>1.281</td>\n",
       "      <td>5099.1</td>\n",
       "      <td>...</td>\n",
       "      <td>0</td>\n",
       "      <td>0</td>\n",
       "      <td>0</td>\n",
       "      <td>0</td>\n",
       "      <td>0</td>\n",
       "      <td>0</td>\n",
       "      <td>1</td>\n",
       "      <td>0</td>\n",
       "      <td>1</td>\n",
       "      <td>0</td>\n",
       "    </tr>\n",
       "    <tr>\n",
       "      <th>10241</th>\n",
       "      <td>31</td>\n",
       "      <td>325</td>\n",
       "      <td>3</td>\n",
       "      <td>999</td>\n",
       "      <td>0</td>\n",
       "      <td>1.4</td>\n",
       "      <td>94.465</td>\n",
       "      <td>-41.8</td>\n",
       "      <td>4.960</td>\n",
       "      <td>5228.1</td>\n",
       "      <td>...</td>\n",
       "      <td>0</td>\n",
       "      <td>0</td>\n",
       "      <td>0</td>\n",
       "      <td>1</td>\n",
       "      <td>0</td>\n",
       "      <td>0</td>\n",
       "      <td>0</td>\n",
       "      <td>0</td>\n",
       "      <td>1</td>\n",
       "      <td>0</td>\n",
       "    </tr>\n",
       "  </tbody>\n",
       "</table>\n",
       "<p>27595 rows × 63 columns</p>\n",
       "</div>"
      ],
      "text/plain": [
       "       age  duration  campaign  pdays  previous  emp.var.rate  cons.price.idx  \\\n",
       "7517    54       270         1    999         0           1.1          93.994   \n",
       "21591   40       172         1    999         0           1.4          93.444   \n",
       "13925   33      1060         2    999         0           1.4          93.918   \n",
       "33434   33       165         1    999         1          -1.8          92.893   \n",
       "6299    55       452         2    999         0           1.1          93.994   \n",
       "...    ...       ...       ...    ...       ...           ...             ...   \n",
       "28337   58       624         1    999         0          -1.8          93.075   \n",
       "7494    29       165         1    999         0           1.1          93.994   \n",
       "10747   35       544         3    999         0           1.4          94.465   \n",
       "34138   32      1805         4    999         0          -1.8          92.893   \n",
       "10241   31       325         3    999         0           1.4          94.465   \n",
       "\n",
       "       cons.conf.idx  euribor3m  nr.employed  ...  month_oct  month_sep  \\\n",
       "7517           -36.4      4.864       5191.0  ...          0          0   \n",
       "21591          -36.1      4.963       5228.1  ...          0          0   \n",
       "13925          -42.7      4.963       5228.1  ...          0          0   \n",
       "33434          -46.2      1.291       5099.1  ...          0          0   \n",
       "6299           -36.4      4.857       5191.0  ...          0          0   \n",
       "...              ...        ...          ...  ...        ...        ...   \n",
       "28337          -47.1      1.445       5099.1  ...          0          0   \n",
       "7494           -36.4      4.864       5191.0  ...          0          0   \n",
       "10747          -41.8      4.961       5228.1  ...          0          0   \n",
       "34138          -46.2      1.281       5099.1  ...          0          0   \n",
       "10241          -41.8      4.960       5228.1  ...          0          0   \n",
       "\n",
       "       day_of_week_fri  day_of_week_mon  day_of_week_thu  day_of_week_tue  \\\n",
       "7517                 1                0                0                0   \n",
       "21591                0                0                0                1   \n",
       "13925                1                0                0                0   \n",
       "33434                0                0                0                1   \n",
       "6299                 0                0                0                1   \n",
       "...                ...              ...              ...              ...   \n",
       "28337                0                0                0                0   \n",
       "7494                 1                0                0                0   \n",
       "10747                0                0                0                1   \n",
       "34138                0                0                0                0   \n",
       "10241                0                1                0                0   \n",
       "\n",
       "       day_of_week_wed  poutcome_failure  poutcome_nonexistent  \\\n",
       "7517                 0                 0                     1   \n",
       "21591                0                 0                     1   \n",
       "13925                0                 0                     1   \n",
       "33434                0                 1                     0   \n",
       "6299                 0                 0                     1   \n",
       "...                ...               ...                   ...   \n",
       "28337                1                 0                     1   \n",
       "7494                 0                 0                     1   \n",
       "10747                0                 0                     1   \n",
       "34138                1                 0                     1   \n",
       "10241                0                 0                     1   \n",
       "\n",
       "       poutcome_success  \n",
       "7517                  0  \n",
       "21591                 0  \n",
       "13925                 0  \n",
       "33434                 0  \n",
       "6299                  0  \n",
       "...                 ...  \n",
       "28337                 0  \n",
       "7494                  0  \n",
       "10747                 0  \n",
       "34138                 0  \n",
       "10241                 0  \n",
       "\n",
       "[27595 rows x 63 columns]"
      ]
     },
     "execution_count": 14,
     "metadata": {},
     "output_type": "execute_result"
    }
   ],
   "source": [
    "X_train"
   ]
  },
  {
   "cell_type": "markdown",
   "id": "b52cc622",
   "metadata": {},
   "source": [
    "## Scaling and Variance Removal"
   ]
  },
  {
   "cell_type": "code",
   "execution_count": 15,
   "id": "9f12d8a6",
   "metadata": {},
   "outputs": [
    {
     "data": {
      "text/plain": [
       "(27595, 63)"
      ]
     },
     "execution_count": 15,
     "metadata": {},
     "output_type": "execute_result"
    }
   ],
   "source": [
    "X_train.shape"
   ]
  },
  {
   "cell_type": "code",
   "execution_count": 16,
   "id": "74aa8139",
   "metadata": {},
   "outputs": [],
   "source": [
    "scaler_mm = MinMaxScaler()\n",
    "X_train_scaled_mm = pd.DataFrame(scaler_mm.fit_transform(X_train),columns=X_train.columns,index=X_train.index)\n",
    "X_test_scaled_mm = pd.DataFrame(scaler_mm.fit_transform(X_test),columns=X_test.columns,index=X_test.index)"
   ]
  },
  {
   "cell_type": "code",
   "execution_count": 17,
   "id": "4db7e9ea",
   "metadata": {},
   "outputs": [
    {
     "data": {
      "text/plain": [
       "0.001"
      ]
     },
     "execution_count": 17,
     "metadata": {},
     "output_type": "execute_result"
    }
   ],
   "source": [
    "temp = X_train_scaled_mm.var().sort_values()\n",
    "q1, q3 = np.percentile(temp.values,[25,75])\n",
    "iqr = q3-q1\n",
    "var_thresh = q1 - 1.5*iqr\n",
    "var_thresh = max(var_thresh,0.001)\n",
    "var_thresh"
   ]
  },
  {
   "cell_type": "code",
   "execution_count": 18,
   "id": "bc093938",
   "metadata": {},
   "outputs": [],
   "source": [
    "drop_variance = list(temp[temp <= var_thresh].index)\n",
    "X_train.drop(columns=drop_variance,inplace=True,errors='ignore')\n",
    "X_test.drop(columns=drop_variance,inplace=True,errors='ignore')\n",
    "X_test = X_test[X_train.columns]"
   ]
  },
  {
   "cell_type": "code",
   "execution_count": 19,
   "id": "283bdada",
   "metadata": {},
   "outputs": [],
   "source": [
    "scaling_features = list(X_train.columns)\n",
    "scaler_ss = StandardScaler()\n",
    "X_train = pd.DataFrame(scaler_ss.fit_transform(X_train),columns=X_train.columns,index=X_train.index)\n",
    "X_test = pd.DataFrame(scaler_ss.fit_transform(X_test),columns=X_test.columns,index=X_test.index)"
   ]
  },
  {
   "cell_type": "code",
   "execution_count": 20,
   "id": "97ad5e49",
   "metadata": {},
   "outputs": [
    {
     "data": {
      "text/plain": [
       "((27595, 61), (13593, 61))"
      ]
     },
     "execution_count": 20,
     "metadata": {},
     "output_type": "execute_result"
    }
   ],
   "source": [
    "X_train.shape, X_test.shape"
   ]
  },
  {
   "cell_type": "markdown",
   "id": "6f2be083",
   "metadata": {},
   "source": [
    "# Removing Multicorrelation"
   ]
  },
  {
   "cell_type": "code",
   "execution_count": 21,
   "id": "c946d4c5",
   "metadata": {},
   "outputs": [],
   "source": [
    "def merge_common(lists): \n",
    "    neigh = defaultdict(set) \n",
    "    visited = set() \n",
    "    for each in lists: \n",
    "        for item in each: \n",
    "            neigh[item].update(each) \n",
    "    def comp(node, neigh = neigh, visited = visited, vis = visited.add): \n",
    "        nodes = set([node]) \n",
    "        next_node = nodes.pop \n",
    "        while nodes: \n",
    "            node = next_node() \n",
    "            vis(node) \n",
    "            nodes |= neigh[node] - visited \n",
    "            yield node \n",
    "    for node in neigh: \n",
    "        if node not in visited: \n",
    "            yield sorted(comp(node)) "
   ]
  },
  {
   "cell_type": "code",
   "execution_count": 22,
   "id": "a6d981c4",
   "metadata": {},
   "outputs": [],
   "source": [
    "max_bin = 20\n",
    "force_bin = 3\n",
    "\n",
    "# define a binning function\n",
    "def mono_bin(Y, X, n = max_bin):\n",
    "    \n",
    "    df1 = pd.DataFrame({\"X\": X, \"Y\": Y})\n",
    "    justmiss = df1[['X','Y']][df1.X.isnull()]\n",
    "    notmiss = df1[['X','Y']][df1.X.notnull()]\n",
    "    r = 0\n",
    "    while np.abs(r) < 1:\n",
    "        try:\n",
    "            d1 = pd.DataFrame({\"X\": notmiss.X, \"Y\": notmiss.Y, \"Bucket\": pd.qcut(notmiss.X, n)})\n",
    "            d2 = d1.groupby('Bucket', as_index=True)\n",
    "            r, p = spearmanr(d2.mean().X, d2.mean().Y)\n",
    "            n = n - 1 \n",
    "        except Exception as e:\n",
    "            n = n - 1\n",
    "\n",
    "    if len(d2) == 1:\n",
    "        n = force_bin         \n",
    "        bins = algos.quantile(notmiss.X, np.linspace(0, 1, n))\n",
    "        if len(np.unique(bins)) == 2:\n",
    "            bins = np.insert(bins, 0, 1)\n",
    "            bins[1] = bins[1]-(bins[1]/2)\n",
    "        d1 = pd.DataFrame({\"X\": notmiss.X, \"Y\": notmiss.Y, \"Bucket\": pd.cut(notmiss.X, np.unique(bins),include_lowest=True)}) \n",
    "        d2 = d1.groupby('Bucket', as_index=True)\n",
    "    \n",
    "    d3 = pd.DataFrame({},index=[])\n",
    "    d3[\"MIN_VALUE\"] = d2.min().X\n",
    "    d3[\"MAX_VALUE\"] = d2.max().X\n",
    "    d3[\"COUNT\"] = d2.count().Y\n",
    "    d3[\"EVENT\"] = d2.sum().Y\n",
    "    d3[\"NONEVENT\"] = d2.count().Y - d2.sum().Y\n",
    "    d3=d3.reset_index(drop=True)\n",
    "    \n",
    "    if len(justmiss.index) > 0:\n",
    "        d4 = pd.DataFrame({'MIN_VALUE':np.nan},index=[0])\n",
    "        d4[\"MAX_VALUE\"] = np.nan\n",
    "        d4[\"COUNT\"] = justmiss.count().Y\n",
    "        d4[\"EVENT\"] = justmiss.sum().Y\n",
    "        d4[\"NONEVENT\"] = justmiss.count().Y - justmiss.sum().Y\n",
    "        d3 = d3.append(d4,ignore_index=True)\n",
    "    \n",
    "    d3[\"EVENT_RATE\"] = d3.EVENT/d3.COUNT\n",
    "    d3[\"NON_EVENT_RATE\"] = d3.NONEVENT/d3.COUNT\n",
    "    d3[\"DIST_EVENT\"] = d3.EVENT/d3.sum().EVENT\n",
    "    d3[\"DIST_NON_EVENT\"] = d3.NONEVENT/d3.sum().NONEVENT\n",
    "    d3[\"WOE\"] = np.log(d3.DIST_EVENT/d3.DIST_NON_EVENT)\n",
    "    d3[\"IV\"] = (d3.DIST_EVENT-d3.DIST_NON_EVENT)*np.log(d3.DIST_EVENT/d3.DIST_NON_EVENT)\n",
    "    d3[\"VAR_NAME\"] = \"VAR\"\n",
    "    d3 = d3[['VAR_NAME','MIN_VALUE', 'MAX_VALUE', 'COUNT', 'EVENT', 'EVENT_RATE', 'NONEVENT', 'NON_EVENT_RATE', 'DIST_EVENT','DIST_NON_EVENT','WOE', 'IV']]       \n",
    "    d3 = d3.replace([np.inf, -np.inf], 0)\n",
    "    d3.IV = d3.IV.sum()\n",
    "    \n",
    "    return(d3)\n",
    "\n",
    "def char_bin(Y, X):\n",
    "        \n",
    "    df1 = pd.DataFrame({\"X\": X, \"Y\": Y})\n",
    "    justmiss = df1[['X','Y']][df1.X.isnull()]\n",
    "    notmiss = df1[['X','Y']][df1.X.notnull()]    \n",
    "    df2 = notmiss.groupby('X',as_index=True)\n",
    "    \n",
    "    d3 = pd.DataFrame({},index=[])\n",
    "    d3[\"COUNT\"] = df2.count().Y\n",
    "    d3[\"MIN_VALUE\"] = df2.sum().Y.index\n",
    "    d3[\"MAX_VALUE\"] = d3[\"MIN_VALUE\"]\n",
    "    d3[\"EVENT\"] = df2.sum().Y\n",
    "    d3[\"NONEVENT\"] = df2.count().Y - df2.sum().Y\n",
    "    \n",
    "    if len(justmiss.index) > 0:\n",
    "        d4 = pd.DataFrame({'MIN_VALUE':np.nan},index=[0])\n",
    "        d4[\"MAX_VALUE\"] = np.nan\n",
    "        d4[\"COUNT\"] = justmiss.count().Y\n",
    "        d4[\"EVENT\"] = justmiss.sum().Y\n",
    "        d4[\"NONEVENT\"] = justmiss.count().Y - justmiss.sum().Y\n",
    "        d3 = d3.append(d4,ignore_index=True)\n",
    "    \n",
    "    d3[\"EVENT_RATE\"] = d3.EVENT/d3.COUNT\n",
    "    d3[\"NON_EVENT_RATE\"] = d3.NONEVENT/d3.COUNT\n",
    "    d3[\"DIST_EVENT\"] = d3.EVENT/d3.sum().EVENT\n",
    "    d3[\"DIST_NON_EVENT\"] = d3.NONEVENT/d3.sum().NONEVENT\n",
    "    d3[\"WOE\"] = np.log(d3.DIST_EVENT/d3.DIST_NON_EVENT)\n",
    "    d3[\"IV\"] = (d3.DIST_EVENT-d3.DIST_NON_EVENT)*np.log(d3.DIST_EVENT/d3.DIST_NON_EVENT)\n",
    "    d3[\"VAR_NAME\"] = \"VAR\"\n",
    "    d3 = d3[['VAR_NAME','MIN_VALUE', 'MAX_VALUE', 'COUNT', 'EVENT', 'EVENT_RATE', 'NONEVENT', 'NON_EVENT_RATE', 'DIST_EVENT','DIST_NON_EVENT','WOE', 'IV']]      \n",
    "    d3 = d3.replace([np.inf, -np.inf], 0)\n",
    "    d3.IV = d3.IV.sum()\n",
    "    d3 = d3.reset_index(drop=True)\n",
    "    \n",
    "    return(d3)\n",
    "\n",
    "def data_vars(df1, target):\n",
    "    \n",
    "    stack = traceback.extract_stack()\n",
    "    filename, lineno, function_name, code = stack[-2]\n",
    "    vars_name = re.compile(r'\\((.*?)\\).*$').search(code).groups()[0]\n",
    "    final = (re.findall(r\"[\\w']+\", vars_name))[-1]\n",
    "    \n",
    "    x = df1.dtypes.index\n",
    "    count = -1\n",
    "    \n",
    "    for i in x:\n",
    "        if i.upper() not in (final.upper()):\n",
    "            if np.issubdtype(df1[i], np.number) and len(Series.unique(df1[i])) > 2:\n",
    "                conv = mono_bin(target, df1[i])\n",
    "                conv[\"VAR_NAME\"] = i\n",
    "                count = count + 1\n",
    "            else:\n",
    "                conv = char_bin(target, df1[i])\n",
    "                conv[\"VAR_NAME\"] = i            \n",
    "                count = count + 1\n",
    "                \n",
    "            if count == 0:\n",
    "                iv_df = conv\n",
    "            else:\n",
    "                iv_df = iv_df.append(conv,ignore_index=True)\n",
    "    \n",
    "    iv = pd.DataFrame({'IV':iv_df.groupby('VAR_NAME').IV.max()})\n",
    "    iv = iv.reset_index()\n",
    "    return(iv_df,iv) "
   ]
  },
  {
   "cell_type": "code",
   "execution_count": 23,
   "id": "b805cb7b",
   "metadata": {},
   "outputs": [
    {
     "name": "stderr",
     "output_type": "stream",
     "text": [
      "C:\\Users\\Rishi\\anaconda3\\lib\\site-packages\\pandas\\core\\arraylike.py:358: RuntimeWarning: divide by zero encountered in log\n",
      "  result = getattr(ufunc, method)(*inputs, **kwargs)\n"
     ]
    },
    {
     "name": "stdout",
     "output_type": "stream",
     "text": [
      "0.02884376049041748\n"
     ]
    }
   ],
   "source": [
    "t = time.time()\n",
    "final_iv, IV = data_vars(X_train,y_train)\n",
    "t = time.time() - t\n",
    "print(t/60)"
   ]
  },
  {
   "cell_type": "code",
   "execution_count": 24,
   "id": "1b3ee0fa",
   "metadata": {},
   "outputs": [
    {
     "name": "stdout",
     "output_type": "stream",
     "text": [
      "0.0039231260617574055\n"
     ]
    }
   ],
   "source": [
    "t = time.time()\n",
    "temp_corr = X_train.corr()\n",
    "#temp_corr.to_csv('corr.csv')\n",
    "t = time.time() - t\n",
    "print(t/60)"
   ]
  },
  {
   "cell_type": "code",
   "execution_count": 25,
   "id": "f4d9e7ab",
   "metadata": {},
   "outputs": [
    {
     "name": "stdout",
     "output_type": "stream",
     "text": [
      "Wall time: 26.9 ms\n"
     ]
    },
    {
     "data": {
      "text/plain": [
       "8"
      ]
     },
     "execution_count": 25,
     "metadata": {},
     "output_type": "execute_result"
    }
   ],
   "source": [
    "%%time\n",
    "correlated = []\n",
    "temp = (temp_corr.abs().apply(lambda x : round(x,2)) >= 0.6).astype(int)\n",
    "for col in temp.columns:\n",
    "    temp2 = temp[col]\n",
    "    indexes = [i for i in temp2[temp2 == 1].index]\n",
    "    for ind in indexes:\n",
    "        pair = set([col,ind])\n",
    "        pair = list(pair)\n",
    "        if ((pair not in correlated) & (len(pair) > 1)):\n",
    "            correlated.append(pair)\n",
    "\n",
    "clustered_variables = list(merge_common(correlated))\n",
    "len(clustered_variables)"
   ]
  },
  {
   "cell_type": "code",
   "execution_count": 26,
   "id": "db597c10",
   "metadata": {},
   "outputs": [
    {
     "data": {
      "text/html": [
       "<div>\n",
       "<style scoped>\n",
       "    .dataframe tbody tr th:only-of-type {\n",
       "        vertical-align: middle;\n",
       "    }\n",
       "\n",
       "    .dataframe tbody tr th {\n",
       "        vertical-align: top;\n",
       "    }\n",
       "\n",
       "    .dataframe thead th {\n",
       "        text-align: right;\n",
       "    }\n",
       "</style>\n",
       "<table border=\"1\" class=\"dataframe\">\n",
       "  <thead>\n",
       "    <tr style=\"text-align: right;\">\n",
       "      <th></th>\n",
       "      <th>VAR_NAME</th>\n",
       "      <th>IV</th>\n",
       "    </tr>\n",
       "  </thead>\n",
       "  <tbody>\n",
       "    <tr>\n",
       "      <th>0</th>\n",
       "      <td>duration</td>\n",
       "      <td>1.558933e+00</td>\n",
       "    </tr>\n",
       "    <tr>\n",
       "      <th>1</th>\n",
       "      <td>poutcome_success</td>\n",
       "      <td>5.097745e-01</td>\n",
       "    </tr>\n",
       "    <tr>\n",
       "      <th>2</th>\n",
       "      <td>euribor3m</td>\n",
       "      <td>3.391209e-01</td>\n",
       "    </tr>\n",
       "    <tr>\n",
       "      <th>3</th>\n",
       "      <td>nr.employed</td>\n",
       "      <td>3.215236e-01</td>\n",
       "    </tr>\n",
       "    <tr>\n",
       "      <th>4</th>\n",
       "      <td>poutcome_nonexistent</td>\n",
       "      <td>2.877198e-01</td>\n",
       "    </tr>\n",
       "    <tr>\n",
       "      <th>...</th>\n",
       "      <td>...</td>\n",
       "      <td>...</td>\n",
       "    </tr>\n",
       "    <tr>\n",
       "      <th>56</th>\n",
       "      <td>day_of_week_fri</td>\n",
       "      <td>1.794525e-05</td>\n",
       "    </tr>\n",
       "    <tr>\n",
       "      <th>57</th>\n",
       "      <td>loan_yes</td>\n",
       "      <td>1.626723e-05</td>\n",
       "    </tr>\n",
       "    <tr>\n",
       "      <th>58</th>\n",
       "      <td>education_professional.course</td>\n",
       "      <td>1.128624e-05</td>\n",
       "    </tr>\n",
       "    <tr>\n",
       "      <th>59</th>\n",
       "      <td>loan_no</td>\n",
       "      <td>3.345802e-07</td>\n",
       "    </tr>\n",
       "    <tr>\n",
       "      <th>60</th>\n",
       "      <td>pdays</td>\n",
       "      <td>0.000000e+00</td>\n",
       "    </tr>\n",
       "  </tbody>\n",
       "</table>\n",
       "<p>61 rows × 2 columns</p>\n",
       "</div>"
      ],
      "text/plain": [
       "                         VAR_NAME            IV\n",
       "0                        duration  1.558933e+00\n",
       "1                poutcome_success  5.097745e-01\n",
       "2                       euribor3m  3.391209e-01\n",
       "3                     nr.employed  3.215236e-01\n",
       "4            poutcome_nonexistent  2.877198e-01\n",
       "..                            ...           ...\n",
       "56                day_of_week_fri  1.794525e-05\n",
       "57                       loan_yes  1.626723e-05\n",
       "58  education_professional.course  1.128624e-05\n",
       "59                        loan_no  3.345802e-07\n",
       "60                          pdays  0.000000e+00\n",
       "\n",
       "[61 rows x 2 columns]"
      ]
     },
     "execution_count": 26,
     "metadata": {},
     "output_type": "execute_result"
    }
   ],
   "source": [
    "IV = IV.sort_values(by=['IV'],ascending=False).reset_index(drop=True)\n",
    "IV"
   ]
  },
  {
   "cell_type": "code",
   "execution_count": 27,
   "id": "d514641b",
   "metadata": {},
   "outputs": [
    {
     "data": {
      "text/plain": [
       "(60,\n",
       " Index(['age', 'duration', 'campaign', 'previous', 'emp.var.rate',\n",
       "        'cons.price.idx', 'cons.conf.idx', 'euribor3m', 'nr.employed',\n",
       "        'job_admin.', 'job_blue-collar', 'job_entrepreneur', 'job_housemaid',\n",
       "        'job_management', 'job_retired', 'job_self-employed', 'job_services',\n",
       "        'job_student', 'job_technician', 'job_unemployed', 'job_unknown',\n",
       "        'marital_divorced', 'marital_married', 'marital_single',\n",
       "        'marital_unknown', 'education_basic.4y', 'education_basic.6y',\n",
       "        'education_basic.9y', 'education_high.school',\n",
       "        'education_professional.course', 'education_university.degree',\n",
       "        'education_unknown', 'default_no', 'default_unknown', 'housing_no',\n",
       "        'housing_unknown', 'housing_yes', 'loan_no', 'loan_unknown', 'loan_yes',\n",
       "        'contact_cellular', 'contact_telephone', 'month_apr', 'month_aug',\n",
       "        'month_dec', 'month_jul', 'month_jun', 'month_mar', 'month_may',\n",
       "        'month_nov', 'month_oct', 'month_sep', 'day_of_week_fri',\n",
       "        'day_of_week_mon', 'day_of_week_thu', 'day_of_week_tue',\n",
       "        'day_of_week_wed', 'poutcome_failure', 'poutcome_nonexistent',\n",
       "        'poutcome_success'],\n",
       "       dtype='object'))"
      ]
     },
     "execution_count": 27,
     "metadata": {},
     "output_type": "execute_result"
    }
   ],
   "source": [
    "zero_iv = list(IV[IV['IV'] == 0]['VAR_NAME'])\n",
    "X_train.drop(columns=zero_iv,inplace=True,errors='ignore')\n",
    "len(X_train.columns), X_train.columns"
   ]
  },
  {
   "cell_type": "code",
   "execution_count": 28,
   "id": "1e053270",
   "metadata": {},
   "outputs": [
    {
     "name": "stdout",
     "output_type": "stream",
     "text": [
      "poutcome_success\n",
      "euribor3m\n",
      "marital_single\n",
      "default_no\n",
      "housing_no\n",
      "housing_unknown\n",
      "loan_yes\n",
      "contact_cellular\n"
     ]
    },
    {
     "data": {
      "text/plain": [
       "45"
      ]
     },
     "execution_count": 28,
     "metadata": {},
     "output_type": "execute_result"
    }
   ],
   "source": [
    "for clus in clustered_variables:\n",
    "    df = pd.DataFrame(clus,columns=['VAR_NAME']).merge(IV,how='left').sort_values(by=['IV'],ascending=False)\n",
    "    print(df['VAR_NAME'].iloc[0])\n",
    "    drop_these = df['VAR_NAME'].iloc[1:]\n",
    "    X_train.drop(columns=drop_these,inplace=True,errors='ignore')\n",
    "gc.collect()"
   ]
  },
  {
   "cell_type": "code",
   "execution_count": 29,
   "id": "2049aa24",
   "metadata": {
    "scrolled": true
   },
   "outputs": [
    {
     "name": "stdout",
     "output_type": "stream",
     "text": [
      "48\n"
     ]
    },
    {
     "data": {
      "text/plain": [
       "Index(['age', 'duration', 'campaign', 'cons.conf.idx', 'euribor3m',\n",
       "       'job_admin.', 'job_blue-collar', 'job_entrepreneur', 'job_housemaid',\n",
       "       'job_management', 'job_retired', 'job_self-employed', 'job_services',\n",
       "       'job_student', 'job_technician', 'job_unemployed', 'job_unknown',\n",
       "       'marital_divorced', 'marital_single', 'marital_unknown',\n",
       "       'education_basic.4y', 'education_basic.6y', 'education_basic.9y',\n",
       "       'education_high.school', 'education_professional.course',\n",
       "       'education_university.degree', 'education_unknown', 'default_no',\n",
       "       'housing_no', 'housing_unknown', 'loan_yes', 'contact_cellular',\n",
       "       'month_apr', 'month_aug', 'month_dec', 'month_jul', 'month_jun',\n",
       "       'month_mar', 'month_may', 'month_nov', 'month_oct', 'month_sep',\n",
       "       'day_of_week_fri', 'day_of_week_mon', 'day_of_week_thu',\n",
       "       'day_of_week_tue', 'day_of_week_wed', 'poutcome_success'],\n",
       "      dtype='object')"
      ]
     },
     "execution_count": 29,
     "metadata": {},
     "output_type": "execute_result"
    }
   ],
   "source": [
    "print(len(X_train.columns))\n",
    "X_train.columns"
   ]
  },
  {
   "cell_type": "code",
   "execution_count": 30,
   "id": "b86bc335",
   "metadata": {},
   "outputs": [
    {
     "data": {
      "text/plain": [
       "(-1.0, 1.0)"
      ]
     },
     "execution_count": 30,
     "metadata": {},
     "output_type": "execute_result"
    },
    {
     "data": {
      "image/png": "[encoded data removed]",
      "text/plain": [
       "<Figure size 1080x720 with 1 Axes>"
      ]
     },
     "metadata": {
      "needs_background": "light"
     },
     "output_type": "display_data"
    }
   ],
   "source": [
    "temp = X_train.corr()\n",
    "temp = temp.apply(lambda x : np.round(x,2))\n",
    "temp_cols = list(temp.columns)\n",
    "for c in temp.columns:\n",
    "    temp[c].loc[c] = (-1)**(temp_cols.index(c))\n",
    "    \n",
    "plt.figure(figsize=(15,10))\n",
    "sns.heatmap(temp,annot=True,fmt='.1f',cbar=False,cmap='coolwarm')\n",
    "gc.collect()\n",
    "temp.min().min(), temp.max().max()"
   ]
  },
  {
   "cell_type": "code",
   "execution_count": 31,
   "id": "c6349f95",
   "metadata": {},
   "outputs": [
    {
     "data": {
      "text/html": [
       "<div>\n",
       "<style scoped>\n",
       "    .dataframe tbody tr th:only-of-type {\n",
       "        vertical-align: middle;\n",
       "    }\n",
       "\n",
       "    .dataframe tbody tr th {\n",
       "        vertical-align: top;\n",
       "    }\n",
       "\n",
       "    .dataframe thead th {\n",
       "        text-align: right;\n",
       "    }\n",
       "</style>\n",
       "<table border=\"1\" class=\"dataframe\">\n",
       "  <thead>\n",
       "    <tr style=\"text-align: right;\">\n",
       "      <th></th>\n",
       "      <th>correlation</th>\n",
       "      <th>abs_corr</th>\n",
       "    </tr>\n",
       "    <tr>\n",
       "      <th>feature</th>\n",
       "      <th></th>\n",
       "      <th></th>\n",
       "    </tr>\n",
       "  </thead>\n",
       "  <tbody>\n",
       "    <tr>\n",
       "      <th>duration</th>\n",
       "      <td>0.408052</td>\n",
       "      <td>0.408052</td>\n",
       "    </tr>\n",
       "    <tr>\n",
       "      <th>poutcome_success</th>\n",
       "      <td>0.312805</td>\n",
       "      <td>0.312805</td>\n",
       "    </tr>\n",
       "    <tr>\n",
       "      <th>euribor3m</th>\n",
       "      <td>-0.301064</td>\n",
       "      <td>0.301064</td>\n",
       "    </tr>\n",
       "    <tr>\n",
       "      <th>contact_cellular</th>\n",
       "      <td>0.142142</td>\n",
       "      <td>0.142142</td>\n",
       "    </tr>\n",
       "    <tr>\n",
       "      <th>month_mar</th>\n",
       "      <td>0.140357</td>\n",
       "      <td>0.140357</td>\n",
       "    </tr>\n",
       "    <tr>\n",
       "      <th>month_oct</th>\n",
       "      <td>0.136801</td>\n",
       "      <td>0.136801</td>\n",
       "    </tr>\n",
       "    <tr>\n",
       "      <th>month_sep</th>\n",
       "      <td>0.126986</td>\n",
       "      <td>0.126986</td>\n",
       "    </tr>\n",
       "    <tr>\n",
       "      <th>month_may</th>\n",
       "      <td>-0.105595</td>\n",
       "      <td>0.105595</td>\n",
       "    </tr>\n",
       "    <tr>\n",
       "      <th>default_no</th>\n",
       "      <td>0.098455</td>\n",
       "      <td>0.098455</td>\n",
       "    </tr>\n",
       "    <tr>\n",
       "      <th>job_retired</th>\n",
       "      <td>0.090353</td>\n",
       "      <td>0.090353</td>\n",
       "    </tr>\n",
       "    <tr>\n",
       "      <th>job_student</th>\n",
       "      <td>0.086002</td>\n",
       "      <td>0.086002</td>\n",
       "    </tr>\n",
       "    <tr>\n",
       "      <th>month_dec</th>\n",
       "      <td>0.084018</td>\n",
       "      <td>0.084018</td>\n",
       "    </tr>\n",
       "    <tr>\n",
       "      <th>job_blue-collar</th>\n",
       "      <td>-0.071587</td>\n",
       "      <td>0.071587</td>\n",
       "    </tr>\n",
       "    <tr>\n",
       "      <th>month_apr</th>\n",
       "      <td>0.071300</td>\n",
       "      <td>0.071300</td>\n",
       "    </tr>\n",
       "    <tr>\n",
       "      <th>campaign</th>\n",
       "      <td>-0.065104</td>\n",
       "      <td>0.065104</td>\n",
       "    </tr>\n",
       "    <tr>\n",
       "      <th>marital_single</th>\n",
       "      <td>0.055818</td>\n",
       "      <td>0.055818</td>\n",
       "    </tr>\n",
       "    <tr>\n",
       "      <th>cons.conf.idx</th>\n",
       "      <td>0.054672</td>\n",
       "      <td>0.054672</td>\n",
       "    </tr>\n",
       "    <tr>\n",
       "      <th>education_university.degree</th>\n",
       "      <td>0.048394</td>\n",
       "      <td>0.048394</td>\n",
       "    </tr>\n",
       "    <tr>\n",
       "      <th>education_basic.9y</th>\n",
       "      <td>-0.047104</td>\n",
       "      <td>0.047104</td>\n",
       "    </tr>\n",
       "    <tr>\n",
       "      <th>job_services</th>\n",
       "      <td>-0.032959</td>\n",
       "      <td>0.032959</td>\n",
       "    </tr>\n",
       "    <tr>\n",
       "      <th>age</th>\n",
       "      <td>0.028246</td>\n",
       "      <td>0.028246</td>\n",
       "    </tr>\n",
       "    <tr>\n",
       "      <th>job_admin.</th>\n",
       "      <td>0.027810</td>\n",
       "      <td>0.027810</td>\n",
       "    </tr>\n",
       "    <tr>\n",
       "      <th>month_jul</th>\n",
       "      <td>-0.027277</td>\n",
       "      <td>0.027277</td>\n",
       "    </tr>\n",
       "    <tr>\n",
       "      <th>education_basic.6y</th>\n",
       "      <td>-0.023768</td>\n",
       "      <td>0.023768</td>\n",
       "    </tr>\n",
       "    <tr>\n",
       "      <th>education_unknown</th>\n",
       "      <td>0.022472</td>\n",
       "      <td>0.022472</td>\n",
       "    </tr>\n",
       "    <tr>\n",
       "      <th>job_unemployed</th>\n",
       "      <td>0.017837</td>\n",
       "      <td>0.017837</td>\n",
       "    </tr>\n",
       "    <tr>\n",
       "      <th>day_of_week_mon</th>\n",
       "      <td>-0.016746</td>\n",
       "      <td>0.016746</td>\n",
       "    </tr>\n",
       "    <tr>\n",
       "      <th>job_entrepreneur</th>\n",
       "      <td>-0.015548</td>\n",
       "      <td>0.015548</td>\n",
       "    </tr>\n",
       "    <tr>\n",
       "      <th>month_jun</th>\n",
       "      <td>-0.013727</td>\n",
       "      <td>0.013727</td>\n",
       "    </tr>\n",
       "    <tr>\n",
       "      <th>marital_unknown</th>\n",
       "      <td>0.012749</td>\n",
       "      <td>0.012749</td>\n",
       "    </tr>\n",
       "    <tr>\n",
       "      <th>month_nov</th>\n",
       "      <td>-0.011873</td>\n",
       "      <td>0.011873</td>\n",
       "    </tr>\n",
       "    <tr>\n",
       "      <th>marital_divorced</th>\n",
       "      <td>-0.011315</td>\n",
       "      <td>0.011315</td>\n",
       "    </tr>\n",
       "    <tr>\n",
       "      <th>day_of_week_thu</th>\n",
       "      <td>0.010935</td>\n",
       "      <td>0.010935</td>\n",
       "    </tr>\n",
       "    <tr>\n",
       "      <th>month_aug</th>\n",
       "      <td>-0.010541</td>\n",
       "      <td>0.010541</td>\n",
       "    </tr>\n",
       "    <tr>\n",
       "      <th>job_self-employed</th>\n",
       "      <td>-0.008415</td>\n",
       "      <td>0.008415</td>\n",
       "    </tr>\n",
       "    <tr>\n",
       "      <th>education_basic.4y</th>\n",
       "      <td>-0.007755</td>\n",
       "      <td>0.007755</td>\n",
       "    </tr>\n",
       "    <tr>\n",
       "      <th>housing_no</th>\n",
       "      <td>-0.007476</td>\n",
       "      <td>0.007476</td>\n",
       "    </tr>\n",
       "    <tr>\n",
       "      <th>education_high.school</th>\n",
       "      <td>-0.006563</td>\n",
       "      <td>0.006563</td>\n",
       "    </tr>\n",
       "    <tr>\n",
       "      <th>job_unknown</th>\n",
       "      <td>0.005770</td>\n",
       "      <td>0.005770</td>\n",
       "    </tr>\n",
       "    <tr>\n",
       "      <th>job_technician</th>\n",
       "      <td>-0.004998</td>\n",
       "      <td>0.004998</td>\n",
       "    </tr>\n",
       "    <tr>\n",
       "      <th>day_of_week_wed</th>\n",
       "      <td>0.004507</td>\n",
       "      <td>0.004507</td>\n",
       "    </tr>\n",
       "    <tr>\n",
       "      <th>job_housemaid</th>\n",
       "      <td>-0.004434</td>\n",
       "      <td>0.004434</td>\n",
       "    </tr>\n",
       "    <tr>\n",
       "      <th>day_of_week_tue</th>\n",
       "      <td>0.002733</td>\n",
       "      <td>0.002733</td>\n",
       "    </tr>\n",
       "    <tr>\n",
       "      <th>housing_unknown</th>\n",
       "      <td>0.002504</td>\n",
       "      <td>0.002504</td>\n",
       "    </tr>\n",
       "    <tr>\n",
       "      <th>job_management</th>\n",
       "      <td>0.002377</td>\n",
       "      <td>0.002377</td>\n",
       "    </tr>\n",
       "    <tr>\n",
       "      <th>day_of_week_fri</th>\n",
       "      <td>-0.001338</td>\n",
       "      <td>0.001338</td>\n",
       "    </tr>\n",
       "    <tr>\n",
       "      <th>loan_yes</th>\n",
       "      <td>-0.001273</td>\n",
       "      <td>0.001273</td>\n",
       "    </tr>\n",
       "    <tr>\n",
       "      <th>education_professional.course</th>\n",
       "      <td>0.001064</td>\n",
       "      <td>0.001064</td>\n",
       "    </tr>\n",
       "  </tbody>\n",
       "</table>\n",
       "</div>"
      ],
      "text/plain": [
       "                               correlation  abs_corr\n",
       "feature                                             \n",
       "duration                          0.408052  0.408052\n",
       "poutcome_success                  0.312805  0.312805\n",
       "euribor3m                        -0.301064  0.301064\n",
       "contact_cellular                  0.142142  0.142142\n",
       "month_mar                         0.140357  0.140357\n",
       "month_oct                         0.136801  0.136801\n",
       "month_sep                         0.126986  0.126986\n",
       "month_may                        -0.105595  0.105595\n",
       "default_no                        0.098455  0.098455\n",
       "job_retired                       0.090353  0.090353\n",
       "job_student                       0.086002  0.086002\n",
       "month_dec                         0.084018  0.084018\n",
       "job_blue-collar                  -0.071587  0.071587\n",
       "month_apr                         0.071300  0.071300\n",
       "campaign                         -0.065104  0.065104\n",
       "marital_single                    0.055818  0.055818\n",
       "cons.conf.idx                     0.054672  0.054672\n",
       "education_university.degree       0.048394  0.048394\n",
       "education_basic.9y               -0.047104  0.047104\n",
       "job_services                     -0.032959  0.032959\n",
       "age                               0.028246  0.028246\n",
       "job_admin.                        0.027810  0.027810\n",
       "month_jul                        -0.027277  0.027277\n",
       "education_basic.6y               -0.023768  0.023768\n",
       "education_unknown                 0.022472  0.022472\n",
       "job_unemployed                    0.017837  0.017837\n",
       "day_of_week_mon                  -0.016746  0.016746\n",
       "job_entrepreneur                 -0.015548  0.015548\n",
       "month_jun                        -0.013727  0.013727\n",
       "marital_unknown                   0.012749  0.012749\n",
       "month_nov                        -0.011873  0.011873\n",
       "marital_divorced                 -0.011315  0.011315\n",
       "day_of_week_thu                   0.010935  0.010935\n",
       "month_aug                        -0.010541  0.010541\n",
       "job_self-employed                -0.008415  0.008415\n",
       "education_basic.4y               -0.007755  0.007755\n",
       "housing_no                       -0.007476  0.007476\n",
       "education_high.school            -0.006563  0.006563\n",
       "job_unknown                       0.005770  0.005770\n",
       "job_technician                   -0.004998  0.004998\n",
       "day_of_week_wed                   0.004507  0.004507\n",
       "job_housemaid                    -0.004434  0.004434\n",
       "day_of_week_tue                   0.002733  0.002733\n",
       "housing_unknown                   0.002504  0.002504\n",
       "job_management                    0.002377  0.002377\n",
       "day_of_week_fri                  -0.001338  0.001338\n",
       "loan_yes                         -0.001273  0.001273\n",
       "education_professional.course     0.001064  0.001064"
      ]
     },
     "execution_count": 31,
     "metadata": {},
     "output_type": "execute_result"
    }
   ],
   "source": [
    "temp = X_train.corrwith(y_train.loc[X_train.index]).reset_index()\n",
    "temp.columns = ['feature','correlation']\n",
    "temp['abs_corr'] = temp['correlation'].abs()\n",
    "temp.index = temp['feature']\n",
    "temp = temp.sort_values(by=['abs_corr'],ascending=False).drop(columns=['feature'])\n",
    "temp"
   ]
  },
  {
   "cell_type": "markdown",
   "id": "44205a1c",
   "metadata": {},
   "source": [
    "# Model"
   ]
  },
  {
   "cell_type": "code",
   "execution_count": 32,
   "id": "8a39d357",
   "metadata": {},
   "outputs": [
    {
     "data": {
      "text/plain": [
       "Index(['age', 'duration', 'campaign', 'cons.conf.idx', 'euribor3m',\n",
       "       'job_admin.', 'job_blue-collar', 'job_entrepreneur', 'job_housemaid',\n",
       "       'job_management', 'job_retired', 'job_self-employed', 'job_services',\n",
       "       'job_student', 'job_technician', 'job_unemployed', 'job_unknown',\n",
       "       'marital_divorced', 'marital_single', 'marital_unknown',\n",
       "       'education_basic.4y', 'education_basic.6y', 'education_basic.9y',\n",
       "       'education_high.school', 'education_professional.course',\n",
       "       'education_university.degree', 'education_unknown', 'default_no',\n",
       "       'housing_no', 'housing_unknown', 'loan_yes', 'contact_cellular',\n",
       "       'month_apr', 'month_aug', 'month_dec', 'month_jul', 'month_jun',\n",
       "       'month_mar', 'month_may', 'month_nov', 'month_oct', 'month_sep',\n",
       "       'day_of_week_fri', 'day_of_week_mon', 'day_of_week_thu',\n",
       "       'day_of_week_tue', 'day_of_week_wed', 'poutcome_success'],\n",
       "      dtype='object')"
      ]
     },
     "execution_count": 32,
     "metadata": {},
     "output_type": "execute_result"
    }
   ],
   "source": [
    "X_train.columns"
   ]
  },
  {
   "cell_type": "code",
   "execution_count": 33,
   "id": "ab4a4b2e",
   "metadata": {},
   "outputs": [
    {
     "data": {
      "text/html": [
       "<div>\n",
       "<style scoped>\n",
       "    .dataframe tbody tr th:only-of-type {\n",
       "        vertical-align: middle;\n",
       "    }\n",
       "\n",
       "    .dataframe tbody tr th {\n",
       "        vertical-align: top;\n",
       "    }\n",
       "\n",
       "    .dataframe thead th {\n",
       "        text-align: right;\n",
       "    }\n",
       "</style>\n",
       "<table border=\"1\" class=\"dataframe\">\n",
       "  <thead>\n",
       "    <tr style=\"text-align: right;\">\n",
       "      <th></th>\n",
       "      <th>age</th>\n",
       "      <th>duration</th>\n",
       "      <th>campaign</th>\n",
       "      <th>cons.conf.idx</th>\n",
       "      <th>euribor3m</th>\n",
       "      <th>job_admin.</th>\n",
       "      <th>job_blue-collar</th>\n",
       "      <th>job_entrepreneur</th>\n",
       "      <th>job_housemaid</th>\n",
       "      <th>job_management</th>\n",
       "      <th>...</th>\n",
       "      <th>month_may</th>\n",
       "      <th>month_nov</th>\n",
       "      <th>month_oct</th>\n",
       "      <th>month_sep</th>\n",
       "      <th>day_of_week_fri</th>\n",
       "      <th>day_of_week_mon</th>\n",
       "      <th>day_of_week_thu</th>\n",
       "      <th>day_of_week_tue</th>\n",
       "      <th>day_of_week_wed</th>\n",
       "      <th>poutcome_success</th>\n",
       "    </tr>\n",
       "  </thead>\n",
       "  <tbody>\n",
       "    <tr>\n",
       "      <th>37083</th>\n",
       "      <td>-1.335610</td>\n",
       "      <td>-0.127960</td>\n",
       "      <td>-0.210113</td>\n",
       "      <td>1.490549</td>\n",
       "      <td>-1.530589</td>\n",
       "      <td>1.723345</td>\n",
       "      <td>-0.541608</td>\n",
       "      <td>-0.195215</td>\n",
       "      <td>-0.164467</td>\n",
       "      <td>-0.272407</td>\n",
       "      <td>...</td>\n",
       "      <td>-0.709449</td>\n",
       "      <td>-0.33574</td>\n",
       "      <td>-0.128262</td>\n",
       "      <td>-0.115517</td>\n",
       "      <td>-0.475310</td>\n",
       "      <td>-0.508882</td>\n",
       "      <td>-0.518262</td>\n",
       "      <td>-0.500621</td>\n",
       "      <td>2.013246</td>\n",
       "      <td>-0.178997</td>\n",
       "    </tr>\n",
       "    <tr>\n",
       "      <th>37701</th>\n",
       "      <td>2.470618</td>\n",
       "      <td>-0.685170</td>\n",
       "      <td>0.147208</td>\n",
       "      <td>1.965812</td>\n",
       "      <td>-1.602810</td>\n",
       "      <td>-0.580267</td>\n",
       "      <td>-0.541608</td>\n",
       "      <td>-0.195215</td>\n",
       "      <td>-0.164467</td>\n",
       "      <td>-0.272407</td>\n",
       "      <td>...</td>\n",
       "      <td>-0.709449</td>\n",
       "      <td>-0.33574</td>\n",
       "      <td>-0.128262</td>\n",
       "      <td>-0.115517</td>\n",
       "      <td>-0.475310</td>\n",
       "      <td>-0.508882</td>\n",
       "      <td>-0.518262</td>\n",
       "      <td>-0.500621</td>\n",
       "      <td>2.013246</td>\n",
       "      <td>-0.178997</td>\n",
       "    </tr>\n",
       "    <tr>\n",
       "      <th>37370</th>\n",
       "      <td>0.948127</td>\n",
       "      <td>1.276673</td>\n",
       "      <td>-0.210113</td>\n",
       "      <td>1.965812</td>\n",
       "      <td>-1.586055</td>\n",
       "      <td>-0.580267</td>\n",
       "      <td>1.846352</td>\n",
       "      <td>-0.195215</td>\n",
       "      <td>-0.164467</td>\n",
       "      <td>-0.272407</td>\n",
       "      <td>...</td>\n",
       "      <td>-0.709449</td>\n",
       "      <td>-0.33574</td>\n",
       "      <td>-0.128262</td>\n",
       "      <td>-0.115517</td>\n",
       "      <td>-0.475310</td>\n",
       "      <td>-0.508882</td>\n",
       "      <td>-0.518262</td>\n",
       "      <td>1.997520</td>\n",
       "      <td>-0.496710</td>\n",
       "      <td>-0.178997</td>\n",
       "    </tr>\n",
       "    <tr>\n",
       "      <th>973</th>\n",
       "      <td>-0.288897</td>\n",
       "      <td>-0.723865</td>\n",
       "      <td>-0.567434</td>\n",
       "      <td>0.885669</td>\n",
       "      <td>0.709430</td>\n",
       "      <td>1.723345</td>\n",
       "      <td>-0.541608</td>\n",
       "      <td>-0.195215</td>\n",
       "      <td>-0.164467</td>\n",
       "      <td>-0.272407</td>\n",
       "      <td>...</td>\n",
       "      <td>1.409545</td>\n",
       "      <td>-0.33574</td>\n",
       "      <td>-0.128262</td>\n",
       "      <td>-0.115517</td>\n",
       "      <td>-0.475310</td>\n",
       "      <td>-0.508882</td>\n",
       "      <td>-0.518262</td>\n",
       "      <td>-0.500621</td>\n",
       "      <td>2.013246</td>\n",
       "      <td>-0.178997</td>\n",
       "    </tr>\n",
       "    <tr>\n",
       "      <th>15172</th>\n",
       "      <td>-1.335610</td>\n",
       "      <td>0.015212</td>\n",
       "      <td>1.219171</td>\n",
       "      <td>-0.475313</td>\n",
       "      <td>0.768363</td>\n",
       "      <td>1.723345</td>\n",
       "      <td>-0.541608</td>\n",
       "      <td>-0.195215</td>\n",
       "      <td>-0.164467</td>\n",
       "      <td>-0.272407</td>\n",
       "      <td>...</td>\n",
       "      <td>-0.709449</td>\n",
       "      <td>-0.33574</td>\n",
       "      <td>-0.128262</td>\n",
       "      <td>-0.115517</td>\n",
       "      <td>-0.475310</td>\n",
       "      <td>-0.508882</td>\n",
       "      <td>1.929526</td>\n",
       "      <td>-0.500621</td>\n",
       "      <td>-0.496710</td>\n",
       "      <td>-0.178997</td>\n",
       "    </tr>\n",
       "    <tr>\n",
       "      <th>...</th>\n",
       "      <td>...</td>\n",
       "      <td>...</td>\n",
       "      <td>...</td>\n",
       "      <td>...</td>\n",
       "      <td>...</td>\n",
       "      <td>...</td>\n",
       "      <td>...</td>\n",
       "      <td>...</td>\n",
       "      <td>...</td>\n",
       "      <td>...</td>\n",
       "      <td>...</td>\n",
       "      <td>...</td>\n",
       "      <td>...</td>\n",
       "      <td>...</td>\n",
       "      <td>...</td>\n",
       "      <td>...</td>\n",
       "      <td>...</td>\n",
       "      <td>...</td>\n",
       "      <td>...</td>\n",
       "      <td>...</td>\n",
       "      <td>...</td>\n",
       "    </tr>\n",
       "    <tr>\n",
       "      <th>9658</th>\n",
       "      <td>1.709373</td>\n",
       "      <td>0.224166</td>\n",
       "      <td>-0.567434</td>\n",
       "      <td>-0.280887</td>\n",
       "      <td>0.770096</td>\n",
       "      <td>-0.580267</td>\n",
       "      <td>-0.541608</td>\n",
       "      <td>-0.195215</td>\n",
       "      <td>-0.164467</td>\n",
       "      <td>-0.272407</td>\n",
       "      <td>...</td>\n",
       "      <td>-0.709449</td>\n",
       "      <td>-0.33574</td>\n",
       "      <td>-0.128262</td>\n",
       "      <td>-0.115517</td>\n",
       "      <td>-0.475310</td>\n",
       "      <td>1.965092</td>\n",
       "      <td>-0.518262</td>\n",
       "      <td>-0.500621</td>\n",
       "      <td>-0.496710</td>\n",
       "      <td>-0.178997</td>\n",
       "    </tr>\n",
       "    <tr>\n",
       "      <th>3656</th>\n",
       "      <td>0.091726</td>\n",
       "      <td>-0.336914</td>\n",
       "      <td>0.504529</td>\n",
       "      <td>0.885669</td>\n",
       "      <td>0.711163</td>\n",
       "      <td>-0.580267</td>\n",
       "      <td>-0.541608</td>\n",
       "      <td>-0.195215</td>\n",
       "      <td>-0.164467</td>\n",
       "      <td>3.670972</td>\n",
       "      <td>...</td>\n",
       "      <td>1.409545</td>\n",
       "      <td>-0.33574</td>\n",
       "      <td>-0.128262</td>\n",
       "      <td>-0.115517</td>\n",
       "      <td>2.103889</td>\n",
       "      <td>-0.508882</td>\n",
       "      <td>-0.518262</td>\n",
       "      <td>-0.500621</td>\n",
       "      <td>-0.496710</td>\n",
       "      <td>-0.178997</td>\n",
       "    </tr>\n",
       "    <tr>\n",
       "      <th>15698</th>\n",
       "      <td>-0.574364</td>\n",
       "      <td>-0.255654</td>\n",
       "      <td>-0.567434</td>\n",
       "      <td>-0.475313</td>\n",
       "      <td>0.769518</td>\n",
       "      <td>1.723345</td>\n",
       "      <td>-0.541608</td>\n",
       "      <td>-0.195215</td>\n",
       "      <td>-0.164467</td>\n",
       "      <td>-0.272407</td>\n",
       "      <td>...</td>\n",
       "      <td>-0.709449</td>\n",
       "      <td>-0.33574</td>\n",
       "      <td>-0.128262</td>\n",
       "      <td>-0.115517</td>\n",
       "      <td>-0.475310</td>\n",
       "      <td>1.965092</td>\n",
       "      <td>-0.518262</td>\n",
       "      <td>-0.500621</td>\n",
       "      <td>-0.496710</td>\n",
       "      <td>-0.178997</td>\n",
       "    </tr>\n",
       "    <tr>\n",
       "      <th>23162</th>\n",
       "      <td>1.328750</td>\n",
       "      <td>-0.155047</td>\n",
       "      <td>0.147208</td>\n",
       "      <td>0.950477</td>\n",
       "      <td>0.772407</td>\n",
       "      <td>1.723345</td>\n",
       "      <td>-0.541608</td>\n",
       "      <td>-0.195215</td>\n",
       "      <td>-0.164467</td>\n",
       "      <td>-0.272407</td>\n",
       "      <td>...</td>\n",
       "      <td>-0.709449</td>\n",
       "      <td>-0.33574</td>\n",
       "      <td>-0.128262</td>\n",
       "      <td>-0.115517</td>\n",
       "      <td>-0.475310</td>\n",
       "      <td>-0.508882</td>\n",
       "      <td>-0.518262</td>\n",
       "      <td>1.997520</td>\n",
       "      <td>-0.496710</td>\n",
       "      <td>-0.178997</td>\n",
       "    </tr>\n",
       "    <tr>\n",
       "      <th>32078</th>\n",
       "      <td>-0.859832</td>\n",
       "      <td>-0.843820</td>\n",
       "      <td>-0.567434</td>\n",
       "      <td>-1.231413</td>\n",
       "      <td>-1.337613</td>\n",
       "      <td>-0.580267</td>\n",
       "      <td>1.846352</td>\n",
       "      <td>-0.195215</td>\n",
       "      <td>-0.164467</td>\n",
       "      <td>-0.272407</td>\n",
       "      <td>...</td>\n",
       "      <td>1.409545</td>\n",
       "      <td>-0.33574</td>\n",
       "      <td>-0.128262</td>\n",
       "      <td>-0.115517</td>\n",
       "      <td>2.103889</td>\n",
       "      <td>-0.508882</td>\n",
       "      <td>-0.518262</td>\n",
       "      <td>-0.500621</td>\n",
       "      <td>-0.496710</td>\n",
       "      <td>-0.178997</td>\n",
       "    </tr>\n",
       "  </tbody>\n",
       "</table>\n",
       "<p>13593 rows × 48 columns</p>\n",
       "</div>"
      ],
      "text/plain": [
       "            age  duration  campaign  cons.conf.idx  euribor3m  job_admin.  \\\n",
       "37083 -1.335610 -0.127960 -0.210113       1.490549  -1.530589    1.723345   \n",
       "37701  2.470618 -0.685170  0.147208       1.965812  -1.602810   -0.580267   \n",
       "37370  0.948127  1.276673 -0.210113       1.965812  -1.586055   -0.580267   \n",
       "973   -0.288897 -0.723865 -0.567434       0.885669   0.709430    1.723345   \n",
       "15172 -1.335610  0.015212  1.219171      -0.475313   0.768363    1.723345   \n",
       "...         ...       ...       ...            ...        ...         ...   \n",
       "9658   1.709373  0.224166 -0.567434      -0.280887   0.770096   -0.580267   \n",
       "3656   0.091726 -0.336914  0.504529       0.885669   0.711163   -0.580267   \n",
       "15698 -0.574364 -0.255654 -0.567434      -0.475313   0.769518    1.723345   \n",
       "23162  1.328750 -0.155047  0.147208       0.950477   0.772407    1.723345   \n",
       "32078 -0.859832 -0.843820 -0.567434      -1.231413  -1.337613   -0.580267   \n",
       "\n",
       "       job_blue-collar  job_entrepreneur  job_housemaid  job_management  ...  \\\n",
       "37083        -0.541608         -0.195215      -0.164467       -0.272407  ...   \n",
       "37701        -0.541608         -0.195215      -0.164467       -0.272407  ...   \n",
       "37370         1.846352         -0.195215      -0.164467       -0.272407  ...   \n",
       "973          -0.541608         -0.195215      -0.164467       -0.272407  ...   \n",
       "15172        -0.541608         -0.195215      -0.164467       -0.272407  ...   \n",
       "...                ...               ...            ...             ...  ...   \n",
       "9658         -0.541608         -0.195215      -0.164467       -0.272407  ...   \n",
       "3656         -0.541608         -0.195215      -0.164467        3.670972  ...   \n",
       "15698        -0.541608         -0.195215      -0.164467       -0.272407  ...   \n",
       "23162        -0.541608         -0.195215      -0.164467       -0.272407  ...   \n",
       "32078         1.846352         -0.195215      -0.164467       -0.272407  ...   \n",
       "\n",
       "       month_may  month_nov  month_oct  month_sep  day_of_week_fri  \\\n",
       "37083  -0.709449   -0.33574  -0.128262  -0.115517        -0.475310   \n",
       "37701  -0.709449   -0.33574  -0.128262  -0.115517        -0.475310   \n",
       "37370  -0.709449   -0.33574  -0.128262  -0.115517        -0.475310   \n",
       "973     1.409545   -0.33574  -0.128262  -0.115517        -0.475310   \n",
       "15172  -0.709449   -0.33574  -0.128262  -0.115517        -0.475310   \n",
       "...          ...        ...        ...        ...              ...   \n",
       "9658   -0.709449   -0.33574  -0.128262  -0.115517        -0.475310   \n",
       "3656    1.409545   -0.33574  -0.128262  -0.115517         2.103889   \n",
       "15698  -0.709449   -0.33574  -0.128262  -0.115517        -0.475310   \n",
       "23162  -0.709449   -0.33574  -0.128262  -0.115517        -0.475310   \n",
       "32078   1.409545   -0.33574  -0.128262  -0.115517         2.103889   \n",
       "\n",
       "       day_of_week_mon  day_of_week_thu  day_of_week_tue  day_of_week_wed  \\\n",
       "37083        -0.508882        -0.518262        -0.500621         2.013246   \n",
       "37701        -0.508882        -0.518262        -0.500621         2.013246   \n",
       "37370        -0.508882        -0.518262         1.997520        -0.496710   \n",
       "973          -0.508882        -0.518262        -0.500621         2.013246   \n",
       "15172        -0.508882         1.929526        -0.500621        -0.496710   \n",
       "...                ...              ...              ...              ...   \n",
       "9658          1.965092        -0.518262        -0.500621        -0.496710   \n",
       "3656         -0.508882        -0.518262        -0.500621        -0.496710   \n",
       "15698         1.965092        -0.518262        -0.500621        -0.496710   \n",
       "23162        -0.508882        -0.518262         1.997520        -0.496710   \n",
       "32078        -0.508882        -0.518262        -0.500621        -0.496710   \n",
       "\n",
       "       poutcome_success  \n",
       "37083         -0.178997  \n",
       "37701         -0.178997  \n",
       "37370         -0.178997  \n",
       "973           -0.178997  \n",
       "15172         -0.178997  \n",
       "...                 ...  \n",
       "9658          -0.178997  \n",
       "3656          -0.178997  \n",
       "15698         -0.178997  \n",
       "23162         -0.178997  \n",
       "32078         -0.178997  \n",
       "\n",
       "[13593 rows x 48 columns]"
      ]
     },
     "execution_count": 33,
     "metadata": {},
     "output_type": "execute_result"
    }
   ],
   "source": [
    "X_test = X_test[X_train.columns]\n",
    "X_test"
   ]
  },
  {
   "cell_type": "code",
   "execution_count": 34,
   "id": "198bf6f7",
   "metadata": {},
   "outputs": [
    {
     "data": {
      "text/plain": [
       "((27595, 48), (27595,))"
      ]
     },
     "execution_count": 34,
     "metadata": {},
     "output_type": "execute_result"
    }
   ],
   "source": [
    "X_train.shape, y_train.shape"
   ]
  },
  {
   "cell_type": "code",
   "execution_count": 35,
   "id": "91d28b39",
   "metadata": {},
   "outputs": [
    {
     "data": {
      "text/plain": [
       "((13593, 48), (13593,))"
      ]
     },
     "execution_count": 35,
     "metadata": {},
     "output_type": "execute_result"
    }
   ],
   "source": [
    "X_test.shape, y_test.shape"
   ]
  },
  {
   "cell_type": "code",
   "execution_count": 36,
   "id": "328bd1f3",
   "metadata": {},
   "outputs": [
    {
     "data": {
      "text/plain": [
       "(0    24486\n",
       " 1     3109\n",
       " Name: y, dtype: int64,\n",
       " 0    12062\n",
       " 1     1531\n",
       " Name: y, dtype: int64)"
      ]
     },
     "execution_count": 36,
     "metadata": {},
     "output_type": "execute_result"
    }
   ],
   "source": [
    "y_train.value_counts(), y_test.value_counts(),"
   ]
  },
  {
   "cell_type": "code",
   "execution_count": 37,
   "id": "71208447",
   "metadata": {},
   "outputs": [
    {
     "name": "stdout",
     "output_type": "stream",
     "text": [
      "0.9879532713332335\n",
      "0.9387874167660425\n"
     ]
    }
   ],
   "source": [
    "model = XGBClassifier(n_jobs=-1,random_state=42)\n",
    "model.fit(X_train,y_train)\n",
    "\n",
    "pred_test = model.predict_proba(X_test)\n",
    "pred_test = [p[1] for p in pred_test]\n",
    "\n",
    "pred_train = model.predict_proba(X_train)\n",
    "pred_train = [p[1] for p in pred_train]\n",
    "\n",
    "print(roc_auc_score(y_train,pred_train))\n",
    "print(roc_auc_score(y_test,pred_test))"
   ]
  },
  {
   "cell_type": "code",
   "execution_count": 38,
   "id": "3505e2e5",
   "metadata": {},
   "outputs": [
    {
     "data": {
      "text/plain": [
       "array(['age', 'duration', 'campaign', 'cons.conf.idx', 'euribor3m',\n",
       "       'job_admin.', 'job_blue-collar', 'job_entrepreneur',\n",
       "       'job_housemaid', 'job_management', 'job_retired',\n",
       "       'job_self-employed', 'job_services', 'job_student',\n",
       "       'job_technician', 'job_unemployed', 'job_unknown',\n",
       "       'marital_divorced', 'marital_single', 'marital_unknown',\n",
       "       'education_basic.4y', 'education_basic.6y', 'education_basic.9y',\n",
       "       'education_high.school', 'education_professional.course',\n",
       "       'education_university.degree', 'education_unknown', 'default_no',\n",
       "       'housing_no', 'housing_unknown', 'loan_yes', 'contact_cellular',\n",
       "       'month_apr', 'month_aug', 'month_dec', 'month_jul', 'month_jun',\n",
       "       'month_mar', 'month_may', 'month_nov', 'month_oct', 'month_sep',\n",
       "       'day_of_week_fri', 'day_of_week_mon', 'day_of_week_thu',\n",
       "       'day_of_week_tue', 'day_of_week_wed', 'poutcome_success'],\n",
       "      dtype='<U29')"
      ]
     },
     "execution_count": 38,
     "metadata": {},
     "output_type": "execute_result"
    }
   ],
   "source": [
    "final_cols = list(X_train.columns)\n",
    "np.array(final_cols)"
   ]
  },
  {
   "cell_type": "code",
   "execution_count": 41,
   "id": "b2798ce3",
   "metadata": {},
   "outputs": [],
   "source": [
    "def get_decile_data(y,pred,md,sr,ra,rl,ct,cl,cn,label,cuts=None):\n",
    "    # Decile Chart\n",
    "    temp = pd.DataFrame(y,columns=['actuals'])\n",
    "    temp['predicted_probs'] = pred\n",
    "    if cuts == None:\n",
    "\n",
    "        temp = temp.reset_index()\n",
    "        temp = temp.sort_values(by=['predicted_probs'],ascending=False)\n",
    "        temp = temp.reset_index(drop=True).reset_index()\n",
    "        temp['decile'] = ((temp['level_0']+1)*10/temp.shape[0]).apply(lambda x : math.ceil(x))\n",
    "        temp = temp.sort_values(by=['index'],ascending=True)\n",
    "        temp = temp.drop(columns=['index','level_0']).reset_index(drop=True)\n",
    "        temp3 = temp.groupby(by=['decile']).agg({'actuals' : ['sum','count'], 'predicted_probs' : ['min','max']})\n",
    "        temp3.columns = ['sum_actuals','count','min_prob','max_prob']\n",
    "    else:\n",
    "        vals = []\n",
    "        for p in temp['predicted_probs']:\n",
    "            vals.append((np.array(cuts) > p).sum())\n",
    "        temp['decile'] = vals\n",
    "        temp3 = temp.groupby(by=['decile']).agg({'actuals' : ['sum','count'], 'predicted_probs' : ['min','max']})\n",
    "        temp3.columns = ['sum_actuals','count','min_prob','max_prob']\n",
    "    \n",
    "    temp3 = pd.DataFrame(list(range(1,11)),columns=['decile']).merge(temp3,on='decile',how='left').fillna(0)\n",
    "    temp3['event_rate'] = temp3['sum_actuals']/temp3['count']\n",
    "    temp3['event_rate_pct'] = [np.nan] + list(temp3['event_rate'].iloc[1:].values/(temp3['event_rate'].iloc[:-1].values + 0.001))\n",
    "    temp3['random'] = temp3['sum_actuals'].sum()/temp3['count'].sum()\n",
    "    #print(temp3.head())\n",
    "    temp3['event_rate'] = temp3['event_rate'].apply(lambda x :np.round(x,2))\n",
    "    temp3['random'] = temp3['random'].apply(lambda x : np.round(x,2))\n",
    "    temp3['decile_lift'] = temp3['event_rate']/temp3['random']\n",
    "    temp3['decile_lift'] = temp3['decile_lift'].apply(lambda x : np.round(x,2))\n",
    "    temp3['cum_sum_actuals'] = temp3['sum_actuals'].cumsum()\n",
    "    temp3['cum_count'] = temp3['count'].cumsum()\n",
    "    temp3['cum_event_ratio'] = temp3['cum_sum_actuals']/temp3['cum_count']\n",
    "    temp3['cum_event_ratio'] = temp3['cum_event_ratio'].apply(lambda x : np.round(x,2))\n",
    "    temp3['lift_chart_lift'] = temp3['cum_event_ratio']/temp3['random']\n",
    "    temp3['lift_chart_lift'] = temp3['lift_chart_lift'].apply(lambda x : np.round(x,2))\n",
    "    temp3['lift_chart_ones'] = 1\n",
    "    temp3['cum_event_rate'] = (temp3['sum_actuals']/temp3['sum_actuals'].sum()).cumsum().apply(lambda x : np.round(x,2))\n",
    "    temp3['cum_event_rate'] = temp3['cum_event_rate']*100\n",
    "    temp3['cum_perc_pop'] = np.arange(10,101,10)\n",
    "    \n",
    "    val = list(temp3['event_rate'])\n",
    "    skr=1\n",
    "    while ((val[skr-1] >= val[skr]) and (skr <= 8)):\n",
    "        skr = skr + 1\n",
    "    temp3['score9'] = skr\n",
    "    temp3['data_type'] = label\n",
    "    temp3['accuracy'] = accuracy_score(y,[np.round(i) for i in pred])\n",
    "    temp3['precision'] = precision_score(y,[np.round(i) for i in pred])\n",
    "    temp3['recall'] = recall_score(y,[np.round(i) for i in pred])\n",
    "    temp3['f1'] = f1_score(y,[np.round(i) for i in pred])\n",
    "    temp3['AUC'] = roc_auc_score(y,pred)\n",
    "    \n",
    "    temp3['max_depth'] = md\n",
    "    temp3['subsample'] = sr\n",
    "    temp3['alpha'] = ra\n",
    "    temp3['lambda'] = rl\n",
    "    temp3['colsample_bytree'] = ct\n",
    "    temp3['colsample_bylevel'] = cl\n",
    "    temp3['colsample_bynode'] = cn\n",
    "    \n",
    "    return temp3.reset_index(drop=True)"
   ]
  },
  {
   "cell_type": "code",
   "execution_count": 42,
   "id": "518ae58e",
   "metadata": {},
   "outputs": [],
   "source": [
    "def bo_tune_xgb(max_depth, subsample, reg_alpha, reg_lambda, colsample_bylevel, colsample_bynode, colsample_bytree, eta, gamma, min_child_weight):\n",
    "    params = {'max_depth': int(max_depth),\n",
    "              'subsample': subsample,\n",
    "              'reg_alpha' : int(reg_alpha),\n",
    "              'reg_lambda' : int(reg_lambda),\n",
    "              'colsample_bylevel' : colsample_bylevel,\n",
    "              'colsample_bynode' : colsample_bynode,\n",
    "              'colsample_bytree' : colsample_bytree,\n",
    "              'eta' : eta,\n",
    "              'gamma' : gamma,\n",
    "              'min_child_weight' : min_child_weight,\n",
    "              'eval_metric': 'auc',\n",
    "              'n_jobs': -1,\n",
    "              'random_state' : 42\n",
    "             }\n",
    "    \n",
    "    model = XGBClassifier(**params)\n",
    "    model.fit(X_train[final_cols],y_train)\n",
    "    \n",
    "    pred_test = model.predict_proba(X_test[final_cols])\n",
    "    pred_test = [p[1] for p in pred_test]\n",
    "    pred_train = model.predict_proba(X_train[final_cols])\n",
    "    pred_train = [p[1] for p in pred_train]\n",
    "    \n",
    "    md = params['max_depth']\n",
    "    sr = params['subsample']\n",
    "    ra = params['reg_alpha']\n",
    "    rl = params['reg_lambda']\n",
    "    ct = params['colsample_bytree']\n",
    "    cl = params['colsample_bylevel']\n",
    "    cn = params['colsample_bynode']\n",
    "    \n",
    "    train = get_decile_data(list(y_train),pred_train,md,sr,ra,rl,ct,cl,cn,'train')\n",
    "    decile_cuts = [1.01] + list(train['min_prob'])[:-1] + [0]\n",
    "    test = get_decile_data(list(y_train),pred_train,md,sr,ra,rl,ct,cl,cn,'test',cuts=decile_cuts)\n",
    "    \n",
    "    auc_slope_score = ((train['score9'].iloc[0] * test['score9'].iloc[0])/81)*0.5\n",
    "    auc_slope_score = auc_slope_score + (train['AUC'].iloc[0] * test['AUC'].iloc[0])*0.15\n",
    "    \n",
    "    s1 = sum((train['event_rate_pct'].dropna() - train['event_rate_pct'].dropna().mean())**2)\n",
    "    s2 = sum((test['event_rate_pct'].dropna() - test['event_rate_pct'].dropna().mean())**2)\n",
    "    auc_slope_score = auc_slope_score + (math.e**(-s1) * math.e**(-s2))*0.35\n",
    "    \n",
    "    \n",
    "    #Return the negative RMSE\n",
    "    return auc_slope_score"
   ]
  },
  {
   "cell_type": "code",
   "execution_count": 43,
   "id": "bc621e82",
   "metadata": {
    "scrolled": true
   },
   "outputs": [
    {
     "name": "stdout",
     "output_type": "stream",
     "text": [
      "|   iter    |  target   | colsam... | colsam... | colsam... |    eta    |   gamma   | max_depth | min_ch... | reg_alpha | reg_la... | subsample |\n",
      "-------------------------------------------------------------------------------------------------------------------------------------------------\n"
     ]
    },
    {
     "name": "stderr",
     "output_type": "stream",
     "text": [
      "<timed exec>:15: DeprecationWarning: \n",
      "Passing acquisition function parameters or gaussian process parameters to maximize\n",
      "is no longer supported, and will cause an error in future releases. Instead,\n",
      "please use the \"set_gp_params\" method to set the gp params, and pass an instance\n",
      " of bayes_opt.util.UtilityFunction using the acquisition_function argument\n",
      "\n"
     ]
    },
    {
     "name": "stdout",
     "output_type": "stream",
     "text": [
      "| \u001b[0m1        \u001b[0m | \u001b[0m0.6621   \u001b[0m | \u001b[0m0.7628   \u001b[0m | \u001b[0m0.3031   \u001b[0m | \u001b[0m0.2723   \u001b[0m | \u001b[0m0.3596   \u001b[0m | \u001b[0m55.75    \u001b[0m | \u001b[0m17.31    \u001b[0m | \u001b[0m16.89    \u001b[0m | \u001b[0m78.98    \u001b[0m | \u001b[0m64.73    \u001b[0m | \u001b[0m0.9799   \u001b[0m |\n"
     ]
    },
    {
     "name": "stderr",
     "output_type": "stream",
     "text": [
      "C:\\Users\\Rishi\\anaconda3\\lib\\site-packages\\sklearn\\metrics\\_classification.py:1344: UndefinedMetricWarning: Precision is ill-defined and being set to 0.0 due to no predicted samples. Use `zero_division` parameter to control this behavior.\n",
      "  _warn_prf(average, modifier, msg_start, len(result))\n",
      "C:\\Users\\Rishi\\anaconda3\\lib\\site-packages\\sklearn\\metrics\\_classification.py:1344: UndefinedMetricWarning: Precision is ill-defined and being set to 0.0 due to no predicted samples. Use `zero_division` parameter to control this behavior.\n",
      "  _warn_prf(average, modifier, msg_start, len(result))\n"
     ]
    },
    {
     "name": "stdout",
     "output_type": "stream",
     "text": [
      "| \u001b[0m2        \u001b[0m | \u001b[0m0.5657   \u001b[0m | \u001b[0m0.5086   \u001b[0m | \u001b[0m0.9345   \u001b[0m | \u001b[0m0.08528  \u001b[0m | \u001b[0m0.08446  \u001b[0m | \u001b[0m19.68    \u001b[0m | \u001b[0m28.97    \u001b[0m | \u001b[0m47.14    \u001b[0m | \u001b[0m8.672    \u001b[0m | \u001b[0m22.95    \u001b[0m | \u001b[0m0.1486   \u001b[0m |\n",
      "| \u001b[95m3        \u001b[0m | \u001b[95m0.78     \u001b[0m | \u001b[95m0.645    \u001b[0m | \u001b[95m0.5751   \u001b[0m | \u001b[95m0.2333   \u001b[0m | \u001b[95m0.8518   \u001b[0m | \u001b[95m18.3     \u001b[0m | \u001b[95m8.514    \u001b[0m | \u001b[95m7.553    \u001b[0m | \u001b[95m31.13    \u001b[0m | \u001b[95m84.74    \u001b[0m | \u001b[95m0.6519   \u001b[0m |\n",
      "| \u001b[0m4        \u001b[0m | \u001b[0m0.7324   \u001b[0m | \u001b[0m0.4247   \u001b[0m | \u001b[0m0.838    \u001b[0m | \u001b[0m0.8646   \u001b[0m | \u001b[0m0.7844   \u001b[0m | \u001b[0m77.76    \u001b[0m | \u001b[0m3.578    \u001b[0m | \u001b[0m13.04    \u001b[0m | \u001b[0m38.1     \u001b[0m | \u001b[0m4.002    \u001b[0m | \u001b[0m0.685    \u001b[0m |\n",
      "| \u001b[0m5        \u001b[0m | \u001b[0m0.6305   \u001b[0m | \u001b[0m0.8063   \u001b[0m | \u001b[0m0.8235   \u001b[0m | \u001b[0m0.01974  \u001b[0m | \u001b[0m0.4084   \u001b[0m | \u001b[0m48.4     \u001b[0m | \u001b[0m12.36    \u001b[0m | \u001b[0m51.63    \u001b[0m | \u001b[0m27.63    \u001b[0m | \u001b[0m34.05    \u001b[0m | \u001b[0m0.5249   \u001b[0m |\n",
      "| \u001b[0m6        \u001b[0m | \u001b[0m0.3057   \u001b[0m | \u001b[0m0.8576   \u001b[0m | \u001b[0m0.7154   \u001b[0m | \u001b[0m0.5966   \u001b[0m | \u001b[0m0.8307   \u001b[0m | \u001b[0m62.02    \u001b[0m | \u001b[0m8.032    \u001b[0m | \u001b[0m28.95    \u001b[0m | \u001b[0m81.09    \u001b[0m | \u001b[0m0.4157   \u001b[0m | \u001b[0m0.1289   \u001b[0m |\n",
      "| \u001b[0m7        \u001b[0m | \u001b[0m0.6822   \u001b[0m | \u001b[0m0.2984   \u001b[0m | \u001b[0m0.982    \u001b[0m | \u001b[0m0.06004  \u001b[0m | \u001b[0m0.9308   \u001b[0m | \u001b[0m84.92    \u001b[0m | \u001b[0m6.278    \u001b[0m | \u001b[0m12.6     \u001b[0m | \u001b[0m64.94    \u001b[0m | \u001b[0m98.45    \u001b[0m | \u001b[0m0.8525   \u001b[0m |\n"
     ]
    },
    {
     "name": "stderr",
     "output_type": "stream",
     "text": [
      "C:\\Users\\Rishi\\anaconda3\\lib\\site-packages\\sklearn\\metrics\\_classification.py:1344: UndefinedMetricWarning: Precision is ill-defined and being set to 0.0 due to no predicted samples. Use `zero_division` parameter to control this behavior.\n",
      "  _warn_prf(average, modifier, msg_start, len(result))\n",
      "C:\\Users\\Rishi\\anaconda3\\lib\\site-packages\\sklearn\\metrics\\_classification.py:1344: UndefinedMetricWarning: Precision is ill-defined and being set to 0.0 due to no predicted samples. Use `zero_division` parameter to control this behavior.\n",
      "  _warn_prf(average, modifier, msg_start, len(result))\n"
     ]
    },
    {
     "name": "stdout",
     "output_type": "stream",
     "text": [
      "| \u001b[0m8        \u001b[0m | \u001b[0m0.4685   \u001b[0m | \u001b[0m0.4796   \u001b[0m | \u001b[0m0.2982   \u001b[0m | \u001b[0m0.7848   \u001b[0m | \u001b[0m0.02409  \u001b[0m | \u001b[0m60.29    \u001b[0m | \u001b[0m17.13    \u001b[0m | \u001b[0m1.887    \u001b[0m | \u001b[0m80.27    \u001b[0m | \u001b[0m98.51    \u001b[0m | \u001b[0m0.5261   \u001b[0m |\n",
      "| \u001b[0m9        \u001b[0m | \u001b[0m0.4589   \u001b[0m | \u001b[0m0.2151   \u001b[0m | \u001b[0m0.7517   \u001b[0m | \u001b[0m0.6456   \u001b[0m | \u001b[0m0.7845   \u001b[0m | \u001b[0m27.75    \u001b[0m | \u001b[0m21.53    \u001b[0m | \u001b[0m25.59    \u001b[0m | \u001b[0m80.59    \u001b[0m | \u001b[0m5.307    \u001b[0m | \u001b[0m0.4511   \u001b[0m |\n",
      "| \u001b[0m10       \u001b[0m | \u001b[0m0.7742   \u001b[0m | \u001b[0m0.5921   \u001b[0m | \u001b[0m0.1051   \u001b[0m | \u001b[0m0.9406   \u001b[0m | \u001b[0m0.2747   \u001b[0m | \u001b[0m26.44    \u001b[0m | \u001b[0m5.171    \u001b[0m | \u001b[0m90.19    \u001b[0m | \u001b[0m34.21    \u001b[0m | \u001b[0m31.12    \u001b[0m | \u001b[0m0.9554   \u001b[0m |\n"
     ]
    },
    {
     "name": "stderr",
     "output_type": "stream",
     "text": [
      "C:\\Users\\Rishi\\anaconda3\\lib\\site-packages\\sklearn\\metrics\\_classification.py:1344: UndefinedMetricWarning: Precision is ill-defined and being set to 0.0 due to no predicted samples. Use `zero_division` parameter to control this behavior.\n",
      "  _warn_prf(average, modifier, msg_start, len(result))\n",
      "C:\\Users\\Rishi\\anaconda3\\lib\\site-packages\\sklearn\\metrics\\_classification.py:1344: UndefinedMetricWarning: Precision is ill-defined and being set to 0.0 due to no predicted samples. Use `zero_division` parameter to control this behavior.\n",
      "  _warn_prf(average, modifier, msg_start, len(result))\n"
     ]
    },
    {
     "name": "stdout",
     "output_type": "stream",
     "text": [
      "| \u001b[0m11       \u001b[0m | \u001b[0m0.3439   \u001b[0m | \u001b[0m0.4029   \u001b[0m | \u001b[0m0.9462   \u001b[0m | \u001b[0m0.2888   \u001b[0m | \u001b[0m0.533    \u001b[0m | \u001b[0m0.4376   \u001b[0m | \u001b[0m9.577    \u001b[0m | \u001b[0m55.68    \u001b[0m | \u001b[0m24.71    \u001b[0m | \u001b[0m54.75    \u001b[0m | \u001b[0m0.0281   \u001b[0m |\n",
      "| \u001b[0m12       \u001b[0m | \u001b[0m0.6432   \u001b[0m | \u001b[0m0.6353   \u001b[0m | \u001b[0m0.2196   \u001b[0m | \u001b[0m0.7762   \u001b[0m | \u001b[0m0.5633   \u001b[0m | \u001b[0m21.48    \u001b[0m | \u001b[0m11.57    \u001b[0m | \u001b[0m18.57    \u001b[0m | \u001b[0m29.43    \u001b[0m | \u001b[0m96.97    \u001b[0m | \u001b[0m0.5898   \u001b[0m |\n",
      "| \u001b[0m13       \u001b[0m | \u001b[0m0.7775   \u001b[0m | \u001b[0m0.2457   \u001b[0m | \u001b[0m0.2599   \u001b[0m | \u001b[0m0.4571   \u001b[0m | \u001b[0m0.8468   \u001b[0m | \u001b[0m5.812    \u001b[0m | \u001b[0m6.348    \u001b[0m | \u001b[0m53.4     \u001b[0m | \u001b[0m3.574    \u001b[0m | \u001b[0m84.14    \u001b[0m | \u001b[0m0.1893   \u001b[0m |\n"
     ]
    },
    {
     "name": "stderr",
     "output_type": "stream",
     "text": [
      "C:\\Users\\Rishi\\anaconda3\\lib\\site-packages\\sklearn\\metrics\\_classification.py:1344: UndefinedMetricWarning: Precision is ill-defined and being set to 0.0 due to no predicted samples. Use `zero_division` parameter to control this behavior.\n",
      "  _warn_prf(average, modifier, msg_start, len(result))\n",
      "C:\\Users\\Rishi\\anaconda3\\lib\\site-packages\\sklearn\\metrics\\_classification.py:1344: UndefinedMetricWarning: Precision is ill-defined and being set to 0.0 due to no predicted samples. Use `zero_division` parameter to control this behavior.\n",
      "  _warn_prf(average, modifier, msg_start, len(result))\n"
     ]
    },
    {
     "name": "stdout",
     "output_type": "stream",
     "text": [
      "| \u001b[0m14       \u001b[0m | \u001b[0m0.4377   \u001b[0m | \u001b[0m0.2073   \u001b[0m | \u001b[0m0.0768   \u001b[0m | \u001b[0m0.1138   \u001b[0m | \u001b[0m0.01795  \u001b[0m | \u001b[0m47.52    \u001b[0m | \u001b[0m23.9     \u001b[0m | \u001b[0m3.909    \u001b[0m | \u001b[0m10.81    \u001b[0m | \u001b[0m18.92    \u001b[0m | \u001b[0m0.1298   \u001b[0m |\n",
      "| \u001b[0m15       \u001b[0m | \u001b[0m0.475    \u001b[0m | \u001b[0m0.8214   \u001b[0m | \u001b[0m0.2629   \u001b[0m | \u001b[0m0.008609 \u001b[0m | \u001b[0m0.8259   \u001b[0m | \u001b[0m54.8     \u001b[0m | \u001b[0m26.34    \u001b[0m | \u001b[0m16.92    \u001b[0m | \u001b[0m49.02    \u001b[0m | \u001b[0m11.16    \u001b[0m | \u001b[0m0.6413   \u001b[0m |\n",
      "| \u001b[0m16       \u001b[0m | \u001b[0m0.5122   \u001b[0m | \u001b[0m0.3471   \u001b[0m | \u001b[0m0.1293   \u001b[0m | \u001b[0m0.6977   \u001b[0m | \u001b[0m0.2065   \u001b[0m | \u001b[0m90.18    \u001b[0m | \u001b[0m12.34    \u001b[0m | \u001b[0m85.73    \u001b[0m | \u001b[0m91.12    \u001b[0m | \u001b[0m6.41     \u001b[0m | \u001b[0m0.6572   \u001b[0m |\n"
     ]
    },
    {
     "name": "stderr",
     "output_type": "stream",
     "text": [
      "C:\\Users\\Rishi\\anaconda3\\lib\\site-packages\\sklearn\\metrics\\_classification.py:1344: UndefinedMetricWarning: Precision is ill-defined and being set to 0.0 due to no predicted samples. Use `zero_division` parameter to control this behavior.\n",
      "  _warn_prf(average, modifier, msg_start, len(result))\n",
      "C:\\Users\\Rishi\\anaconda3\\lib\\site-packages\\sklearn\\metrics\\_classification.py:1344: UndefinedMetricWarning: Precision is ill-defined and being set to 0.0 due to no predicted samples. Use `zero_division` parameter to control this behavior.\n",
      "  _warn_prf(average, modifier, msg_start, len(result))\n"
     ]
    },
    {
     "name": "stdout",
     "output_type": "stream",
     "text": [
      "| \u001b[0m17       \u001b[0m | \u001b[0m0.4038   \u001b[0m | \u001b[0m0.2495   \u001b[0m | \u001b[0m0.3502   \u001b[0m | \u001b[0m0.1058   \u001b[0m | \u001b[0m0.839    \u001b[0m | \u001b[0m62.43    \u001b[0m | \u001b[0m14.49    \u001b[0m | \u001b[0m71.18    \u001b[0m | \u001b[0m91.7     \u001b[0m | \u001b[0m29.23    \u001b[0m | \u001b[0m0.009039 \u001b[0m |\n"
     ]
    },
    {
     "name": "stderr",
     "output_type": "stream",
     "text": [
      "C:\\Users\\Rishi\\anaconda3\\lib\\site-packages\\sklearn\\metrics\\_classification.py:1344: UndefinedMetricWarning: Precision is ill-defined and being set to 0.0 due to no predicted samples. Use `zero_division` parameter to control this behavior.\n",
      "  _warn_prf(average, modifier, msg_start, len(result))\n",
      "C:\\Users\\Rishi\\anaconda3\\lib\\site-packages\\sklearn\\metrics\\_classification.py:1344: UndefinedMetricWarning: Precision is ill-defined and being set to 0.0 due to no predicted samples. Use `zero_division` parameter to control this behavior.\n",
      "  _warn_prf(average, modifier, msg_start, len(result))\n"
     ]
    },
    {
     "name": "stdout",
     "output_type": "stream",
     "text": [
      "| \u001b[0m18       \u001b[0m | \u001b[0m0.4038   \u001b[0m | \u001b[0m0.8214   \u001b[0m | \u001b[0m0.07296  \u001b[0m | \u001b[0m0.3209   \u001b[0m | \u001b[0m0.3165   \u001b[0m | \u001b[0m88.44    \u001b[0m | \u001b[0m5.916    \u001b[0m | \u001b[0m20.75    \u001b[0m | \u001b[0m23.31    \u001b[0m | \u001b[0m69.82    \u001b[0m | \u001b[0m0.05352  \u001b[0m |\n",
      "| \u001b[0m19       \u001b[0m | \u001b[0m0.5425   \u001b[0m | \u001b[0m0.03952  \u001b[0m | \u001b[0m0.01605  \u001b[0m | \u001b[0m0.5974   \u001b[0m | \u001b[0m0.7013   \u001b[0m | \u001b[0m10.23    \u001b[0m | \u001b[0m15.33    \u001b[0m | \u001b[0m27.1     \u001b[0m | \u001b[0m17.34    \u001b[0m | \u001b[0m46.47    \u001b[0m | \u001b[0m0.327    \u001b[0m |\n"
     ]
    },
    {
     "name": "stderr",
     "output_type": "stream",
     "text": [
      "C:\\Users\\Rishi\\anaconda3\\lib\\site-packages\\sklearn\\metrics\\_classification.py:1344: UndefinedMetricWarning: Precision is ill-defined and being set to 0.0 due to no predicted samples. Use `zero_division` parameter to control this behavior.\n",
      "  _warn_prf(average, modifier, msg_start, len(result))\n",
      "C:\\Users\\Rishi\\anaconda3\\lib\\site-packages\\sklearn\\metrics\\_classification.py:1344: UndefinedMetricWarning: Precision is ill-defined and being set to 0.0 due to no predicted samples. Use `zero_division` parameter to control this behavior.\n",
      "  _warn_prf(average, modifier, msg_start, len(result))\n"
     ]
    },
    {
     "name": "stdout",
     "output_type": "stream",
     "text": [
      "| \u001b[0m20       \u001b[0m | \u001b[0m0.4213   \u001b[0m | \u001b[0m0.3935   \u001b[0m | \u001b[0m0.2282   \u001b[0m | \u001b[0m0.3276   \u001b[0m | \u001b[0m0.1216   \u001b[0m | \u001b[0m5.559    \u001b[0m | \u001b[0m24.76    \u001b[0m | \u001b[0m53.59    \u001b[0m | \u001b[0m25.19    \u001b[0m | \u001b[0m84.22    \u001b[0m | \u001b[0m0.2767   \u001b[0m |\n"
     ]
    },
    {
     "name": "stderr",
     "output_type": "stream",
     "text": [
      "C:\\Users\\Rishi\\anaconda3\\lib\\site-packages\\sklearn\\metrics\\_classification.py:1344: UndefinedMetricWarning: Precision is ill-defined and being set to 0.0 due to no predicted samples. Use `zero_division` parameter to control this behavior.\n",
      "  _warn_prf(average, modifier, msg_start, len(result))\n",
      "C:\\Users\\Rishi\\anaconda3\\lib\\site-packages\\sklearn\\metrics\\_classification.py:1344: UndefinedMetricWarning: Precision is ill-defined and being set to 0.0 due to no predicted samples. Use `zero_division` parameter to control this behavior.\n",
      "  _warn_prf(average, modifier, msg_start, len(result))\n"
     ]
    },
    {
     "name": "stdout",
     "output_type": "stream",
     "text": [
      "| \u001b[0m21       \u001b[0m | \u001b[0m0.2948   \u001b[0m | \u001b[0m0.6453   \u001b[0m | \u001b[0m0.4533   \u001b[0m | \u001b[0m0.004035 \u001b[0m | \u001b[0m0.5994   \u001b[0m | \u001b[0m98.87    \u001b[0m | \u001b[0m20.53    \u001b[0m | \u001b[0m70.43    \u001b[0m | \u001b[0m54.03    \u001b[0m | \u001b[0m80.21    \u001b[0m | \u001b[0m0.2196   \u001b[0m |\n",
      "| \u001b[0m22       \u001b[0m | \u001b[0m0.7004   \u001b[0m | \u001b[0m0.7611   \u001b[0m | \u001b[0m0.1817   \u001b[0m | \u001b[0m0.8863   \u001b[0m | \u001b[0m0.04422  \u001b[0m | \u001b[0m40.23    \u001b[0m | \u001b[0m19.97    \u001b[0m | \u001b[0m39.49    \u001b[0m | \u001b[0m61.53    \u001b[0m | \u001b[0m55.31    \u001b[0m | \u001b[0m0.5871   \u001b[0m |\n",
      "| \u001b[0m23       \u001b[0m | \u001b[0m0.6045   \u001b[0m | \u001b[0m0.6431   \u001b[0m | \u001b[0m0.07371  \u001b[0m | \u001b[0m0.9575   \u001b[0m | \u001b[0m0.9708   \u001b[0m | \u001b[0m11.2     \u001b[0m | \u001b[0m22.23    \u001b[0m | \u001b[0m25.12    \u001b[0m | \u001b[0m39.94    \u001b[0m | \u001b[0m49.03    \u001b[0m | \u001b[0m0.6069   \u001b[0m |\n",
      "| \u001b[0m24       \u001b[0m | \u001b[0m0.38     \u001b[0m | \u001b[0m0.4531   \u001b[0m | \u001b[0m0.1408   \u001b[0m | \u001b[0m0.9099   \u001b[0m | \u001b[0m0.3154   \u001b[0m | \u001b[0m9.627    \u001b[0m | \u001b[0m26.42    \u001b[0m | \u001b[0m25.62    \u001b[0m | \u001b[0m34.63    \u001b[0m | \u001b[0m85.96    \u001b[0m | \u001b[0m0.4276   \u001b[0m |\n",
      "| \u001b[95m25       \u001b[0m | \u001b[95m0.8277   \u001b[0m | \u001b[95m0.768    \u001b[0m | \u001b[95m0.7013   \u001b[0m | \u001b[95m0.8554   \u001b[0m | \u001b[95m0.8884   \u001b[0m | \u001b[95m11.17    \u001b[0m | \u001b[95m18.87    \u001b[0m | \u001b[95m18.86    \u001b[0m | \u001b[95m8.121    \u001b[0m | \u001b[95m73.61    \u001b[0m | \u001b[95m0.7181   \u001b[0m |\n",
      "| \u001b[0m26       \u001b[0m | \u001b[0m0.3511   \u001b[0m | \u001b[0m0.996    \u001b[0m | \u001b[0m0.3123   \u001b[0m | \u001b[0m0.2306   \u001b[0m | \u001b[0m0.5299   \u001b[0m | \u001b[0m19.16    \u001b[0m | \u001b[0m7.254    \u001b[0m | \u001b[0m4.365    \u001b[0m | \u001b[0m35.85    \u001b[0m | \u001b[0m86.16    \u001b[0m | \u001b[0m0.3265   \u001b[0m |\n",
      "| \u001b[0m27       \u001b[0m | \u001b[0m0.5311   \u001b[0m | \u001b[0m0.336    \u001b[0m | \u001b[0m0.3414   \u001b[0m | \u001b[0m0.3576   \u001b[0m | \u001b[0m0.567    \u001b[0m | \u001b[0m71.27    \u001b[0m | \u001b[0m1.345    \u001b[0m | \u001b[0m83.75    \u001b[0m | \u001b[0m24.96    \u001b[0m | \u001b[0m53.72    \u001b[0m | \u001b[0m0.6788   \u001b[0m |\n",
      "| \u001b[0m28       \u001b[0m | \u001b[0m0.2358   \u001b[0m | \u001b[0m0.9682   \u001b[0m | \u001b[0m0.2084   \u001b[0m | \u001b[0m0.956    \u001b[0m | \u001b[0m0.8376   \u001b[0m | \u001b[0m52.96    \u001b[0m | \u001b[0m4.49     \u001b[0m | \u001b[0m8.123    \u001b[0m | \u001b[0m96.24    \u001b[0m | \u001b[0m29.61    \u001b[0m | \u001b[0m0.2719   \u001b[0m |\n",
      "| \u001b[95m29       \u001b[0m | \u001b[95m0.8598   \u001b[0m | \u001b[95m0.9969   \u001b[0m | \u001b[95m0.2301   \u001b[0m | \u001b[95m0.7766   \u001b[0m | \u001b[95m0.1344   \u001b[0m | \u001b[95m38.0     \u001b[0m | \u001b[95m14.23    \u001b[0m | \u001b[95m39.49    \u001b[0m | \u001b[95m86.2     \u001b[0m | \u001b[95m6.913    \u001b[0m | \u001b[95m0.8275   \u001b[0m |\n",
      "| \u001b[0m30       \u001b[0m | \u001b[0m0.4592   \u001b[0m | \u001b[0m0.9228   \u001b[0m | \u001b[0m0.1942   \u001b[0m | \u001b[0m0.2459   \u001b[0m | \u001b[0m0.9498   \u001b[0m | \u001b[0m51.88    \u001b[0m | \u001b[0m25.87    \u001b[0m | \u001b[0m39.89    \u001b[0m | \u001b[0m46.41    \u001b[0m | \u001b[0m10.12    \u001b[0m | \u001b[0m0.1826   \u001b[0m |\n",
      "| \u001b[0m31       \u001b[0m | \u001b[0m0.4762   \u001b[0m | \u001b[0m0.4418   \u001b[0m | \u001b[0m0.2734   \u001b[0m | \u001b[0m0.2924   \u001b[0m | \u001b[0m0.6877   \u001b[0m | \u001b[0m42.79    \u001b[0m | \u001b[0m8.546    \u001b[0m | \u001b[0m18.62    \u001b[0m | \u001b[0m60.84    \u001b[0m | \u001b[0m27.1     \u001b[0m | \u001b[0m0.7382   \u001b[0m |\n",
      "| \u001b[0m32       \u001b[0m | \u001b[0m0.3993   \u001b[0m | \u001b[0m0.167    \u001b[0m | \u001b[0m0.7038   \u001b[0m | \u001b[0m0.2936   \u001b[0m | \u001b[0m0.9987   \u001b[0m | \u001b[0m98.78    \u001b[0m | \u001b[0m10.48    \u001b[0m | \u001b[0m81.19    \u001b[0m | \u001b[0m26.6     \u001b[0m | \u001b[0m19.64    \u001b[0m | \u001b[0m0.5165   \u001b[0m |\n",
      "| \u001b[0m33       \u001b[0m | \u001b[0m0.8356   \u001b[0m | \u001b[0m0.7127   \u001b[0m | \u001b[0m0.2764   \u001b[0m | \u001b[0m0.5707   \u001b[0m | \u001b[0m0.1193   \u001b[0m | \u001b[0m97.62    \u001b[0m | \u001b[0m16.13    \u001b[0m | \u001b[0m61.48    \u001b[0m | \u001b[0m28.28    \u001b[0m | \u001b[0m63.94    \u001b[0m | \u001b[0m0.3298   \u001b[0m |\n",
      "| \u001b[0m34       \u001b[0m | \u001b[0m0.4705   \u001b[0m | \u001b[0m0.1426   \u001b[0m | \u001b[0m0.4158   \u001b[0m | \u001b[0m0.1708   \u001b[0m | \u001b[0m0.4962   \u001b[0m | \u001b[0m36.59    \u001b[0m | \u001b[0m27.88    \u001b[0m | \u001b[0m25.79    \u001b[0m | \u001b[0m64.48    \u001b[0m | \u001b[0m50.57    \u001b[0m | \u001b[0m0.4642   \u001b[0m |\n",
      "| \u001b[0m35       \u001b[0m | \u001b[0m0.7548   \u001b[0m | \u001b[0m0.7484   \u001b[0m | \u001b[0m0.7196   \u001b[0m | \u001b[0m0.5423   \u001b[0m | \u001b[0m0.42     \u001b[0m | \u001b[0m63.74    \u001b[0m | \u001b[0m9.811    \u001b[0m | \u001b[0m81.99    \u001b[0m | \u001b[0m3.165    \u001b[0m | \u001b[0m91.96    \u001b[0m | \u001b[0m0.7383   \u001b[0m |\n"
     ]
    },
    {
     "name": "stderr",
     "output_type": "stream",
     "text": [
      "C:\\Users\\Rishi\\anaconda3\\lib\\site-packages\\sklearn\\metrics\\_classification.py:1344: UndefinedMetricWarning: Precision is ill-defined and being set to 0.0 due to no predicted samples. Use `zero_division` parameter to control this behavior.\n",
      "  _warn_prf(average, modifier, msg_start, len(result))\n",
      "C:\\Users\\Rishi\\anaconda3\\lib\\site-packages\\sklearn\\metrics\\_classification.py:1344: UndefinedMetricWarning: Precision is ill-defined and being set to 0.0 due to no predicted samples. Use `zero_division` parameter to control this behavior.\n",
      "  _warn_prf(average, modifier, msg_start, len(result))\n"
     ]
    },
    {
     "name": "stdout",
     "output_type": "stream",
     "text": [
      "| \u001b[0m36       \u001b[0m | \u001b[0m0.4038   \u001b[0m | \u001b[0m0.8853   \u001b[0m | \u001b[0m0.4239   \u001b[0m | \u001b[0m0.5018   \u001b[0m | \u001b[0m0.2005   \u001b[0m | \u001b[0m73.75    \u001b[0m | \u001b[0m29.2     \u001b[0m | \u001b[0m92.2     \u001b[0m | \u001b[0m4.9      \u001b[0m | \u001b[0m21.14    \u001b[0m | \u001b[0m0.04463  \u001b[0m |\n",
      "| \u001b[0m37       \u001b[0m | \u001b[0m0.8066   \u001b[0m | \u001b[0m0.4433   \u001b[0m | \u001b[0m0.6669   \u001b[0m | \u001b[0m0.8848   \u001b[0m | \u001b[0m0.1307   \u001b[0m | \u001b[0m13.14    \u001b[0m | \u001b[0m2.906    \u001b[0m | \u001b[0m38.97    \u001b[0m | \u001b[0m37.34    \u001b[0m | \u001b[0m60.92    \u001b[0m | \u001b[0m0.3811   \u001b[0m |\n",
      "| \u001b[0m38       \u001b[0m | \u001b[0m0.2761   \u001b[0m | \u001b[0m0.8772   \u001b[0m | \u001b[0m0.1207   \u001b[0m | \u001b[0m0.9912   \u001b[0m | \u001b[0m0.8037   \u001b[0m | \u001b[0m9.755    \u001b[0m | \u001b[0m18.86    \u001b[0m | \u001b[0m72.13    \u001b[0m | \u001b[0m86.19    \u001b[0m | \u001b[0m99.49    \u001b[0m | \u001b[0m0.1562   \u001b[0m |\n",
      "| \u001b[0m39       \u001b[0m | \u001b[0m0.3681   \u001b[0m | \u001b[0m0.7819   \u001b[0m | \u001b[0m0.4197   \u001b[0m | \u001b[0m0.5694   \u001b[0m | \u001b[0m0.5123   \u001b[0m | \u001b[0m93.88    \u001b[0m | \u001b[0m13.96    \u001b[0m | \u001b[0m29.21    \u001b[0m | \u001b[0m35.78    \u001b[0m | \u001b[0m28.89    \u001b[0m | \u001b[0m0.2904   \u001b[0m |\n"
     ]
    },
    {
     "name": "stderr",
     "output_type": "stream",
     "text": [
      "C:\\Users\\Rishi\\anaconda3\\lib\\site-packages\\sklearn\\metrics\\_classification.py:1344: UndefinedMetricWarning: Precision is ill-defined and being set to 0.0 due to no predicted samples. Use `zero_division` parameter to control this behavior.\n",
      "  _warn_prf(average, modifier, msg_start, len(result))\n",
      "C:\\Users\\Rishi\\anaconda3\\lib\\site-packages\\sklearn\\metrics\\_classification.py:1344: UndefinedMetricWarning: Precision is ill-defined and being set to 0.0 due to no predicted samples. Use `zero_division` parameter to control this behavior.\n",
      "  _warn_prf(average, modifier, msg_start, len(result))\n"
     ]
    },
    {
     "name": "stdout",
     "output_type": "stream",
     "text": [
      "| \u001b[0m40       \u001b[0m | \u001b[0m0.6215   \u001b[0m | \u001b[0m0.2957   \u001b[0m | \u001b[0m0.8849   \u001b[0m | \u001b[0m0.7417   \u001b[0m | \u001b[0m0.04588  \u001b[0m | \u001b[0m30.58    \u001b[0m | \u001b[0m25.49    \u001b[0m | \u001b[0m73.16    \u001b[0m | \u001b[0m50.87    \u001b[0m | \u001b[0m10.41    \u001b[0m | \u001b[0m0.1054   \u001b[0m |\n",
      "| \u001b[95m41       \u001b[0m | \u001b[95m0.9042   \u001b[0m | \u001b[95m0.6952   \u001b[0m | \u001b[95m0.1742   \u001b[0m | \u001b[95m0.396    \u001b[0m | \u001b[95m0.2218   \u001b[0m | \u001b[95m91.18    \u001b[0m | \u001b[95m23.2     \u001b[0m | \u001b[95m47.48    \u001b[0m | \u001b[95m20.47    \u001b[0m | \u001b[95m35.02    \u001b[0m | \u001b[95m0.6853   \u001b[0m |\n",
      "| \u001b[0m42       \u001b[0m | \u001b[0m0.836    \u001b[0m | \u001b[0m0.2084   \u001b[0m | \u001b[0m0.7145   \u001b[0m | \u001b[0m0.5719   \u001b[0m | \u001b[0m0.2388   \u001b[0m | \u001b[0m31.34    \u001b[0m | \u001b[0m24.22    \u001b[0m | \u001b[0m14.45    \u001b[0m | \u001b[0m66.4     \u001b[0m | \u001b[0m82.82    \u001b[0m | \u001b[0m0.6121   \u001b[0m |\n",
      "| \u001b[0m43       \u001b[0m | \u001b[0m0.4295   \u001b[0m | \u001b[0m0.8309   \u001b[0m | \u001b[0m0.6522   \u001b[0m | \u001b[0m0.5184   \u001b[0m | \u001b[0m0.03623  \u001b[0m | \u001b[0m91.16    \u001b[0m | \u001b[0m18.76    \u001b[0m | \u001b[0m87.04    \u001b[0m | \u001b[0m41.46    \u001b[0m | \u001b[0m48.65    \u001b[0m | \u001b[0m0.4208   \u001b[0m |\n",
      "| \u001b[0m44       \u001b[0m | \u001b[0m0.6891   \u001b[0m | \u001b[0m0.8993   \u001b[0m | \u001b[0m0.165    \u001b[0m | \u001b[0m0.5789   \u001b[0m | \u001b[0m0.1385   \u001b[0m | \u001b[0m31.8     \u001b[0m | \u001b[0m29.47    \u001b[0m | \u001b[0m12.15    \u001b[0m | \u001b[0m37.29    \u001b[0m | \u001b[0m58.83    \u001b[0m | \u001b[0m0.4087   \u001b[0m |\n",
      "| \u001b[0m45       \u001b[0m | \u001b[0m0.6639   \u001b[0m | \u001b[0m0.7238   \u001b[0m | \u001b[0m0.6798   \u001b[0m | \u001b[0m0.5728   \u001b[0m | \u001b[0m0.6076   \u001b[0m | \u001b[0m87.38    \u001b[0m | \u001b[0m12.39    \u001b[0m | \u001b[0m86.95    \u001b[0m | \u001b[0m72.16    \u001b[0m | \u001b[0m96.52    \u001b[0m | \u001b[0m0.3783   \u001b[0m |\n",
      "| \u001b[0m46       \u001b[0m | \u001b[0m0.4532   \u001b[0m | \u001b[0m0.4865   \u001b[0m | \u001b[0m0.0761   \u001b[0m | \u001b[0m0.2685   \u001b[0m | \u001b[0m0.6027   \u001b[0m | \u001b[0m65.66    \u001b[0m | \u001b[0m29.01    \u001b[0m | \u001b[0m55.31    \u001b[0m | \u001b[0m80.77    \u001b[0m | \u001b[0m40.63    \u001b[0m | \u001b[0m0.7437   \u001b[0m |\n",
      "| \u001b[0m47       \u001b[0m | \u001b[0m0.7118   \u001b[0m | \u001b[0m0.03249  \u001b[0m | \u001b[0m0.8934   \u001b[0m | \u001b[0m0.4501   \u001b[0m | \u001b[0m0.8955   \u001b[0m | \u001b[0m91.46    \u001b[0m | \u001b[0m24.89    \u001b[0m | \u001b[0m36.77    \u001b[0m | \u001b[0m4.103    \u001b[0m | \u001b[0m28.99    \u001b[0m | \u001b[0m0.8922   \u001b[0m |\n",
      "| \u001b[0m48       \u001b[0m | \u001b[0m0.5129   \u001b[0m | \u001b[0m0.1918   \u001b[0m | \u001b[0m0.6048   \u001b[0m | \u001b[0m0.3453   \u001b[0m | \u001b[0m0.5469   \u001b[0m | \u001b[0m11.2     \u001b[0m | \u001b[0m25.97    \u001b[0m | \u001b[0m24.37    \u001b[0m | \u001b[0m57.14    \u001b[0m | \u001b[0m19.23    \u001b[0m | \u001b[0m0.1467   \u001b[0m |\n",
      "| \u001b[0m49       \u001b[0m | \u001b[0m0.4694   \u001b[0m | \u001b[0m0.3789   \u001b[0m | \u001b[0m0.7122   \u001b[0m | \u001b[0m0.9233   \u001b[0m | \u001b[0m0.5778   \u001b[0m | \u001b[0m88.85    \u001b[0m | \u001b[0m18.36    \u001b[0m | \u001b[0m29.96    \u001b[0m | \u001b[0m70.19    \u001b[0m | \u001b[0m64.68    \u001b[0m | \u001b[0m0.3149   \u001b[0m |\n",
      "| \u001b[0m50       \u001b[0m | \u001b[0m0.752    \u001b[0m | \u001b[0m0.382    \u001b[0m | \u001b[0m0.7147   \u001b[0m | \u001b[0m0.5663   \u001b[0m | \u001b[0m0.7078   \u001b[0m | \u001b[0m34.51    \u001b[0m | \u001b[0m20.86    \u001b[0m | \u001b[0m41.33    \u001b[0m | \u001b[0m28.6     \u001b[0m | \u001b[0m25.63    \u001b[0m | \u001b[0m0.827    \u001b[0m |\n",
      "=================================================================================================================================================\n",
      "Wall time: 1min 30s\n"
     ]
    }
   ],
   "source": [
    "%%time\n",
    "\n",
    "#Invoking the Bayesian Optimizer with the specified parameters to tune\n",
    "xgb_bo = BayesianOptimization(bo_tune_xgb, {'max_depth' : (1,30),\n",
    "                                            'subsample' : (0,1),\n",
    "                                            'reg_alpha' : (0,100),\n",
    "                                            'reg_lambda' : (0,100),\n",
    "                                            'colsample_bylevel' : (0,1),\n",
    "                                            'colsample_bynode' : (0,1),\n",
    "                                            'colsample_bytree' : (0,1),\n",
    "                                            'eta' : (0,1),\n",
    "                                            'gamma' : (0,100),\n",
    "                                            'min_child_weight' : (0,100)\n",
    "                                            })\n",
    "\n",
    "#performing Bayesian optimization for 5 iterations with 8 steps of random exploration with an #acquisition function of expected improvement\n",
    "xgb_bo.maximize(n_iter=25, init_points=25, acq='ei')"
   ]
  },
  {
   "cell_type": "code",
   "execution_count": 44,
   "id": "cffd83a0",
   "metadata": {},
   "outputs": [
    {
     "name": "stdout",
     "output_type": "stream",
     "text": [
      "{'colsample_bylevel': 0.6951506527893864, 'colsample_bynode': 0.17417142954731513, 'colsample_bytree': 0.3960451059885225, 'eta': 0.22183018388441755, 'gamma': 91.18096308891397, 'max_depth': 23, 'min_child_weight': 47.47850078170565, 'reg_alpha': 20.46582395554456, 'reg_lambda': 35.017301689752976, 'subsample': 0.6852931816367424}\n"
     ]
    }
   ],
   "source": [
    "best_params = xgb_bo.max['params']\n",
    "best_params['max_depth'] = int(best_params['max_depth'])\n",
    "print(best_params)"
   ]
  },
  {
   "cell_type": "code",
   "execution_count": 45,
   "id": "12ae7571",
   "metadata": {
    "collapsed": true
   },
   "outputs": [
    {
     "data": {
      "text/html": [
       "<style>#sk-container-id-1 {color: black;background-color: white;}#sk-container-id-1 pre{padding: 0;}#sk-container-id-1 div.sk-toggleable {background-color: white;}#sk-container-id-1 label.sk-toggleable__label {cursor: pointer;display: block;width: 100%;margin-bottom: 0;padding: 0.3em;box-sizing: border-box;text-align: center;}#sk-container-id-1 label.sk-toggleable__label-arrow:before {content: \"▸\";float: left;margin-right: 0.25em;color: #696969;}#sk-container-id-1 label.sk-toggleable__label-arrow:hover:before {color: black;}#sk-container-id-1 div.sk-estimator:hover label.sk-toggleable__label-arrow:before {color: black;}#sk-container-id-1 div.sk-toggleable__content {max-height: 0;max-width: 0;overflow: hidden;text-align: left;background-color: #f0f8ff;}#sk-container-id-1 div.sk-toggleable__content pre {margin: 0.2em;color: black;border-radius: 0.25em;background-color: #f0f8ff;}#sk-container-id-1 input.sk-toggleable__control:checked~div.sk-toggleable__content {max-height: 200px;max-width: 100%;overflow: auto;}#sk-container-id-1 input.sk-toggleable__control:checked~label.sk-toggleable__label-arrow:before {content: \"▾\";}#sk-container-id-1 div.sk-estimator input.sk-toggleable__control:checked~label.sk-toggleable__label {background-color: #d4ebff;}#sk-container-id-1 div.sk-label input.sk-toggleable__control:checked~label.sk-toggleable__label {background-color: #d4ebff;}#sk-container-id-1 input.sk-hidden--visually {border: 0;clip: rect(1px 1px 1px 1px);clip: rect(1px, 1px, 1px, 1px);height: 1px;margin: -1px;overflow: hidden;padding: 0;position: absolute;width: 1px;}#sk-container-id-1 div.sk-estimator {font-family: monospace;background-color: #f0f8ff;border: 1px dotted black;border-radius: 0.25em;box-sizing: border-box;margin-bottom: 0.5em;}#sk-container-id-1 div.sk-estimator:hover {background-color: #d4ebff;}#sk-container-id-1 div.sk-parallel-item::after {content: \"\";width: 100%;border-bottom: 1px solid gray;flex-grow: 1;}#sk-container-id-1 div.sk-label:hover label.sk-toggleable__label {background-color: #d4ebff;}#sk-container-id-1 div.sk-serial::before {content: \"\";position: absolute;border-left: 1px solid gray;box-sizing: border-box;top: 0;bottom: 0;left: 50%;z-index: 0;}#sk-container-id-1 div.sk-serial {display: flex;flex-direction: column;align-items: center;background-color: white;padding-right: 0.2em;padding-left: 0.2em;position: relative;}#sk-container-id-1 div.sk-item {position: relative;z-index: 1;}#sk-container-id-1 div.sk-parallel {display: flex;align-items: stretch;justify-content: center;background-color: white;position: relative;}#sk-container-id-1 div.sk-item::before, #sk-container-id-1 div.sk-parallel-item::before {content: \"\";position: absolute;border-left: 1px solid gray;box-sizing: border-box;top: 0;bottom: 0;left: 50%;z-index: -1;}#sk-container-id-1 div.sk-parallel-item {display: flex;flex-direction: column;z-index: 1;position: relative;background-color: white;}#sk-container-id-1 div.sk-parallel-item:first-child::after {align-self: flex-end;width: 50%;}#sk-container-id-1 div.sk-parallel-item:last-child::after {align-self: flex-start;width: 50%;}#sk-container-id-1 div.sk-parallel-item:only-child::after {width: 0;}#sk-container-id-1 div.sk-dashed-wrapped {border: 1px dashed gray;margin: 0 0.4em 0.5em 0.4em;box-sizing: border-box;padding-bottom: 0.4em;background-color: white;}#sk-container-id-1 div.sk-label label {font-family: monospace;font-weight: bold;display: inline-block;line-height: 1.2em;}#sk-container-id-1 div.sk-label-container {text-align: center;}#sk-container-id-1 div.sk-container {/* jupyter's `normalize.less` sets `[hidden] { display: none; }` but bootstrap.min.css set `[hidden] { display: none !important; }` so we also need the `!important` here to be able to override the default hidden behavior on the sphinx rendered scikit-learn.org. See: https://github.com/scikit-learn/scikit-learn/issues/21755 */display: inline-block !important;position: relative;}#sk-container-id-1 div.sk-text-repr-fallback {display: none;}</style><div id=\"sk-container-id-1\" class=\"sk-top-container\"><div class=\"sk-text-repr-fallback\"><pre>XGBClassifier(base_score=None, booster=None, callbacks=None,\n",
       "              colsample_bylevel=0.6951506527893864,\n",
       "              colsample_bynode=0.17417142954731513,\n",
       "              colsample_bytree=0.3960451059885225, early_stopping_rounds=None,\n",
       "              enable_categorical=False, eta=0.22183018388441755,\n",
       "              eval_metric=None, feature_types=None, gamma=91.18096308891397,\n",
       "              gpu_id=None, grow_policy=None, importance_type=None,\n",
       "              interaction_constraints=None, learning_rate=None, max_bin=None,\n",
       "              max_cat_threshold=None, max_cat_to_onehot=None,\n",
       "              max_delta_step=None, max_depth=23, max_leaves=None,\n",
       "              min_child_weight=47.47850078170565, missing=nan,\n",
       "              monotone_constraints=None, n_estimators=100, n_jobs=None,\n",
       "              num_parallel_tree=None, predictor=None, ...)</pre><b>In a Jupyter environment, please rerun this cell to show the HTML representation or trust the notebook. <br />On GitHub, the HTML representation is unable to render, please try loading this page with nbviewer.org.</b></div><div class=\"sk-container\" hidden><div class=\"sk-item\"><div class=\"sk-estimator sk-toggleable\"><input class=\"sk-toggleable__control sk-hidden--visually\" id=\"sk-estimator-id-1\" type=\"checkbox\" checked><label for=\"sk-estimator-id-1\" class=\"sk-toggleable__label sk-toggleable__label-arrow\">XGBClassifier</label><div class=\"sk-toggleable__content\"><pre>XGBClassifier(base_score=None, booster=None, callbacks=None,\n",
       "              colsample_bylevel=0.6951506527893864,\n",
       "              colsample_bynode=0.17417142954731513,\n",
       "              colsample_bytree=0.3960451059885225, early_stopping_rounds=None,\n",
       "              enable_categorical=False, eta=0.22183018388441755,\n",
       "              eval_metric=None, feature_types=None, gamma=91.18096308891397,\n",
       "              gpu_id=None, grow_policy=None, importance_type=None,\n",
       "              interaction_constraints=None, learning_rate=None, max_bin=None,\n",
       "              max_cat_threshold=None, max_cat_to_onehot=None,\n",
       "              max_delta_step=None, max_depth=23, max_leaves=None,\n",
       "              min_child_weight=47.47850078170565, missing=nan,\n",
       "              monotone_constraints=None, n_estimators=100, n_jobs=None,\n",
       "              num_parallel_tree=None, predictor=None, ...)</pre></div></div></div></div></div>"
      ],
      "text/plain": [
       "XGBClassifier(base_score=None, booster=None, callbacks=None,\n",
       "              colsample_bylevel=0.6951506527893864,\n",
       "              colsample_bynode=0.17417142954731513,\n",
       "              colsample_bytree=0.3960451059885225, early_stopping_rounds=None,\n",
       "              enable_categorical=False, eta=0.22183018388441755,\n",
       "              eval_metric=None, feature_types=None, gamma=91.18096308891397,\n",
       "              gpu_id=None, grow_policy=None, importance_type=None,\n",
       "              interaction_constraints=None, learning_rate=None, max_bin=None,\n",
       "              max_cat_threshold=None, max_cat_to_onehot=None,\n",
       "              max_delta_step=None, max_depth=23, max_leaves=None,\n",
       "              min_child_weight=47.47850078170565, missing=nan,\n",
       "              monotone_constraints=None, n_estimators=100, n_jobs=None,\n",
       "              num_parallel_tree=None, predictor=None, ...)"
      ]
     },
     "execution_count": 45,
     "metadata": {},
     "output_type": "execute_result"
    }
   ],
   "source": [
    "model = XGBClassifier(**best_params)\n",
    "model.fit(X_train[final_cols],y_train)"
   ]
  },
  {
   "cell_type": "code",
   "execution_count": 46,
   "id": "7efaee9e",
   "metadata": {},
   "outputs": [],
   "source": [
    "pred_test = model.predict_proba(X_test[final_cols])\n",
    "pred_test = [p[1] for p in pred_test]\n",
    "pred_train = model.predict_proba(X_train[final_cols])\n",
    "pred_train = [p[1] for p in pred_train]"
   ]
  },
  {
   "cell_type": "code",
   "execution_count": 47,
   "id": "fe353bbe",
   "metadata": {},
   "outputs": [],
   "source": [
    "md = best_params['max_depth']\n",
    "sr = best_params['subsample']\n",
    "ra = best_params['reg_alpha']\n",
    "rl = best_params['reg_lambda']\n",
    "ct = best_params['colsample_bytree']\n",
    "cl = best_params['colsample_bylevel']\n",
    "cn = best_params['colsample_bynode']"
   ]
  },
  {
   "cell_type": "code",
   "execution_count": 48,
   "id": "67258b0a",
   "metadata": {},
   "outputs": [],
   "source": [
    "train = get_decile_data(list(y_train),pred_train,md,sr,ra,rl,ct,cl,cn,'train')\n",
    "decile_cuts = [1.01] + list(train['min_prob'])[:-1] + [0]\n",
    "test = get_decile_data(list(y_test),pred_test,md,sr,ra,rl,ct,cl,cn,'test',cuts=decile_cuts)\n",
    "result = pd.concat([train,test],axis=0).reset_index(drop=True)"
   ]
  },
  {
   "cell_type": "code",
   "execution_count": 54,
   "id": "85ad5d05",
   "metadata": {},
   "outputs": [
    {
     "data": {
      "text/plain": [
       "Index(['decile', 'sum_actuals', 'count', 'min_prob', 'max_prob', 'event_rate',\n",
       "       'event_rate_pct', 'random', 'decile_lift', 'cum_sum_actuals',\n",
       "       'cum_count', 'cum_event_ratio', 'lift_chart_lift', 'lift_chart_ones',\n",
       "       'cum_event_rate', 'cum_perc_pop', 'score9', 'data_type', 'accuracy',\n",
       "       'precision', 'recall', 'f1', 'AUC', 'max_depth', 'subsample', 'alpha',\n",
       "       'lambda', 'colsample_bytree', 'colsample_bylevel', 'colsample_bynode'],\n",
       "      dtype='object')"
      ]
     },
     "execution_count": 54,
     "metadata": {},
     "output_type": "execute_result"
    }
   ],
   "source": [
    "result.columns"
   ]
  },
  {
   "cell_type": "code",
   "execution_count": 70,
   "id": "d3ac3153",
   "metadata": {},
   "outputs": [
    {
     "data": {
      "application/vnd.plotly.v1+json": {
       "config": {
        "plotlyServerURL": "https://plot.ly"
       },
       "data": [
        {
         "mode": "lines+markers",
         "name": "With Model (Train)",
         "type": "scatter",
         "x": [
          10,
          20,
          30,
          40,
          50,
          60,
          70,
          80,
          90,
          100
         ],
         "y": [
          51,
          81,
          94,
          97,
          99,
          99,
          100,
          100,
          100,
          100
         ]
        },
        {
         "mode": "lines+markers",
         "name": "With Model (Test)",
         "type": "scatter",
         "x": [
          10,
          20,
          30,
          40,
          50,
          60,
          70,
          80,
          90,
          100
         ],
         "y": [
          51,
          81,
          95,
          98,
          99,
          100,
          100,
          100,
          100,
          100
         ]
        },
        {
         "mode": "lines+markers",
         "name": "Random",
         "type": "scatter",
         "x": [
          10,
          20,
          30,
          40,
          50,
          60,
          70,
          80,
          90,
          100
         ],
         "y": [
          10,
          20,
          30,
          40,
          50,
          60,
          70,
          80,
          90,
          100
         ]
        }
       ],
       "layout": {
        "template": {
         "data": {
          "bar": [
           {
            "error_x": {
             "color": "#2a3f5f"
            },
            "error_y": {
             "color": "#2a3f5f"
            },
            "marker": {
             "line": {
              "color": "#E5ECF6",
              "width": 0.5
             },
             "pattern": {
              "fillmode": "overlay",
              "size": 10,
              "solidity": 0.2
             }
            },
            "type": "bar"
           }
          ],
          "barpolar": [
           {
            "marker": {
             "line": {
              "color": "#E5ECF6",
              "width": 0.5
             },
             "pattern": {
              "fillmode": "overlay",
              "size": 10,
              "solidity": 0.2
             }
            },
            "type": "barpolar"
           }
          ],
          "carpet": [
           {
            "aaxis": {
             "endlinecolor": "#2a3f5f",
             "gridcolor": "white",
             "linecolor": "white",
             "minorgridcolor": "white",
             "startlinecolor": "#2a3f5f"
            },
            "baxis": {
             "endlinecolor": "#2a3f5f",
             "gridcolor": "white",
             "linecolor": "white",
             "minorgridcolor": "white",
             "startlinecolor": "#2a3f5f"
            },
            "type": "carpet"
           }
          ],
          "choropleth": [
           {
            "colorbar": {
             "outlinewidth": 0,
             "ticks": ""
            },
            "type": "choropleth"
           }
          ],
          "contour": [
           {
            "colorbar": {
             "outlinewidth": 0,
             "ticks": ""
            },
            "colorscale": [
             [
              0,
              "#0d0887"
             ],
             [
              0.1111111111111111,
              "#46039f"
             ],
             [
              0.2222222222222222,
              "#7201a8"
             ],
             [
              0.3333333333333333,
              "#9c179e"
             ],
             [
              0.4444444444444444,
              "#bd3786"
             ],
             [
              0.5555555555555556,
              "#d8576b"
             ],
             [
              0.6666666666666666,
              "#ed7953"
             ],
             [
              0.7777777777777778,
              "#fb9f3a"
             ],
             [
              0.8888888888888888,
              "#fdca26"
             ],
             [
              1,
              "#f0f921"
             ]
            ],
            "type": "contour"
           }
          ],
          "contourcarpet": [
           {
            "colorbar": {
             "outlinewidth": 0,
             "ticks": ""
            },
            "type": "contourcarpet"
           }
          ],
          "heatmap": [
           {
            "colorbar": {
             "outlinewidth": 0,
             "ticks": ""
            },
            "colorscale": [
             [
              0,
              "#0d0887"
             ],
             [
              0.1111111111111111,
              "#46039f"
             ],
             [
              0.2222222222222222,
              "#7201a8"
             ],
             [
              0.3333333333333333,
              "#9c179e"
             ],
             [
              0.4444444444444444,
              "#bd3786"
             ],
             [
              0.5555555555555556,
              "#d8576b"
             ],
             [
              0.6666666666666666,
              "#ed7953"
             ],
             [
              0.7777777777777778,
              "#fb9f3a"
             ],
             [
              0.8888888888888888,
              "#fdca26"
             ],
             [
              1,
              "#f0f921"
             ]
            ],
            "type": "heatmap"
           }
          ],
          "heatmapgl": [
           {
            "colorbar": {
             "outlinewidth": 0,
             "ticks": ""
            },
            "colorscale": [
             [
              0,
              "#0d0887"
             ],
             [
              0.1111111111111111,
              "#46039f"
             ],
             [
              0.2222222222222222,
              "#7201a8"
             ],
             [
              0.3333333333333333,
              "#9c179e"
             ],
             [
              0.4444444444444444,
              "#bd3786"
             ],
             [
              0.5555555555555556,
              "#d8576b"
             ],
             [
              0.6666666666666666,
              "#ed7953"
             ],
             [
              0.7777777777777778,
              "#fb9f3a"
             ],
             [
              0.8888888888888888,
              "#fdca26"
             ],
             [
              1,
              "#f0f921"
             ]
            ],
            "type": "heatmapgl"
           }
          ],
          "histogram": [
           {
            "marker": {
             "pattern": {
              "fillmode": "overlay",
              "size": 10,
              "solidity": 0.2
             }
            },
            "type": "histogram"
           }
          ],
          "histogram2d": [
           {
            "colorbar": {
             "outlinewidth": 0,
             "ticks": ""
            },
            "colorscale": [
             [
              0,
              "#0d0887"
             ],
             [
              0.1111111111111111,
              "#46039f"
             ],
             [
              0.2222222222222222,
              "#7201a8"
             ],
             [
              0.3333333333333333,
              "#9c179e"
             ],
             [
              0.4444444444444444,
              "#bd3786"
             ],
             [
              0.5555555555555556,
              "#d8576b"
             ],
             [
              0.6666666666666666,
              "#ed7953"
             ],
             [
              0.7777777777777778,
              "#fb9f3a"
             ],
             [
              0.8888888888888888,
              "#fdca26"
             ],
             [
              1,
              "#f0f921"
             ]
            ],
            "type": "histogram2d"
           }
          ],
          "histogram2dcontour": [
           {
            "colorbar": {
             "outlinewidth": 0,
             "ticks": ""
            },
            "colorscale": [
             [
              0,
              "#0d0887"
             ],
             [
              0.1111111111111111,
              "#46039f"
             ],
             [
              0.2222222222222222,
              "#7201a8"
             ],
             [
              0.3333333333333333,
              "#9c179e"
             ],
             [
              0.4444444444444444,
              "#bd3786"
             ],
             [
              0.5555555555555556,
              "#d8576b"
             ],
             [
              0.6666666666666666,
              "#ed7953"
             ],
             [
              0.7777777777777778,
              "#fb9f3a"
             ],
             [
              0.8888888888888888,
              "#fdca26"
             ],
             [
              1,
              "#f0f921"
             ]
            ],
            "type": "histogram2dcontour"
           }
          ],
          "mesh3d": [
           {
            "colorbar": {
             "outlinewidth": 0,
             "ticks": ""
            },
            "type": "mesh3d"
           }
          ],
          "parcoords": [
           {
            "line": {
             "colorbar": {
              "outlinewidth": 0,
              "ticks": ""
             }
            },
            "type": "parcoords"
           }
          ],
          "pie": [
           {
            "automargin": true,
            "type": "pie"
           }
          ],
          "scatter": [
           {
            "fillpattern": {
             "fillmode": "overlay",
             "size": 10,
             "solidity": 0.2
            },
            "type": "scatter"
           }
          ],
          "scatter3d": [
           {
            "line": {
             "colorbar": {
              "outlinewidth": 0,
              "ticks": ""
             }
            },
            "marker": {
             "colorbar": {
              "outlinewidth": 0,
              "ticks": ""
             }
            },
            "type": "scatter3d"
           }
          ],
          "scattercarpet": [
           {
            "marker": {
             "colorbar": {
              "outlinewidth": 0,
              "ticks": ""
             }
            },
            "type": "scattercarpet"
           }
          ],
          "scattergeo": [
           {
            "marker": {
             "colorbar": {
              "outlinewidth": 0,
              "ticks": ""
             }
            },
            "type": "scattergeo"
           }
          ],
          "scattergl": [
           {
            "marker": {
             "colorbar": {
              "outlinewidth": 0,
              "ticks": ""
             }
            },
            "type": "scattergl"
           }
          ],
          "scattermapbox": [
           {
            "marker": {
             "colorbar": {
              "outlinewidth": 0,
              "ticks": ""
             }
            },
            "type": "scattermapbox"
           }
          ],
          "scatterpolar": [
           {
            "marker": {
             "colorbar": {
              "outlinewidth": 0,
              "ticks": ""
             }
            },
            "type": "scatterpolar"
           }
          ],
          "scatterpolargl": [
           {
            "marker": {
             "colorbar": {
              "outlinewidth": 0,
              "ticks": ""
             }
            },
            "type": "scatterpolargl"
           }
          ],
          "scatterternary": [
           {
            "marker": {
             "colorbar": {
              "outlinewidth": 0,
              "ticks": ""
             }
            },
            "type": "scatterternary"
           }
          ],
          "surface": [
           {
            "colorbar": {
             "outlinewidth": 0,
             "ticks": ""
            },
            "colorscale": [
             [
              0,
              "#0d0887"
             ],
             [
              0.1111111111111111,
              "#46039f"
             ],
             [
              0.2222222222222222,
              "#7201a8"
             ],
             [
              0.3333333333333333,
              "#9c179e"
             ],
             [
              0.4444444444444444,
              "#bd3786"
             ],
             [
              0.5555555555555556,
              "#d8576b"
             ],
             [
              0.6666666666666666,
              "#ed7953"
             ],
             [
              0.7777777777777778,
              "#fb9f3a"
             ],
             [
              0.8888888888888888,
              "#fdca26"
             ],
             [
              1,
              "#f0f921"
             ]
            ],
            "type": "surface"
           }
          ],
          "table": [
           {
            "cells": {
             "fill": {
              "color": "#EBF0F8"
             },
             "line": {
              "color": "white"
             }
            },
            "header": {
             "fill": {
              "color": "#C8D4E3"
             },
             "line": {
              "color": "white"
             }
            },
            "type": "table"
           }
          ]
         },
         "layout": {
          "annotationdefaults": {
           "arrowcolor": "#2a3f5f",
           "arrowhead": 0,
           "arrowwidth": 1
          },
          "autotypenumbers": "strict",
          "coloraxis": {
           "colorbar": {
            "outlinewidth": 0,
            "ticks": ""
           }
          },
          "colorscale": {
           "diverging": [
            [
             0,
             "#8e0152"
            ],
            [
             0.1,
             "#c51b7d"
            ],
            [
             0.2,
             "#de77ae"
            ],
            [
             0.3,
             "#f1b6da"
            ],
            [
             0.4,
             "#fde0ef"
            ],
            [
             0.5,
             "#f7f7f7"
            ],
            [
             0.6,
             "#e6f5d0"
            ],
            [
             0.7,
             "#b8e186"
            ],
            [
             0.8,
             "#7fbc41"
            ],
            [
             0.9,
             "#4d9221"
            ],
            [
             1,
             "#276419"
            ]
           ],
           "sequential": [
            [
             0,
             "#0d0887"
            ],
            [
             0.1111111111111111,
             "#46039f"
            ],
            [
             0.2222222222222222,
             "#7201a8"
            ],
            [
             0.3333333333333333,
             "#9c179e"
            ],
            [
             0.4444444444444444,
             "#bd3786"
            ],
            [
             0.5555555555555556,
             "#d8576b"
            ],
            [
             0.6666666666666666,
             "#ed7953"
            ],
            [
             0.7777777777777778,
             "#fb9f3a"
            ],
            [
             0.8888888888888888,
             "#fdca26"
            ],
            [
             1,
             "#f0f921"
            ]
           ],
           "sequentialminus": [
            [
             0,
             "#0d0887"
            ],
            [
             0.1111111111111111,
             "#46039f"
            ],
            [
             0.2222222222222222,
             "#7201a8"
            ],
            [
             0.3333333333333333,
             "#9c179e"
            ],
            [
             0.4444444444444444,
             "#bd3786"
            ],
            [
             0.5555555555555556,
             "#d8576b"
            ],
            [
             0.6666666666666666,
             "#ed7953"
            ],
            [
             0.7777777777777778,
             "#fb9f3a"
            ],
            [
             0.8888888888888888,
             "#fdca26"
            ],
            [
             1,
             "#f0f921"
            ]
           ]
          },
          "colorway": [
           "#636efa",
           "#EF553B",
           "#00cc96",
           "#ab63fa",
           "#FFA15A",
           "#19d3f3",
           "#FF6692",
           "#B6E880",
           "#FF97FF",
           "#FECB52"
          ],
          "font": {
           "color": "#2a3f5f"
          },
          "geo": {
           "bgcolor": "white",
           "lakecolor": "white",
           "landcolor": "#E5ECF6",
           "showlakes": true,
           "showland": true,
           "subunitcolor": "white"
          },
          "hoverlabel": {
           "align": "left"
          },
          "hovermode": "closest",
          "mapbox": {
           "style": "light"
          },
          "paper_bgcolor": "white",
          "plot_bgcolor": "#E5ECF6",
          "polar": {
           "angularaxis": {
            "gridcolor": "white",
            "linecolor": "white",
            "ticks": ""
           },
           "bgcolor": "#E5ECF6",
           "radialaxis": {
            "gridcolor": "white",
            "linecolor": "white",
            "ticks": ""
           }
          },
          "scene": {
           "xaxis": {
            "backgroundcolor": "#E5ECF6",
            "gridcolor": "white",
            "gridwidth": 2,
            "linecolor": "white",
            "showbackground": true,
            "ticks": "",
            "zerolinecolor": "white"
           },
           "yaxis": {
            "backgroundcolor": "#E5ECF6",
            "gridcolor": "white",
            "gridwidth": 2,
            "linecolor": "white",
            "showbackground": true,
            "ticks": "",
            "zerolinecolor": "white"
           },
           "zaxis": {
            "backgroundcolor": "#E5ECF6",
            "gridcolor": "white",
            "gridwidth": 2,
            "linecolor": "white",
            "showbackground": true,
            "ticks": "",
            "zerolinecolor": "white"
           }
          },
          "shapedefaults": {
           "line": {
            "color": "#2a3f5f"
           }
          },
          "ternary": {
           "aaxis": {
            "gridcolor": "white",
            "linecolor": "white",
            "ticks": ""
           },
           "baxis": {
            "gridcolor": "white",
            "linecolor": "white",
            "ticks": ""
           },
           "bgcolor": "#E5ECF6",
           "caxis": {
            "gridcolor": "white",
            "linecolor": "white",
            "ticks": ""
           }
          },
          "title": {
           "x": 0.05
          },
          "xaxis": {
           "automargin": true,
           "gridcolor": "white",
           "linecolor": "white",
           "ticks": "",
           "title": {
            "standoff": 15
           },
           "zerolinecolor": "white",
           "zerolinewidth": 2
          },
          "yaxis": {
           "automargin": true,
           "gridcolor": "white",
           "linecolor": "white",
           "ticks": "",
           "title": {
            "standoff": 15
           },
           "zerolinecolor": "white",
           "zerolinewidth": 2
          }
         }
        },
        "title": {
         "text": "1. Gain Chart"
        },
        "xaxis": {
         "title": {
          "text": "% of Customers"
         }
        },
        "yaxis": {
         "title": {
          "text": "Cumulative % of Acceptance"
         }
        }
       }
      },
      "text/html": [
       "<div>                            <div id=\"49f1c9b0-770a-46b6-b49a-42d37c08366e\" class=\"plotly-graph-div\" style=\"height:525px; width:100%;\"></div>            <script type=\"text/javascript\">                require([\"plotly\"], function(Plotly) {                    window.PLOTLYENV=window.PLOTLYENV || {};                                    if (document.getElementById(\"49f1c9b0-770a-46b6-b49a-42d37c08366e\")) {                    Plotly.newPlot(                        \"49f1c9b0-770a-46b6-b49a-42d37c08366e\",                        [{\"mode\":\"lines+markers\",\"name\":\"With Model (Train)\",\"x\":[10,20,30,40,50,60,70,80,90,100],\"y\":[51.0,81.0,94.0,97.0,99.0,99.0,100.0,100.0,100.0,100.0],\"type\":\"scatter\"},{\"mode\":\"lines+markers\",\"name\":\"With Model (Test)\",\"x\":[10,20,30,40,50,60,70,80,90,100],\"y\":[51.0,81.0,95.0,98.0,99.0,100.0,100.0,100.0,100.0,100.0],\"type\":\"scatter\"},{\"mode\":\"lines+markers\",\"name\":\"Random\",\"x\":[10,20,30,40,50,60,70,80,90,100],\"y\":[10,20,30,40,50,60,70,80,90,100],\"type\":\"scatter\"}],                        {\"template\":{\"data\":{\"histogram2dcontour\":[{\"type\":\"histogram2dcontour\",\"colorbar\":{\"outlinewidth\":0,\"ticks\":\"\"},\"colorscale\":[[0.0,\"#0d0887\"],[0.1111111111111111,\"#46039f\"],[0.2222222222222222,\"#7201a8\"],[0.3333333333333333,\"#9c179e\"],[0.4444444444444444,\"#bd3786\"],[0.5555555555555556,\"#d8576b\"],[0.6666666666666666,\"#ed7953\"],[0.7777777777777778,\"#fb9f3a\"],[0.8888888888888888,\"#fdca26\"],[1.0,\"#f0f921\"]]}],\"choropleth\":[{\"type\":\"choropleth\",\"colorbar\":{\"outlinewidth\":0,\"ticks\":\"\"}}],\"histogram2d\":[{\"type\":\"histogram2d\",\"colorbar\":{\"outlinewidth\":0,\"ticks\":\"\"},\"colorscale\":[[0.0,\"#0d0887\"],[0.1111111111111111,\"#46039f\"],[0.2222222222222222,\"#7201a8\"],[0.3333333333333333,\"#9c179e\"],[0.4444444444444444,\"#bd3786\"],[0.5555555555555556,\"#d8576b\"],[0.6666666666666666,\"#ed7953\"],[0.7777777777777778,\"#fb9f3a\"],[0.8888888888888888,\"#fdca26\"],[1.0,\"#f0f921\"]]}],\"heatmap\":[{\"type\":\"heatmap\",\"colorbar\":{\"outlinewidth\":0,\"ticks\":\"\"},\"colorscale\":[[0.0,\"#0d0887\"],[0.1111111111111111,\"#46039f\"],[0.2222222222222222,\"#7201a8\"],[0.3333333333333333,\"#9c179e\"],[0.4444444444444444,\"#bd3786\"],[0.5555555555555556,\"#d8576b\"],[0.6666666666666666,\"#ed7953\"],[0.7777777777777778,\"#fb9f3a\"],[0.8888888888888888,\"#fdca26\"],[1.0,\"#f0f921\"]]}],\"heatmapgl\":[{\"type\":\"heatmapgl\",\"colorbar\":{\"outlinewidth\":0,\"ticks\":\"\"},\"colorscale\":[[0.0,\"#0d0887\"],[0.1111111111111111,\"#46039f\"],[0.2222222222222222,\"#7201a8\"],[0.3333333333333333,\"#9c179e\"],[0.4444444444444444,\"#bd3786\"],[0.5555555555555556,\"#d8576b\"],[0.6666666666666666,\"#ed7953\"],[0.7777777777777778,\"#fb9f3a\"],[0.8888888888888888,\"#fdca26\"],[1.0,\"#f0f921\"]]}],\"contourcarpet\":[{\"type\":\"contourcarpet\",\"colorbar\":{\"outlinewidth\":0,\"ticks\":\"\"}}],\"contour\":[{\"type\":\"contour\",\"colorbar\":{\"outlinewidth\":0,\"ticks\":\"\"},\"colorscale\":[[0.0,\"#0d0887\"],[0.1111111111111111,\"#46039f\"],[0.2222222222222222,\"#7201a8\"],[0.3333333333333333,\"#9c179e\"],[0.4444444444444444,\"#bd3786\"],[0.5555555555555556,\"#d8576b\"],[0.6666666666666666,\"#ed7953\"],[0.7777777777777778,\"#fb9f3a\"],[0.8888888888888888,\"#fdca26\"],[1.0,\"#f0f921\"]]}],\"surface\":[{\"type\":\"surface\",\"colorbar\":{\"outlinewidth\":0,\"ticks\":\"\"},\"colorscale\":[[0.0,\"#0d0887\"],[0.1111111111111111,\"#46039f\"],[0.2222222222222222,\"#7201a8\"],[0.3333333333333333,\"#9c179e\"],[0.4444444444444444,\"#bd3786\"],[0.5555555555555556,\"#d8576b\"],[0.6666666666666666,\"#ed7953\"],[0.7777777777777778,\"#fb9f3a\"],[0.8888888888888888,\"#fdca26\"],[1.0,\"#f0f921\"]]}],\"mesh3d\":[{\"type\":\"mesh3d\",\"colorbar\":{\"outlinewidth\":0,\"ticks\":\"\"}}],\"scatter\":[{\"fillpattern\":{\"fillmode\":\"overlay\",\"size\":10,\"solidity\":0.2},\"type\":\"scatter\"}],\"parcoords\":[{\"type\":\"parcoords\",\"line\":{\"colorbar\":{\"outlinewidth\":0,\"ticks\":\"\"}}}],\"scatterpolargl\":[{\"type\":\"scatterpolargl\",\"marker\":{\"colorbar\":{\"outlinewidth\":0,\"ticks\":\"\"}}}],\"bar\":[{\"error_x\":{\"color\":\"#2a3f5f\"},\"error_y\":{\"color\":\"#2a3f5f\"},\"marker\":{\"line\":{\"color\":\"#E5ECF6\",\"width\":0.5},\"pattern\":{\"fillmode\":\"overlay\",\"size\":10,\"solidity\":0.2}},\"type\":\"bar\"}],\"scattergeo\":[{\"type\":\"scattergeo\",\"marker\":{\"colorbar\":{\"outlinewidth\":0,\"ticks\":\"\"}}}],\"scatterpolar\":[{\"type\":\"scatterpolar\",\"marker\":{\"colorbar\":{\"outlinewidth\":0,\"ticks\":\"\"}}}],\"histogram\":[{\"marker\":{\"pattern\":{\"fillmode\":\"overlay\",\"size\":10,\"solidity\":0.2}},\"type\":\"histogram\"}],\"scattergl\":[{\"type\":\"scattergl\",\"marker\":{\"colorbar\":{\"outlinewidth\":0,\"ticks\":\"\"}}}],\"scatter3d\":[{\"type\":\"scatter3d\",\"line\":{\"colorbar\":{\"outlinewidth\":0,\"ticks\":\"\"}},\"marker\":{\"colorbar\":{\"outlinewidth\":0,\"ticks\":\"\"}}}],\"scattermapbox\":[{\"type\":\"scattermapbox\",\"marker\":{\"colorbar\":{\"outlinewidth\":0,\"ticks\":\"\"}}}],\"scatterternary\":[{\"type\":\"scatterternary\",\"marker\":{\"colorbar\":{\"outlinewidth\":0,\"ticks\":\"\"}}}],\"scattercarpet\":[{\"type\":\"scattercarpet\",\"marker\":{\"colorbar\":{\"outlinewidth\":0,\"ticks\":\"\"}}}],\"carpet\":[{\"aaxis\":{\"endlinecolor\":\"#2a3f5f\",\"gridcolor\":\"white\",\"linecolor\":\"white\",\"minorgridcolor\":\"white\",\"startlinecolor\":\"#2a3f5f\"},\"baxis\":{\"endlinecolor\":\"#2a3f5f\",\"gridcolor\":\"white\",\"linecolor\":\"white\",\"minorgridcolor\":\"white\",\"startlinecolor\":\"#2a3f5f\"},\"type\":\"carpet\"}],\"table\":[{\"cells\":{\"fill\":{\"color\":\"#EBF0F8\"},\"line\":{\"color\":\"white\"}},\"header\":{\"fill\":{\"color\":\"#C8D4E3\"},\"line\":{\"color\":\"white\"}},\"type\":\"table\"}],\"barpolar\":[{\"marker\":{\"line\":{\"color\":\"#E5ECF6\",\"width\":0.5},\"pattern\":{\"fillmode\":\"overlay\",\"size\":10,\"solidity\":0.2}},\"type\":\"barpolar\"}],\"pie\":[{\"automargin\":true,\"type\":\"pie\"}]},\"layout\":{\"autotypenumbers\":\"strict\",\"colorway\":[\"#636efa\",\"#EF553B\",\"#00cc96\",\"#ab63fa\",\"#FFA15A\",\"#19d3f3\",\"#FF6692\",\"#B6E880\",\"#FF97FF\",\"#FECB52\"],\"font\":{\"color\":\"#2a3f5f\"},\"hovermode\":\"closest\",\"hoverlabel\":{\"align\":\"left\"},\"paper_bgcolor\":\"white\",\"plot_bgcolor\":\"#E5ECF6\",\"polar\":{\"bgcolor\":\"#E5ECF6\",\"angularaxis\":{\"gridcolor\":\"white\",\"linecolor\":\"white\",\"ticks\":\"\"},\"radialaxis\":{\"gridcolor\":\"white\",\"linecolor\":\"white\",\"ticks\":\"\"}},\"ternary\":{\"bgcolor\":\"#E5ECF6\",\"aaxis\":{\"gridcolor\":\"white\",\"linecolor\":\"white\",\"ticks\":\"\"},\"baxis\":{\"gridcolor\":\"white\",\"linecolor\":\"white\",\"ticks\":\"\"},\"caxis\":{\"gridcolor\":\"white\",\"linecolor\":\"white\",\"ticks\":\"\"}},\"coloraxis\":{\"colorbar\":{\"outlinewidth\":0,\"ticks\":\"\"}},\"colorscale\":{\"sequential\":[[0.0,\"#0d0887\"],[0.1111111111111111,\"#46039f\"],[0.2222222222222222,\"#7201a8\"],[0.3333333333333333,\"#9c179e\"],[0.4444444444444444,\"#bd3786\"],[0.5555555555555556,\"#d8576b\"],[0.6666666666666666,\"#ed7953\"],[0.7777777777777778,\"#fb9f3a\"],[0.8888888888888888,\"#fdca26\"],[1.0,\"#f0f921\"]],\"sequentialminus\":[[0.0,\"#0d0887\"],[0.1111111111111111,\"#46039f\"],[0.2222222222222222,\"#7201a8\"],[0.3333333333333333,\"#9c179e\"],[0.4444444444444444,\"#bd3786\"],[0.5555555555555556,\"#d8576b\"],[0.6666666666666666,\"#ed7953\"],[0.7777777777777778,\"#fb9f3a\"],[0.8888888888888888,\"#fdca26\"],[1.0,\"#f0f921\"]],\"diverging\":[[0,\"#8e0152\"],[0.1,\"#c51b7d\"],[0.2,\"#de77ae\"],[0.3,\"#f1b6da\"],[0.4,\"#fde0ef\"],[0.5,\"#f7f7f7\"],[0.6,\"#e6f5d0\"],[0.7,\"#b8e186\"],[0.8,\"#7fbc41\"],[0.9,\"#4d9221\"],[1,\"#276419\"]]},\"xaxis\":{\"gridcolor\":\"white\",\"linecolor\":\"white\",\"ticks\":\"\",\"title\":{\"standoff\":15},\"zerolinecolor\":\"white\",\"automargin\":true,\"zerolinewidth\":2},\"yaxis\":{\"gridcolor\":\"white\",\"linecolor\":\"white\",\"ticks\":\"\",\"title\":{\"standoff\":15},\"zerolinecolor\":\"white\",\"automargin\":true,\"zerolinewidth\":2},\"scene\":{\"xaxis\":{\"backgroundcolor\":\"#E5ECF6\",\"gridcolor\":\"white\",\"linecolor\":\"white\",\"showbackground\":true,\"ticks\":\"\",\"zerolinecolor\":\"white\",\"gridwidth\":2},\"yaxis\":{\"backgroundcolor\":\"#E5ECF6\",\"gridcolor\":\"white\",\"linecolor\":\"white\",\"showbackground\":true,\"ticks\":\"\",\"zerolinecolor\":\"white\",\"gridwidth\":2},\"zaxis\":{\"backgroundcolor\":\"#E5ECF6\",\"gridcolor\":\"white\",\"linecolor\":\"white\",\"showbackground\":true,\"ticks\":\"\",\"zerolinecolor\":\"white\",\"gridwidth\":2}},\"shapedefaults\":{\"line\":{\"color\":\"#2a3f5f\"}},\"annotationdefaults\":{\"arrowcolor\":\"#2a3f5f\",\"arrowhead\":0,\"arrowwidth\":1},\"geo\":{\"bgcolor\":\"white\",\"landcolor\":\"#E5ECF6\",\"subunitcolor\":\"white\",\"showland\":true,\"showlakes\":true,\"lakecolor\":\"white\"},\"title\":{\"x\":0.05},\"mapbox\":{\"style\":\"light\"}}},\"title\":{\"text\":\"1. Gain Chart\"},\"xaxis\":{\"title\":{\"text\":\"% of Customers\"}},\"yaxis\":{\"title\":{\"text\":\"Cumulative % of Acceptance\"}}},                        {\"responsive\": true}                    ).then(function(){\n",
       "                            \n",
       "var gd = document.getElementById('49f1c9b0-770a-46b6-b49a-42d37c08366e');\n",
       "var x = new MutationObserver(function (mutations, observer) {{\n",
       "        var display = window.getComputedStyle(gd).display;\n",
       "        if (!display || display === 'none') {{\n",
       "            console.log([gd, 'removed!']);\n",
       "            Plotly.purge(gd);\n",
       "            observer.disconnect();\n",
       "        }}\n",
       "}});\n",
       "\n",
       "// Listen for the removal of the full notebook cells\n",
       "var notebookContainer = gd.closest('#notebook-container');\n",
       "if (notebookContainer) {{\n",
       "    x.observe(notebookContainer, {childList: true});\n",
       "}}\n",
       "\n",
       "// Listen for the clearing of the current output cell\n",
       "var outputEl = gd.closest('.output');\n",
       "if (outputEl) {{\n",
       "    x.observe(outputEl, {childList: true});\n",
       "}}\n",
       "\n",
       "                        })                };                });            </script>        </div>"
      ]
     },
     "metadata": {},
     "output_type": "display_data"
    },
    {
     "data": {
      "text/plain": [
       "237"
      ]
     },
     "execution_count": 70,
     "metadata": {},
     "output_type": "execute_result"
    }
   ],
   "source": [
    "fig = go.Figure()\n",
    "fig.add_trace(go.Scatter(x=result[result['data_type'] == 'train']['cum_perc_pop'], y=result[result['data_type'] == 'train']['cum_event_rate'],\n",
    "                         mode='lines+markers', name='With Model (Train)'))\n",
    "\n",
    "fig.add_trace(go.Scatter(x=result[result['data_type'] == 'test']['cum_perc_pop'], y=result[result['data_type'] == 'test']['cum_event_rate'],\n",
    "                         mode='lines+markers', name='With Model (Test)'))\n",
    "\n",
    "\n",
    "fig.add_trace(go.Scatter(x=result[result['data_type'] == 'test']['cum_perc_pop'], y=result[result['data_type'] == 'test']['cum_perc_pop'],\n",
    "                         mode='lines+markers', name='Random'))\n",
    "\n",
    "#fig.add_trace(go.Bar(x=result[result['data_type'] == 'test']['decile'],y=result[result['data_type'] == 'test']['lift_chart_lift'],name='samples'))\n",
    "\n",
    "fig.update_layout(title='1. Gain Chart',\n",
    "                   xaxis_title='% of Customers',\n",
    "                   yaxis_title='Cumulative % of Acceptance')\n",
    "fig.show()\n",
    "gc.collect()"
   ]
  },
  {
   "cell_type": "code",
   "execution_count": 71,
   "id": "bcd529cb",
   "metadata": {},
   "outputs": [
    {
     "data": {
      "application/vnd.plotly.v1+json": {
       "config": {
        "plotlyServerURL": "https://plot.ly"
       },
       "data": [
        {
         "mode": "lines+markers",
         "name": "With Model (Train)",
         "type": "scatter",
         "x": [
          1,
          2,
          3,
          4,
          5,
          6,
          7,
          8,
          9,
          10
         ],
         "y": [
          0.58,
          0.33,
          0.14,
          0.04,
          0.02,
          0.01,
          0,
          0,
          0,
          0
         ]
        },
        {
         "mode": "lines+markers",
         "name": "With Model (Test)",
         "type": "scatter",
         "x": [
          1,
          2,
          3,
          4,
          5,
          6,
          7,
          8,
          9,
          10
         ],
         "y": [
          0.57,
          0.32,
          0.14,
          0.04,
          0.02,
          0,
          0,
          0,
          0,
          0
         ]
        },
        {
         "mode": "lines+markers",
         "name": "Random",
         "type": "scatter",
         "x": [
          1,
          2,
          3,
          4,
          5,
          6,
          7,
          8,
          9,
          10
         ],
         "y": [
          0.11,
          0.11,
          0.11,
          0.11,
          0.11,
          0.11,
          0.11,
          0.11,
          0.11,
          0.11
         ]
        }
       ],
       "layout": {
        "template": {
         "data": {
          "bar": [
           {
            "error_x": {
             "color": "#2a3f5f"
            },
            "error_y": {
             "color": "#2a3f5f"
            },
            "marker": {
             "line": {
              "color": "#E5ECF6",
              "width": 0.5
             },
             "pattern": {
              "fillmode": "overlay",
              "size": 10,
              "solidity": 0.2
             }
            },
            "type": "bar"
           }
          ],
          "barpolar": [
           {
            "marker": {
             "line": {
              "color": "#E5ECF6",
              "width": 0.5
             },
             "pattern": {
              "fillmode": "overlay",
              "size": 10,
              "solidity": 0.2
             }
            },
            "type": "barpolar"
           }
          ],
          "carpet": [
           {
            "aaxis": {
             "endlinecolor": "#2a3f5f",
             "gridcolor": "white",
             "linecolor": "white",
             "minorgridcolor": "white",
             "startlinecolor": "#2a3f5f"
            },
            "baxis": {
             "endlinecolor": "#2a3f5f",
             "gridcolor": "white",
             "linecolor": "white",
             "minorgridcolor": "white",
             "startlinecolor": "#2a3f5f"
            },
            "type": "carpet"
           }
          ],
          "choropleth": [
           {
            "colorbar": {
             "outlinewidth": 0,
             "ticks": ""
            },
            "type": "choropleth"
           }
          ],
          "contour": [
           {
            "colorbar": {
             "outlinewidth": 0,
             "ticks": ""
            },
            "colorscale": [
             [
              0,
              "#0d0887"
             ],
             [
              0.1111111111111111,
              "#46039f"
             ],
             [
              0.2222222222222222,
              "#7201a8"
             ],
             [
              0.3333333333333333,
              "#9c179e"
             ],
             [
              0.4444444444444444,
              "#bd3786"
             ],
             [
              0.5555555555555556,
              "#d8576b"
             ],
             [
              0.6666666666666666,
              "#ed7953"
             ],
             [
              0.7777777777777778,
              "#fb9f3a"
             ],
             [
              0.8888888888888888,
              "#fdca26"
             ],
             [
              1,
              "#f0f921"
             ]
            ],
            "type": "contour"
           }
          ],
          "contourcarpet": [
           {
            "colorbar": {
             "outlinewidth": 0,
             "ticks": ""
            },
            "type": "contourcarpet"
           }
          ],
          "heatmap": [
           {
            "colorbar": {
             "outlinewidth": 0,
             "ticks": ""
            },
            "colorscale": [
             [
              0,
              "#0d0887"
             ],
             [
              0.1111111111111111,
              "#46039f"
             ],
             [
              0.2222222222222222,
              "#7201a8"
             ],
             [
              0.3333333333333333,
              "#9c179e"
             ],
             [
              0.4444444444444444,
              "#bd3786"
             ],
             [
              0.5555555555555556,
              "#d8576b"
             ],
             [
              0.6666666666666666,
              "#ed7953"
             ],
             [
              0.7777777777777778,
              "#fb9f3a"
             ],
             [
              0.8888888888888888,
              "#fdca26"
             ],
             [
              1,
              "#f0f921"
             ]
            ],
            "type": "heatmap"
           }
          ],
          "heatmapgl": [
           {
            "colorbar": {
             "outlinewidth": 0,
             "ticks": ""
            },
            "colorscale": [
             [
              0,
              "#0d0887"
             ],
             [
              0.1111111111111111,
              "#46039f"
             ],
             [
              0.2222222222222222,
              "#7201a8"
             ],
             [
              0.3333333333333333,
              "#9c179e"
             ],
             [
              0.4444444444444444,
              "#bd3786"
             ],
             [
              0.5555555555555556,
              "#d8576b"
             ],
             [
              0.6666666666666666,
              "#ed7953"
             ],
             [
              0.7777777777777778,
              "#fb9f3a"
             ],
             [
              0.8888888888888888,
              "#fdca26"
             ],
             [
              1,
              "#f0f921"
             ]
            ],
            "type": "heatmapgl"
           }
          ],
          "histogram": [
           {
            "marker": {
             "pattern": {
              "fillmode": "overlay",
              "size": 10,
              "solidity": 0.2
             }
            },
            "type": "histogram"
           }
          ],
          "histogram2d": [
           {
            "colorbar": {
             "outlinewidth": 0,
             "ticks": ""
            },
            "colorscale": [
             [
              0,
              "#0d0887"
             ],
             [
              0.1111111111111111,
              "#46039f"
             ],
             [
              0.2222222222222222,
              "#7201a8"
             ],
             [
              0.3333333333333333,
              "#9c179e"
             ],
             [
              0.4444444444444444,
              "#bd3786"
             ],
             [
              0.5555555555555556,
              "#d8576b"
             ],
             [
              0.6666666666666666,
              "#ed7953"
             ],
             [
              0.7777777777777778,
              "#fb9f3a"
             ],
             [
              0.8888888888888888,
              "#fdca26"
             ],
             [
              1,
              "#f0f921"
             ]
            ],
            "type": "histogram2d"
           }
          ],
          "histogram2dcontour": [
           {
            "colorbar": {
             "outlinewidth": 0,
             "ticks": ""
            },
            "colorscale": [
             [
              0,
              "#0d0887"
             ],
             [
              0.1111111111111111,
              "#46039f"
             ],
             [
              0.2222222222222222,
              "#7201a8"
             ],
             [
              0.3333333333333333,
              "#9c179e"
             ],
             [
              0.4444444444444444,
              "#bd3786"
             ],
             [
              0.5555555555555556,
              "#d8576b"
             ],
             [
              0.6666666666666666,
              "#ed7953"
             ],
             [
              0.7777777777777778,
              "#fb9f3a"
             ],
             [
              0.8888888888888888,
              "#fdca26"
             ],
             [
              1,
              "#f0f921"
             ]
            ],
            "type": "histogram2dcontour"
           }
          ],
          "mesh3d": [
           {
            "colorbar": {
             "outlinewidth": 0,
             "ticks": ""
            },
            "type": "mesh3d"
           }
          ],
          "parcoords": [
           {
            "line": {
             "colorbar": {
              "outlinewidth": 0,
              "ticks": ""
             }
            },
            "type": "parcoords"
           }
          ],
          "pie": [
           {
            "automargin": true,
            "type": "pie"
           }
          ],
          "scatter": [
           {
            "fillpattern": {
             "fillmode": "overlay",
             "size": 10,
             "solidity": 0.2
            },
            "type": "scatter"
           }
          ],
          "scatter3d": [
           {
            "line": {
             "colorbar": {
              "outlinewidth": 0,
              "ticks": ""
             }
            },
            "marker": {
             "colorbar": {
              "outlinewidth": 0,
              "ticks": ""
             }
            },
            "type": "scatter3d"
           }
          ],
          "scattercarpet": [
           {
            "marker": {
             "colorbar": {
              "outlinewidth": 0,
              "ticks": ""
             }
            },
            "type": "scattercarpet"
           }
          ],
          "scattergeo": [
           {
            "marker": {
             "colorbar": {
              "outlinewidth": 0,
              "ticks": ""
             }
            },
            "type": "scattergeo"
           }
          ],
          "scattergl": [
           {
            "marker": {
             "colorbar": {
              "outlinewidth": 0,
              "ticks": ""
             }
            },
            "type": "scattergl"
           }
          ],
          "scattermapbox": [
           {
            "marker": {
             "colorbar": {
              "outlinewidth": 0,
              "ticks": ""
             }
            },
            "type": "scattermapbox"
           }
          ],
          "scatterpolar": [
           {
            "marker": {
             "colorbar": {
              "outlinewidth": 0,
              "ticks": ""
             }
            },
            "type": "scatterpolar"
           }
          ],
          "scatterpolargl": [
           {
            "marker": {
             "colorbar": {
              "outlinewidth": 0,
              "ticks": ""
             }
            },
            "type": "scatterpolargl"
           }
          ],
          "scatterternary": [
           {
            "marker": {
             "colorbar": {
              "outlinewidth": 0,
              "ticks": ""
             }
            },
            "type": "scatterternary"
           }
          ],
          "surface": [
           {
            "colorbar": {
             "outlinewidth": 0,
             "ticks": ""
            },
            "colorscale": [
             [
              0,
              "#0d0887"
             ],
             [
              0.1111111111111111,
              "#46039f"
             ],
             [
              0.2222222222222222,
              "#7201a8"
             ],
             [
              0.3333333333333333,
              "#9c179e"
             ],
             [
              0.4444444444444444,
              "#bd3786"
             ],
             [
              0.5555555555555556,
              "#d8576b"
             ],
             [
              0.6666666666666666,
              "#ed7953"
             ],
             [
              0.7777777777777778,
              "#fb9f3a"
             ],
             [
              0.8888888888888888,
              "#fdca26"
             ],
             [
              1,
              "#f0f921"
             ]
            ],
            "type": "surface"
           }
          ],
          "table": [
           {
            "cells": {
             "fill": {
              "color": "#EBF0F8"
             },
             "line": {
              "color": "white"
             }
            },
            "header": {
             "fill": {
              "color": "#C8D4E3"
             },
             "line": {
              "color": "white"
             }
            },
            "type": "table"
           }
          ]
         },
         "layout": {
          "annotationdefaults": {
           "arrowcolor": "#2a3f5f",
           "arrowhead": 0,
           "arrowwidth": 1
          },
          "autotypenumbers": "strict",
          "coloraxis": {
           "colorbar": {
            "outlinewidth": 0,
            "ticks": ""
           }
          },
          "colorscale": {
           "diverging": [
            [
             0,
             "#8e0152"
            ],
            [
             0.1,
             "#c51b7d"
            ],
            [
             0.2,
             "#de77ae"
            ],
            [
             0.3,
             "#f1b6da"
            ],
            [
             0.4,
             "#fde0ef"
            ],
            [
             0.5,
             "#f7f7f7"
            ],
            [
             0.6,
             "#e6f5d0"
            ],
            [
             0.7,
             "#b8e186"
            ],
            [
             0.8,
             "#7fbc41"
            ],
            [
             0.9,
             "#4d9221"
            ],
            [
             1,
             "#276419"
            ]
           ],
           "sequential": [
            [
             0,
             "#0d0887"
            ],
            [
             0.1111111111111111,
             "#46039f"
            ],
            [
             0.2222222222222222,
             "#7201a8"
            ],
            [
             0.3333333333333333,
             "#9c179e"
            ],
            [
             0.4444444444444444,
             "#bd3786"
            ],
            [
             0.5555555555555556,
             "#d8576b"
            ],
            [
             0.6666666666666666,
             "#ed7953"
            ],
            [
             0.7777777777777778,
             "#fb9f3a"
            ],
            [
             0.8888888888888888,
             "#fdca26"
            ],
            [
             1,
             "#f0f921"
            ]
           ],
           "sequentialminus": [
            [
             0,
             "#0d0887"
            ],
            [
             0.1111111111111111,
             "#46039f"
            ],
            [
             0.2222222222222222,
             "#7201a8"
            ],
            [
             0.3333333333333333,
             "#9c179e"
            ],
            [
             0.4444444444444444,
             "#bd3786"
            ],
            [
             0.5555555555555556,
             "#d8576b"
            ],
            [
             0.6666666666666666,
             "#ed7953"
            ],
            [
             0.7777777777777778,
             "#fb9f3a"
            ],
            [
             0.8888888888888888,
             "#fdca26"
            ],
            [
             1,
             "#f0f921"
            ]
           ]
          },
          "colorway": [
           "#636efa",
           "#EF553B",
           "#00cc96",
           "#ab63fa",
           "#FFA15A",
           "#19d3f3",
           "#FF6692",
           "#B6E880",
           "#FF97FF",
           "#FECB52"
          ],
          "font": {
           "color": "#2a3f5f"
          },
          "geo": {
           "bgcolor": "white",
           "lakecolor": "white",
           "landcolor": "#E5ECF6",
           "showlakes": true,
           "showland": true,
           "subunitcolor": "white"
          },
          "hoverlabel": {
           "align": "left"
          },
          "hovermode": "closest",
          "mapbox": {
           "style": "light"
          },
          "paper_bgcolor": "white",
          "plot_bgcolor": "#E5ECF6",
          "polar": {
           "angularaxis": {
            "gridcolor": "white",
            "linecolor": "white",
            "ticks": ""
           },
           "bgcolor": "#E5ECF6",
           "radialaxis": {
            "gridcolor": "white",
            "linecolor": "white",
            "ticks": ""
           }
          },
          "scene": {
           "xaxis": {
            "backgroundcolor": "#E5ECF6",
            "gridcolor": "white",
            "gridwidth": 2,
            "linecolor": "white",
            "showbackground": true,
            "ticks": "",
            "zerolinecolor": "white"
           },
           "yaxis": {
            "backgroundcolor": "#E5ECF6",
            "gridcolor": "white",
            "gridwidth": 2,
            "linecolor": "white",
            "showbackground": true,
            "ticks": "",
            "zerolinecolor": "white"
           },
           "zaxis": {
            "backgroundcolor": "#E5ECF6",
            "gridcolor": "white",
            "gridwidth": 2,
            "linecolor": "white",
            "showbackground": true,
            "ticks": "",
            "zerolinecolor": "white"
           }
          },
          "shapedefaults": {
           "line": {
            "color": "#2a3f5f"
           }
          },
          "ternary": {
           "aaxis": {
            "gridcolor": "white",
            "linecolor": "white",
            "ticks": ""
           },
           "baxis": {
            "gridcolor": "white",
            "linecolor": "white",
            "ticks": ""
           },
           "bgcolor": "#E5ECF6",
           "caxis": {
            "gridcolor": "white",
            "linecolor": "white",
            "ticks": ""
           }
          },
          "title": {
           "x": 0.05
          },
          "xaxis": {
           "automargin": true,
           "gridcolor": "white",
           "linecolor": "white",
           "ticks": "",
           "title": {
            "standoff": 15
           },
           "zerolinecolor": "white",
           "zerolinewidth": 2
          },
          "yaxis": {
           "automargin": true,
           "gridcolor": "white",
           "linecolor": "white",
           "ticks": "",
           "title": {
            "standoff": 15
           },
           "zerolinecolor": "white",
           "zerolinewidth": 2
          }
         }
        },
        "title": {
         "text": "2. Decile Chart - Acceptance Rate for each decile"
        },
        "xaxis": {
         "title": {
          "text": "Decile"
         }
        },
        "yaxis": {
         "title": {
          "text": "Acceptance Rate"
         }
        }
       }
      },
      "text/html": [
       "<div>                            <div id=\"ffb451f5-2ec3-4e91-aa3a-0ed76560e213\" class=\"plotly-graph-div\" style=\"height:525px; width:100%;\"></div>            <script type=\"text/javascript\">                require([\"plotly\"], function(Plotly) {                    window.PLOTLYENV=window.PLOTLYENV || {};                                    if (document.getElementById(\"ffb451f5-2ec3-4e91-aa3a-0ed76560e213\")) {                    Plotly.newPlot(                        \"ffb451f5-2ec3-4e91-aa3a-0ed76560e213\",                        [{\"mode\":\"lines+markers\",\"name\":\"With Model (Train)\",\"x\":[1,2,3,4,5,6,7,8,9,10],\"y\":[0.58,0.33,0.14,0.04,0.02,0.01,0.0,0.0,0.0,0.0],\"type\":\"scatter\"},{\"mode\":\"lines+markers\",\"name\":\"With Model (Test)\",\"x\":[1,2,3,4,5,6,7,8,9,10],\"y\":[0.57,0.32,0.14,0.04,0.02,0.0,0.0,0.0,0.0,0.0],\"type\":\"scatter\"},{\"mode\":\"lines+markers\",\"name\":\"Random\",\"x\":[1,2,3,4,5,6,7,8,9,10],\"y\":[0.11,0.11,0.11,0.11,0.11,0.11,0.11,0.11,0.11,0.11],\"type\":\"scatter\"}],                        {\"template\":{\"data\":{\"histogram2dcontour\":[{\"type\":\"histogram2dcontour\",\"colorbar\":{\"outlinewidth\":0,\"ticks\":\"\"},\"colorscale\":[[0.0,\"#0d0887\"],[0.1111111111111111,\"#46039f\"],[0.2222222222222222,\"#7201a8\"],[0.3333333333333333,\"#9c179e\"],[0.4444444444444444,\"#bd3786\"],[0.5555555555555556,\"#d8576b\"],[0.6666666666666666,\"#ed7953\"],[0.7777777777777778,\"#fb9f3a\"],[0.8888888888888888,\"#fdca26\"],[1.0,\"#f0f921\"]]}],\"choropleth\":[{\"type\":\"choropleth\",\"colorbar\":{\"outlinewidth\":0,\"ticks\":\"\"}}],\"histogram2d\":[{\"type\":\"histogram2d\",\"colorbar\":{\"outlinewidth\":0,\"ticks\":\"\"},\"colorscale\":[[0.0,\"#0d0887\"],[0.1111111111111111,\"#46039f\"],[0.2222222222222222,\"#7201a8\"],[0.3333333333333333,\"#9c179e\"],[0.4444444444444444,\"#bd3786\"],[0.5555555555555556,\"#d8576b\"],[0.6666666666666666,\"#ed7953\"],[0.7777777777777778,\"#fb9f3a\"],[0.8888888888888888,\"#fdca26\"],[1.0,\"#f0f921\"]]}],\"heatmap\":[{\"type\":\"heatmap\",\"colorbar\":{\"outlinewidth\":0,\"ticks\":\"\"},\"colorscale\":[[0.0,\"#0d0887\"],[0.1111111111111111,\"#46039f\"],[0.2222222222222222,\"#7201a8\"],[0.3333333333333333,\"#9c179e\"],[0.4444444444444444,\"#bd3786\"],[0.5555555555555556,\"#d8576b\"],[0.6666666666666666,\"#ed7953\"],[0.7777777777777778,\"#fb9f3a\"],[0.8888888888888888,\"#fdca26\"],[1.0,\"#f0f921\"]]}],\"heatmapgl\":[{\"type\":\"heatmapgl\",\"colorbar\":{\"outlinewidth\":0,\"ticks\":\"\"},\"colorscale\":[[0.0,\"#0d0887\"],[0.1111111111111111,\"#46039f\"],[0.2222222222222222,\"#7201a8\"],[0.3333333333333333,\"#9c179e\"],[0.4444444444444444,\"#bd3786\"],[0.5555555555555556,\"#d8576b\"],[0.6666666666666666,\"#ed7953\"],[0.7777777777777778,\"#fb9f3a\"],[0.8888888888888888,\"#fdca26\"],[1.0,\"#f0f921\"]]}],\"contourcarpet\":[{\"type\":\"contourcarpet\",\"colorbar\":{\"outlinewidth\":0,\"ticks\":\"\"}}],\"contour\":[{\"type\":\"contour\",\"colorbar\":{\"outlinewidth\":0,\"ticks\":\"\"},\"colorscale\":[[0.0,\"#0d0887\"],[0.1111111111111111,\"#46039f\"],[0.2222222222222222,\"#7201a8\"],[0.3333333333333333,\"#9c179e\"],[0.4444444444444444,\"#bd3786\"],[0.5555555555555556,\"#d8576b\"],[0.6666666666666666,\"#ed7953\"],[0.7777777777777778,\"#fb9f3a\"],[0.8888888888888888,\"#fdca26\"],[1.0,\"#f0f921\"]]}],\"surface\":[{\"type\":\"surface\",\"colorbar\":{\"outlinewidth\":0,\"ticks\":\"\"},\"colorscale\":[[0.0,\"#0d0887\"],[0.1111111111111111,\"#46039f\"],[0.2222222222222222,\"#7201a8\"],[0.3333333333333333,\"#9c179e\"],[0.4444444444444444,\"#bd3786\"],[0.5555555555555556,\"#d8576b\"],[0.6666666666666666,\"#ed7953\"],[0.7777777777777778,\"#fb9f3a\"],[0.8888888888888888,\"#fdca26\"],[1.0,\"#f0f921\"]]}],\"mesh3d\":[{\"type\":\"mesh3d\",\"colorbar\":{\"outlinewidth\":0,\"ticks\":\"\"}}],\"scatter\":[{\"fillpattern\":{\"fillmode\":\"overlay\",\"size\":10,\"solidity\":0.2},\"type\":\"scatter\"}],\"parcoords\":[{\"type\":\"parcoords\",\"line\":{\"colorbar\":{\"outlinewidth\":0,\"ticks\":\"\"}}}],\"scatterpolargl\":[{\"type\":\"scatterpolargl\",\"marker\":{\"colorbar\":{\"outlinewidth\":0,\"ticks\":\"\"}}}],\"bar\":[{\"error_x\":{\"color\":\"#2a3f5f\"},\"error_y\":{\"color\":\"#2a3f5f\"},\"marker\":{\"line\":{\"color\":\"#E5ECF6\",\"width\":0.5},\"pattern\":{\"fillmode\":\"overlay\",\"size\":10,\"solidity\":0.2}},\"type\":\"bar\"}],\"scattergeo\":[{\"type\":\"scattergeo\",\"marker\":{\"colorbar\":{\"outlinewidth\":0,\"ticks\":\"\"}}}],\"scatterpolar\":[{\"type\":\"scatterpolar\",\"marker\":{\"colorbar\":{\"outlinewidth\":0,\"ticks\":\"\"}}}],\"histogram\":[{\"marker\":{\"pattern\":{\"fillmode\":\"overlay\",\"size\":10,\"solidity\":0.2}},\"type\":\"histogram\"}],\"scattergl\":[{\"type\":\"scattergl\",\"marker\":{\"colorbar\":{\"outlinewidth\":0,\"ticks\":\"\"}}}],\"scatter3d\":[{\"type\":\"scatter3d\",\"line\":{\"colorbar\":{\"outlinewidth\":0,\"ticks\":\"\"}},\"marker\":{\"colorbar\":{\"outlinewidth\":0,\"ticks\":\"\"}}}],\"scattermapbox\":[{\"type\":\"scattermapbox\",\"marker\":{\"colorbar\":{\"outlinewidth\":0,\"ticks\":\"\"}}}],\"scatterternary\":[{\"type\":\"scatterternary\",\"marker\":{\"colorbar\":{\"outlinewidth\":0,\"ticks\":\"\"}}}],\"scattercarpet\":[{\"type\":\"scattercarpet\",\"marker\":{\"colorbar\":{\"outlinewidth\":0,\"ticks\":\"\"}}}],\"carpet\":[{\"aaxis\":{\"endlinecolor\":\"#2a3f5f\",\"gridcolor\":\"white\",\"linecolor\":\"white\",\"minorgridcolor\":\"white\",\"startlinecolor\":\"#2a3f5f\"},\"baxis\":{\"endlinecolor\":\"#2a3f5f\",\"gridcolor\":\"white\",\"linecolor\":\"white\",\"minorgridcolor\":\"white\",\"startlinecolor\":\"#2a3f5f\"},\"type\":\"carpet\"}],\"table\":[{\"cells\":{\"fill\":{\"color\":\"#EBF0F8\"},\"line\":{\"color\":\"white\"}},\"header\":{\"fill\":{\"color\":\"#C8D4E3\"},\"line\":{\"color\":\"white\"}},\"type\":\"table\"}],\"barpolar\":[{\"marker\":{\"line\":{\"color\":\"#E5ECF6\",\"width\":0.5},\"pattern\":{\"fillmode\":\"overlay\",\"size\":10,\"solidity\":0.2}},\"type\":\"barpolar\"}],\"pie\":[{\"automargin\":true,\"type\":\"pie\"}]},\"layout\":{\"autotypenumbers\":\"strict\",\"colorway\":[\"#636efa\",\"#EF553B\",\"#00cc96\",\"#ab63fa\",\"#FFA15A\",\"#19d3f3\",\"#FF6692\",\"#B6E880\",\"#FF97FF\",\"#FECB52\"],\"font\":{\"color\":\"#2a3f5f\"},\"hovermode\":\"closest\",\"hoverlabel\":{\"align\":\"left\"},\"paper_bgcolor\":\"white\",\"plot_bgcolor\":\"#E5ECF6\",\"polar\":{\"bgcolor\":\"#E5ECF6\",\"angularaxis\":{\"gridcolor\":\"white\",\"linecolor\":\"white\",\"ticks\":\"\"},\"radialaxis\":{\"gridcolor\":\"white\",\"linecolor\":\"white\",\"ticks\":\"\"}},\"ternary\":{\"bgcolor\":\"#E5ECF6\",\"aaxis\":{\"gridcolor\":\"white\",\"linecolor\":\"white\",\"ticks\":\"\"},\"baxis\":{\"gridcolor\":\"white\",\"linecolor\":\"white\",\"ticks\":\"\"},\"caxis\":{\"gridcolor\":\"white\",\"linecolor\":\"white\",\"ticks\":\"\"}},\"coloraxis\":{\"colorbar\":{\"outlinewidth\":0,\"ticks\":\"\"}},\"colorscale\":{\"sequential\":[[0.0,\"#0d0887\"],[0.1111111111111111,\"#46039f\"],[0.2222222222222222,\"#7201a8\"],[0.3333333333333333,\"#9c179e\"],[0.4444444444444444,\"#bd3786\"],[0.5555555555555556,\"#d8576b\"],[0.6666666666666666,\"#ed7953\"],[0.7777777777777778,\"#fb9f3a\"],[0.8888888888888888,\"#fdca26\"],[1.0,\"#f0f921\"]],\"sequentialminus\":[[0.0,\"#0d0887\"],[0.1111111111111111,\"#46039f\"],[0.2222222222222222,\"#7201a8\"],[0.3333333333333333,\"#9c179e\"],[0.4444444444444444,\"#bd3786\"],[0.5555555555555556,\"#d8576b\"],[0.6666666666666666,\"#ed7953\"],[0.7777777777777778,\"#fb9f3a\"],[0.8888888888888888,\"#fdca26\"],[1.0,\"#f0f921\"]],\"diverging\":[[0,\"#8e0152\"],[0.1,\"#c51b7d\"],[0.2,\"#de77ae\"],[0.3,\"#f1b6da\"],[0.4,\"#fde0ef\"],[0.5,\"#f7f7f7\"],[0.6,\"#e6f5d0\"],[0.7,\"#b8e186\"],[0.8,\"#7fbc41\"],[0.9,\"#4d9221\"],[1,\"#276419\"]]},\"xaxis\":{\"gridcolor\":\"white\",\"linecolor\":\"white\",\"ticks\":\"\",\"title\":{\"standoff\":15},\"zerolinecolor\":\"white\",\"automargin\":true,\"zerolinewidth\":2},\"yaxis\":{\"gridcolor\":\"white\",\"linecolor\":\"white\",\"ticks\":\"\",\"title\":{\"standoff\":15},\"zerolinecolor\":\"white\",\"automargin\":true,\"zerolinewidth\":2},\"scene\":{\"xaxis\":{\"backgroundcolor\":\"#E5ECF6\",\"gridcolor\":\"white\",\"linecolor\":\"white\",\"showbackground\":true,\"ticks\":\"\",\"zerolinecolor\":\"white\",\"gridwidth\":2},\"yaxis\":{\"backgroundcolor\":\"#E5ECF6\",\"gridcolor\":\"white\",\"linecolor\":\"white\",\"showbackground\":true,\"ticks\":\"\",\"zerolinecolor\":\"white\",\"gridwidth\":2},\"zaxis\":{\"backgroundcolor\":\"#E5ECF6\",\"gridcolor\":\"white\",\"linecolor\":\"white\",\"showbackground\":true,\"ticks\":\"\",\"zerolinecolor\":\"white\",\"gridwidth\":2}},\"shapedefaults\":{\"line\":{\"color\":\"#2a3f5f\"}},\"annotationdefaults\":{\"arrowcolor\":\"#2a3f5f\",\"arrowhead\":0,\"arrowwidth\":1},\"geo\":{\"bgcolor\":\"white\",\"landcolor\":\"#E5ECF6\",\"subunitcolor\":\"white\",\"showland\":true,\"showlakes\":true,\"lakecolor\":\"white\"},\"title\":{\"x\":0.05},\"mapbox\":{\"style\":\"light\"}}},\"title\":{\"text\":\"2. Decile Chart - Acceptance Rate for each decile\"},\"xaxis\":{\"title\":{\"text\":\"Decile\"}},\"yaxis\":{\"title\":{\"text\":\"Acceptance Rate\"}}},                        {\"responsive\": true}                    ).then(function(){\n",
       "                            \n",
       "var gd = document.getElementById('ffb451f5-2ec3-4e91-aa3a-0ed76560e213');\n",
       "var x = new MutationObserver(function (mutations, observer) {{\n",
       "        var display = window.getComputedStyle(gd).display;\n",
       "        if (!display || display === 'none') {{\n",
       "            console.log([gd, 'removed!']);\n",
       "            Plotly.purge(gd);\n",
       "            observer.disconnect();\n",
       "        }}\n",
       "}});\n",
       "\n",
       "// Listen for the removal of the full notebook cells\n",
       "var notebookContainer = gd.closest('#notebook-container');\n",
       "if (notebookContainer) {{\n",
       "    x.observe(notebookContainer, {childList: true});\n",
       "}}\n",
       "\n",
       "// Listen for the clearing of the current output cell\n",
       "var outputEl = gd.closest('.output');\n",
       "if (outputEl) {{\n",
       "    x.observe(outputEl, {childList: true});\n",
       "}}\n",
       "\n",
       "                        })                };                });            </script>        </div>"
      ]
     },
     "metadata": {},
     "output_type": "display_data"
    },
    {
     "data": {
      "text/plain": [
       "237"
      ]
     },
     "execution_count": 71,
     "metadata": {},
     "output_type": "execute_result"
    }
   ],
   "source": [
    "fig = go.Figure()\n",
    "fig.add_trace(go.Scatter(x=result[result['data_type'] == 'train']['decile'], y=result[result['data_type'] == 'train']['event_rate'],\n",
    "                         mode='lines+markers', name='With Model (Train)'))\n",
    "\n",
    "fig.add_trace(go.Scatter(x=result[result['data_type'] == 'test']['decile'], y=result[result['data_type'] == 'test']['event_rate'],\n",
    "                         mode='lines+markers', name='With Model (Test)'))\n",
    "\n",
    "fig.add_trace(go.Scatter(x=result[result['data_type'] == 'test']['decile'], y=result[result['data_type'] == 'test']['random'],\n",
    "                         mode='lines+markers', name='Random'))\n",
    "\n",
    "#fig.add_trace(go.Bar(x=result[result['data_type'] == 'test']['decile'],y=result[result['data_type'] == 'test']['event_rate'],name='samples'))\n",
    "\n",
    "fig.update_layout(title='2. Decile Chart - Acceptance Rate for each decile',\n",
    "                   xaxis_title='Decile',\n",
    "                   yaxis_title='Acceptance Rate')\n",
    "fig.show()\n",
    "gc.collect()"
   ]
  },
  {
   "cell_type": "code",
   "execution_count": 72,
   "id": "0597455b",
   "metadata": {},
   "outputs": [
    {
     "data": {
      "application/vnd.plotly.v1+json": {
       "config": {
        "plotlyServerURL": "https://plot.ly"
       },
       "data": [
        {
         "mode": "lines+markers",
         "name": "With Model (Train)",
         "type": "scatter",
         "x": [
          10,
          20,
          30,
          40,
          50,
          60,
          70,
          80,
          90,
          100
         ],
         "y": [
          5.27,
          4.09,
          3.18,
          2.45,
          2,
          1.73,
          1.45,
          1.27,
          1.18,
          1
         ]
        },
        {
         "mode": "lines+markers",
         "name": "With Model (Test)",
         "type": "scatter",
         "x": [
          10,
          20,
          30,
          40,
          50,
          60,
          70,
          80,
          90,
          100
         ],
         "y": [
          5.18,
          4,
          3,
          2.45,
          2.09,
          1.73,
          1.45,
          1.27,
          1.09,
          1
         ]
        },
        {
         "mode": "lines+markers",
         "name": "Random",
         "type": "scatter",
         "x": [
          10,
          20,
          30,
          40,
          50,
          60,
          70,
          80,
          90,
          100
         ],
         "y": [
          1,
          1,
          1,
          1,
          1,
          1,
          1,
          1,
          1,
          1
         ]
        }
       ],
       "layout": {
        "template": {
         "data": {
          "bar": [
           {
            "error_x": {
             "color": "#2a3f5f"
            },
            "error_y": {
             "color": "#2a3f5f"
            },
            "marker": {
             "line": {
              "color": "#E5ECF6",
              "width": 0.5
             },
             "pattern": {
              "fillmode": "overlay",
              "size": 10,
              "solidity": 0.2
             }
            },
            "type": "bar"
           }
          ],
          "barpolar": [
           {
            "marker": {
             "line": {
              "color": "#E5ECF6",
              "width": 0.5
             },
             "pattern": {
              "fillmode": "overlay",
              "size": 10,
              "solidity": 0.2
             }
            },
            "type": "barpolar"
           }
          ],
          "carpet": [
           {
            "aaxis": {
             "endlinecolor": "#2a3f5f",
             "gridcolor": "white",
             "linecolor": "white",
             "minorgridcolor": "white",
             "startlinecolor": "#2a3f5f"
            },
            "baxis": {
             "endlinecolor": "#2a3f5f",
             "gridcolor": "white",
             "linecolor": "white",
             "minorgridcolor": "white",
             "startlinecolor": "#2a3f5f"
            },
            "type": "carpet"
           }
          ],
          "choropleth": [
           {
            "colorbar": {
             "outlinewidth": 0,
             "ticks": ""
            },
            "type": "choropleth"
           }
          ],
          "contour": [
           {
            "colorbar": {
             "outlinewidth": 0,
             "ticks": ""
            },
            "colorscale": [
             [
              0,
              "#0d0887"
             ],
             [
              0.1111111111111111,
              "#46039f"
             ],
             [
              0.2222222222222222,
              "#7201a8"
             ],
             [
              0.3333333333333333,
              "#9c179e"
             ],
             [
              0.4444444444444444,
              "#bd3786"
             ],
             [
              0.5555555555555556,
              "#d8576b"
             ],
             [
              0.6666666666666666,
              "#ed7953"
             ],
             [
              0.7777777777777778,
              "#fb9f3a"
             ],
             [
              0.8888888888888888,
              "#fdca26"
             ],
             [
              1,
              "#f0f921"
             ]
            ],
            "type": "contour"
           }
          ],
          "contourcarpet": [
           {
            "colorbar": {
             "outlinewidth": 0,
             "ticks": ""
            },
            "type": "contourcarpet"
           }
          ],
          "heatmap": [
           {
            "colorbar": {
             "outlinewidth": 0,
             "ticks": ""
            },
            "colorscale": [
             [
              0,
              "#0d0887"
             ],
             [
              0.1111111111111111,
              "#46039f"
             ],
             [
              0.2222222222222222,
              "#7201a8"
             ],
             [
              0.3333333333333333,
              "#9c179e"
             ],
             [
              0.4444444444444444,
              "#bd3786"
             ],
             [
              0.5555555555555556,
              "#d8576b"
             ],
             [
              0.6666666666666666,
              "#ed7953"
             ],
             [
              0.7777777777777778,
              "#fb9f3a"
             ],
             [
              0.8888888888888888,
              "#fdca26"
             ],
             [
              1,
              "#f0f921"
             ]
            ],
            "type": "heatmap"
           }
          ],
          "heatmapgl": [
           {
            "colorbar": {
             "outlinewidth": 0,
             "ticks": ""
            },
            "colorscale": [
             [
              0,
              "#0d0887"
             ],
             [
              0.1111111111111111,
              "#46039f"
             ],
             [
              0.2222222222222222,
              "#7201a8"
             ],
             [
              0.3333333333333333,
              "#9c179e"
             ],
             [
              0.4444444444444444,
              "#bd3786"
             ],
             [
              0.5555555555555556,
              "#d8576b"
             ],
             [
              0.6666666666666666,
              "#ed7953"
             ],
             [
              0.7777777777777778,
              "#fb9f3a"
             ],
             [
              0.8888888888888888,
              "#fdca26"
             ],
             [
              1,
              "#f0f921"
             ]
            ],
            "type": "heatmapgl"
           }
          ],
          "histogram": [
           {
            "marker": {
             "pattern": {
              "fillmode": "overlay",
              "size": 10,
              "solidity": 0.2
             }
            },
            "type": "histogram"
           }
          ],
          "histogram2d": [
           {
            "colorbar": {
             "outlinewidth": 0,
             "ticks": ""
            },
            "colorscale": [
             [
              0,
              "#0d0887"
             ],
             [
              0.1111111111111111,
              "#46039f"
             ],
             [
              0.2222222222222222,
              "#7201a8"
             ],
             [
              0.3333333333333333,
              "#9c179e"
             ],
             [
              0.4444444444444444,
              "#bd3786"
             ],
             [
              0.5555555555555556,
              "#d8576b"
             ],
             [
              0.6666666666666666,
              "#ed7953"
             ],
             [
              0.7777777777777778,
              "#fb9f3a"
             ],
             [
              0.8888888888888888,
              "#fdca26"
             ],
             [
              1,
              "#f0f921"
             ]
            ],
            "type": "histogram2d"
           }
          ],
          "histogram2dcontour": [
           {
            "colorbar": {
             "outlinewidth": 0,
             "ticks": ""
            },
            "colorscale": [
             [
              0,
              "#0d0887"
             ],
             [
              0.1111111111111111,
              "#46039f"
             ],
             [
              0.2222222222222222,
              "#7201a8"
             ],
             [
              0.3333333333333333,
              "#9c179e"
             ],
             [
              0.4444444444444444,
              "#bd3786"
             ],
             [
              0.5555555555555556,
              "#d8576b"
             ],
             [
              0.6666666666666666,
              "#ed7953"
             ],
             [
              0.7777777777777778,
              "#fb9f3a"
             ],
             [
              0.8888888888888888,
              "#fdca26"
             ],
             [
              1,
              "#f0f921"
             ]
            ],
            "type": "histogram2dcontour"
           }
          ],
          "mesh3d": [
           {
            "colorbar": {
             "outlinewidth": 0,
             "ticks": ""
            },
            "type": "mesh3d"
           }
          ],
          "parcoords": [
           {
            "line": {
             "colorbar": {
              "outlinewidth": 0,
              "ticks": ""
             }
            },
            "type": "parcoords"
           }
          ],
          "pie": [
           {
            "automargin": true,
            "type": "pie"
           }
          ],
          "scatter": [
           {
            "fillpattern": {
             "fillmode": "overlay",
             "size": 10,
             "solidity": 0.2
            },
            "type": "scatter"
           }
          ],
          "scatter3d": [
           {
            "line": {
             "colorbar": {
              "outlinewidth": 0,
              "ticks": ""
             }
            },
            "marker": {
             "colorbar": {
              "outlinewidth": 0,
              "ticks": ""
             }
            },
            "type": "scatter3d"
           }
          ],
          "scattercarpet": [
           {
            "marker": {
             "colorbar": {
              "outlinewidth": 0,
              "ticks": ""
             }
            },
            "type": "scattercarpet"
           }
          ],
          "scattergeo": [
           {
            "marker": {
             "colorbar": {
              "outlinewidth": 0,
              "ticks": ""
             }
            },
            "type": "scattergeo"
           }
          ],
          "scattergl": [
           {
            "marker": {
             "colorbar": {
              "outlinewidth": 0,
              "ticks": ""
             }
            },
            "type": "scattergl"
           }
          ],
          "scattermapbox": [
           {
            "marker": {
             "colorbar": {
              "outlinewidth": 0,
              "ticks": ""
             }
            },
            "type": "scattermapbox"
           }
          ],
          "scatterpolar": [
           {
            "marker": {
             "colorbar": {
              "outlinewidth": 0,
              "ticks": ""
             }
            },
            "type": "scatterpolar"
           }
          ],
          "scatterpolargl": [
           {
            "marker": {
             "colorbar": {
              "outlinewidth": 0,
              "ticks": ""
             }
            },
            "type": "scatterpolargl"
           }
          ],
          "scatterternary": [
           {
            "marker": {
             "colorbar": {
              "outlinewidth": 0,
              "ticks": ""
             }
            },
            "type": "scatterternary"
           }
          ],
          "surface": [
           {
            "colorbar": {
             "outlinewidth": 0,
             "ticks": ""
            },
            "colorscale": [
             [
              0,
              "#0d0887"
             ],
             [
              0.1111111111111111,
              "#46039f"
             ],
             [
              0.2222222222222222,
              "#7201a8"
             ],
             [
              0.3333333333333333,
              "#9c179e"
             ],
             [
              0.4444444444444444,
              "#bd3786"
             ],
             [
              0.5555555555555556,
              "#d8576b"
             ],
             [
              0.6666666666666666,
              "#ed7953"
             ],
             [
              0.7777777777777778,
              "#fb9f3a"
             ],
             [
              0.8888888888888888,
              "#fdca26"
             ],
             [
              1,
              "#f0f921"
             ]
            ],
            "type": "surface"
           }
          ],
          "table": [
           {
            "cells": {
             "fill": {
              "color": "#EBF0F8"
             },
             "line": {
              "color": "white"
             }
            },
            "header": {
             "fill": {
              "color": "#C8D4E3"
             },
             "line": {
              "color": "white"
             }
            },
            "type": "table"
           }
          ]
         },
         "layout": {
          "annotationdefaults": {
           "arrowcolor": "#2a3f5f",
           "arrowhead": 0,
           "arrowwidth": 1
          },
          "autotypenumbers": "strict",
          "coloraxis": {
           "colorbar": {
            "outlinewidth": 0,
            "ticks": ""
           }
          },
          "colorscale": {
           "diverging": [
            [
             0,
             "#8e0152"
            ],
            [
             0.1,
             "#c51b7d"
            ],
            [
             0.2,
             "#de77ae"
            ],
            [
             0.3,
             "#f1b6da"
            ],
            [
             0.4,
             "#fde0ef"
            ],
            [
             0.5,
             "#f7f7f7"
            ],
            [
             0.6,
             "#e6f5d0"
            ],
            [
             0.7,
             "#b8e186"
            ],
            [
             0.8,
             "#7fbc41"
            ],
            [
             0.9,
             "#4d9221"
            ],
            [
             1,
             "#276419"
            ]
           ],
           "sequential": [
            [
             0,
             "#0d0887"
            ],
            [
             0.1111111111111111,
             "#46039f"
            ],
            [
             0.2222222222222222,
             "#7201a8"
            ],
            [
             0.3333333333333333,
             "#9c179e"
            ],
            [
             0.4444444444444444,
             "#bd3786"
            ],
            [
             0.5555555555555556,
             "#d8576b"
            ],
            [
             0.6666666666666666,
             "#ed7953"
            ],
            [
             0.7777777777777778,
             "#fb9f3a"
            ],
            [
             0.8888888888888888,
             "#fdca26"
            ],
            [
             1,
             "#f0f921"
            ]
           ],
           "sequentialminus": [
            [
             0,
             "#0d0887"
            ],
            [
             0.1111111111111111,
             "#46039f"
            ],
            [
             0.2222222222222222,
             "#7201a8"
            ],
            [
             0.3333333333333333,
             "#9c179e"
            ],
            [
             0.4444444444444444,
             "#bd3786"
            ],
            [
             0.5555555555555556,
             "#d8576b"
            ],
            [
             0.6666666666666666,
             "#ed7953"
            ],
            [
             0.7777777777777778,
             "#fb9f3a"
            ],
            [
             0.8888888888888888,
             "#fdca26"
            ],
            [
             1,
             "#f0f921"
            ]
           ]
          },
          "colorway": [
           "#636efa",
           "#EF553B",
           "#00cc96",
           "#ab63fa",
           "#FFA15A",
           "#19d3f3",
           "#FF6692",
           "#B6E880",
           "#FF97FF",
           "#FECB52"
          ],
          "font": {
           "color": "#2a3f5f"
          },
          "geo": {
           "bgcolor": "white",
           "lakecolor": "white",
           "landcolor": "#E5ECF6",
           "showlakes": true,
           "showland": true,
           "subunitcolor": "white"
          },
          "hoverlabel": {
           "align": "left"
          },
          "hovermode": "closest",
          "mapbox": {
           "style": "light"
          },
          "paper_bgcolor": "white",
          "plot_bgcolor": "#E5ECF6",
          "polar": {
           "angularaxis": {
            "gridcolor": "white",
            "linecolor": "white",
            "ticks": ""
           },
           "bgcolor": "#E5ECF6",
           "radialaxis": {
            "gridcolor": "white",
            "linecolor": "white",
            "ticks": ""
           }
          },
          "scene": {
           "xaxis": {
            "backgroundcolor": "#E5ECF6",
            "gridcolor": "white",
            "gridwidth": 2,
            "linecolor": "white",
            "showbackground": true,
            "ticks": "",
            "zerolinecolor": "white"
           },
           "yaxis": {
            "backgroundcolor": "#E5ECF6",
            "gridcolor": "white",
            "gridwidth": 2,
            "linecolor": "white",
            "showbackground": true,
            "ticks": "",
            "zerolinecolor": "white"
           },
           "zaxis": {
            "backgroundcolor": "#E5ECF6",
            "gridcolor": "white",
            "gridwidth": 2,
            "linecolor": "white",
            "showbackground": true,
            "ticks": "",
            "zerolinecolor": "white"
           }
          },
          "shapedefaults": {
           "line": {
            "color": "#2a3f5f"
           }
          },
          "ternary": {
           "aaxis": {
            "gridcolor": "white",
            "linecolor": "white",
            "ticks": ""
           },
           "baxis": {
            "gridcolor": "white",
            "linecolor": "white",
            "ticks": ""
           },
           "bgcolor": "#E5ECF6",
           "caxis": {
            "gridcolor": "white",
            "linecolor": "white",
            "ticks": ""
           }
          },
          "title": {
           "x": 0.05
          },
          "xaxis": {
           "automargin": true,
           "gridcolor": "white",
           "linecolor": "white",
           "ticks": "",
           "title": {
            "standoff": 15
           },
           "zerolinecolor": "white",
           "zerolinewidth": 2
          },
          "yaxis": {
           "automargin": true,
           "gridcolor": "white",
           "linecolor": "white",
           "ticks": "",
           "title": {
            "standoff": 15
           },
           "zerolinecolor": "white",
           "zerolinewidth": 2
          }
         }
        },
        "title": {
         "text": "3. Lift Chart - Acceptance with model vs Acceptance without model"
        },
        "xaxis": {
         "title": {
          "text": "% of Customers"
         }
        },
        "yaxis": {
         "title": {
          "text": "Cumulative Lift"
         }
        }
       }
      },
      "text/html": [
       "<div>                            <div id=\"e3516836-9b82-40ec-9b98-8c4d499fac44\" class=\"plotly-graph-div\" style=\"height:525px; width:100%;\"></div>            <script type=\"text/javascript\">                require([\"plotly\"], function(Plotly) {                    window.PLOTLYENV=window.PLOTLYENV || {};                                    if (document.getElementById(\"e3516836-9b82-40ec-9b98-8c4d499fac44\")) {                    Plotly.newPlot(                        \"e3516836-9b82-40ec-9b98-8c4d499fac44\",                        [{\"mode\":\"lines+markers\",\"name\":\"With Model (Train)\",\"x\":[10,20,30,40,50,60,70,80,90,100],\"y\":[5.27,4.09,3.18,2.45,2.0,1.73,1.45,1.27,1.18,1.0],\"type\":\"scatter\"},{\"mode\":\"lines+markers\",\"name\":\"With Model (Test)\",\"x\":[10,20,30,40,50,60,70,80,90,100],\"y\":[5.18,4.0,3.0,2.45,2.09,1.73,1.45,1.27,1.09,1.0],\"type\":\"scatter\"},{\"mode\":\"lines+markers\",\"name\":\"Random\",\"x\":[10,20,30,40,50,60,70,80,90,100],\"y\":[1,1,1,1,1,1,1,1,1,1],\"type\":\"scatter\"}],                        {\"template\":{\"data\":{\"histogram2dcontour\":[{\"type\":\"histogram2dcontour\",\"colorbar\":{\"outlinewidth\":0,\"ticks\":\"\"},\"colorscale\":[[0.0,\"#0d0887\"],[0.1111111111111111,\"#46039f\"],[0.2222222222222222,\"#7201a8\"],[0.3333333333333333,\"#9c179e\"],[0.4444444444444444,\"#bd3786\"],[0.5555555555555556,\"#d8576b\"],[0.6666666666666666,\"#ed7953\"],[0.7777777777777778,\"#fb9f3a\"],[0.8888888888888888,\"#fdca26\"],[1.0,\"#f0f921\"]]}],\"choropleth\":[{\"type\":\"choropleth\",\"colorbar\":{\"outlinewidth\":0,\"ticks\":\"\"}}],\"histogram2d\":[{\"type\":\"histogram2d\",\"colorbar\":{\"outlinewidth\":0,\"ticks\":\"\"},\"colorscale\":[[0.0,\"#0d0887\"],[0.1111111111111111,\"#46039f\"],[0.2222222222222222,\"#7201a8\"],[0.3333333333333333,\"#9c179e\"],[0.4444444444444444,\"#bd3786\"],[0.5555555555555556,\"#d8576b\"],[0.6666666666666666,\"#ed7953\"],[0.7777777777777778,\"#fb9f3a\"],[0.8888888888888888,\"#fdca26\"],[1.0,\"#f0f921\"]]}],\"heatmap\":[{\"type\":\"heatmap\",\"colorbar\":{\"outlinewidth\":0,\"ticks\":\"\"},\"colorscale\":[[0.0,\"#0d0887\"],[0.1111111111111111,\"#46039f\"],[0.2222222222222222,\"#7201a8\"],[0.3333333333333333,\"#9c179e\"],[0.4444444444444444,\"#bd3786\"],[0.5555555555555556,\"#d8576b\"],[0.6666666666666666,\"#ed7953\"],[0.7777777777777778,\"#fb9f3a\"],[0.8888888888888888,\"#fdca26\"],[1.0,\"#f0f921\"]]}],\"heatmapgl\":[{\"type\":\"heatmapgl\",\"colorbar\":{\"outlinewidth\":0,\"ticks\":\"\"},\"colorscale\":[[0.0,\"#0d0887\"],[0.1111111111111111,\"#46039f\"],[0.2222222222222222,\"#7201a8\"],[0.3333333333333333,\"#9c179e\"],[0.4444444444444444,\"#bd3786\"],[0.5555555555555556,\"#d8576b\"],[0.6666666666666666,\"#ed7953\"],[0.7777777777777778,\"#fb9f3a\"],[0.8888888888888888,\"#fdca26\"],[1.0,\"#f0f921\"]]}],\"contourcarpet\":[{\"type\":\"contourcarpet\",\"colorbar\":{\"outlinewidth\":0,\"ticks\":\"\"}}],\"contour\":[{\"type\":\"contour\",\"colorbar\":{\"outlinewidth\":0,\"ticks\":\"\"},\"colorscale\":[[0.0,\"#0d0887\"],[0.1111111111111111,\"#46039f\"],[0.2222222222222222,\"#7201a8\"],[0.3333333333333333,\"#9c179e\"],[0.4444444444444444,\"#bd3786\"],[0.5555555555555556,\"#d8576b\"],[0.6666666666666666,\"#ed7953\"],[0.7777777777777778,\"#fb9f3a\"],[0.8888888888888888,\"#fdca26\"],[1.0,\"#f0f921\"]]}],\"surface\":[{\"type\":\"surface\",\"colorbar\":{\"outlinewidth\":0,\"ticks\":\"\"},\"colorscale\":[[0.0,\"#0d0887\"],[0.1111111111111111,\"#46039f\"],[0.2222222222222222,\"#7201a8\"],[0.3333333333333333,\"#9c179e\"],[0.4444444444444444,\"#bd3786\"],[0.5555555555555556,\"#d8576b\"],[0.6666666666666666,\"#ed7953\"],[0.7777777777777778,\"#fb9f3a\"],[0.8888888888888888,\"#fdca26\"],[1.0,\"#f0f921\"]]}],\"mesh3d\":[{\"type\":\"mesh3d\",\"colorbar\":{\"outlinewidth\":0,\"ticks\":\"\"}}],\"scatter\":[{\"fillpattern\":{\"fillmode\":\"overlay\",\"size\":10,\"solidity\":0.2},\"type\":\"scatter\"}],\"parcoords\":[{\"type\":\"parcoords\",\"line\":{\"colorbar\":{\"outlinewidth\":0,\"ticks\":\"\"}}}],\"scatterpolargl\":[{\"type\":\"scatterpolargl\",\"marker\":{\"colorbar\":{\"outlinewidth\":0,\"ticks\":\"\"}}}],\"bar\":[{\"error_x\":{\"color\":\"#2a3f5f\"},\"error_y\":{\"color\":\"#2a3f5f\"},\"marker\":{\"line\":{\"color\":\"#E5ECF6\",\"width\":0.5},\"pattern\":{\"fillmode\":\"overlay\",\"size\":10,\"solidity\":0.2}},\"type\":\"bar\"}],\"scattergeo\":[{\"type\":\"scattergeo\",\"marker\":{\"colorbar\":{\"outlinewidth\":0,\"ticks\":\"\"}}}],\"scatterpolar\":[{\"type\":\"scatterpolar\",\"marker\":{\"colorbar\":{\"outlinewidth\":0,\"ticks\":\"\"}}}],\"histogram\":[{\"marker\":{\"pattern\":{\"fillmode\":\"overlay\",\"size\":10,\"solidity\":0.2}},\"type\":\"histogram\"}],\"scattergl\":[{\"type\":\"scattergl\",\"marker\":{\"colorbar\":{\"outlinewidth\":0,\"ticks\":\"\"}}}],\"scatter3d\":[{\"type\":\"scatter3d\",\"line\":{\"colorbar\":{\"outlinewidth\":0,\"ticks\":\"\"}},\"marker\":{\"colorbar\":{\"outlinewidth\":0,\"ticks\":\"\"}}}],\"scattermapbox\":[{\"type\":\"scattermapbox\",\"marker\":{\"colorbar\":{\"outlinewidth\":0,\"ticks\":\"\"}}}],\"scatterternary\":[{\"type\":\"scatterternary\",\"marker\":{\"colorbar\":{\"outlinewidth\":0,\"ticks\":\"\"}}}],\"scattercarpet\":[{\"type\":\"scattercarpet\",\"marker\":{\"colorbar\":{\"outlinewidth\":0,\"ticks\":\"\"}}}],\"carpet\":[{\"aaxis\":{\"endlinecolor\":\"#2a3f5f\",\"gridcolor\":\"white\",\"linecolor\":\"white\",\"minorgridcolor\":\"white\",\"startlinecolor\":\"#2a3f5f\"},\"baxis\":{\"endlinecolor\":\"#2a3f5f\",\"gridcolor\":\"white\",\"linecolor\":\"white\",\"minorgridcolor\":\"white\",\"startlinecolor\":\"#2a3f5f\"},\"type\":\"carpet\"}],\"table\":[{\"cells\":{\"fill\":{\"color\":\"#EBF0F8\"},\"line\":{\"color\":\"white\"}},\"header\":{\"fill\":{\"color\":\"#C8D4E3\"},\"line\":{\"color\":\"white\"}},\"type\":\"table\"}],\"barpolar\":[{\"marker\":{\"line\":{\"color\":\"#E5ECF6\",\"width\":0.5},\"pattern\":{\"fillmode\":\"overlay\",\"size\":10,\"solidity\":0.2}},\"type\":\"barpolar\"}],\"pie\":[{\"automargin\":true,\"type\":\"pie\"}]},\"layout\":{\"autotypenumbers\":\"strict\",\"colorway\":[\"#636efa\",\"#EF553B\",\"#00cc96\",\"#ab63fa\",\"#FFA15A\",\"#19d3f3\",\"#FF6692\",\"#B6E880\",\"#FF97FF\",\"#FECB52\"],\"font\":{\"color\":\"#2a3f5f\"},\"hovermode\":\"closest\",\"hoverlabel\":{\"align\":\"left\"},\"paper_bgcolor\":\"white\",\"plot_bgcolor\":\"#E5ECF6\",\"polar\":{\"bgcolor\":\"#E5ECF6\",\"angularaxis\":{\"gridcolor\":\"white\",\"linecolor\":\"white\",\"ticks\":\"\"},\"radialaxis\":{\"gridcolor\":\"white\",\"linecolor\":\"white\",\"ticks\":\"\"}},\"ternary\":{\"bgcolor\":\"#E5ECF6\",\"aaxis\":{\"gridcolor\":\"white\",\"linecolor\":\"white\",\"ticks\":\"\"},\"baxis\":{\"gridcolor\":\"white\",\"linecolor\":\"white\",\"ticks\":\"\"},\"caxis\":{\"gridcolor\":\"white\",\"linecolor\":\"white\",\"ticks\":\"\"}},\"coloraxis\":{\"colorbar\":{\"outlinewidth\":0,\"ticks\":\"\"}},\"colorscale\":{\"sequential\":[[0.0,\"#0d0887\"],[0.1111111111111111,\"#46039f\"],[0.2222222222222222,\"#7201a8\"],[0.3333333333333333,\"#9c179e\"],[0.4444444444444444,\"#bd3786\"],[0.5555555555555556,\"#d8576b\"],[0.6666666666666666,\"#ed7953\"],[0.7777777777777778,\"#fb9f3a\"],[0.8888888888888888,\"#fdca26\"],[1.0,\"#f0f921\"]],\"sequentialminus\":[[0.0,\"#0d0887\"],[0.1111111111111111,\"#46039f\"],[0.2222222222222222,\"#7201a8\"],[0.3333333333333333,\"#9c179e\"],[0.4444444444444444,\"#bd3786\"],[0.5555555555555556,\"#d8576b\"],[0.6666666666666666,\"#ed7953\"],[0.7777777777777778,\"#fb9f3a\"],[0.8888888888888888,\"#fdca26\"],[1.0,\"#f0f921\"]],\"diverging\":[[0,\"#8e0152\"],[0.1,\"#c51b7d\"],[0.2,\"#de77ae\"],[0.3,\"#f1b6da\"],[0.4,\"#fde0ef\"],[0.5,\"#f7f7f7\"],[0.6,\"#e6f5d0\"],[0.7,\"#b8e186\"],[0.8,\"#7fbc41\"],[0.9,\"#4d9221\"],[1,\"#276419\"]]},\"xaxis\":{\"gridcolor\":\"white\",\"linecolor\":\"white\",\"ticks\":\"\",\"title\":{\"standoff\":15},\"zerolinecolor\":\"white\",\"automargin\":true,\"zerolinewidth\":2},\"yaxis\":{\"gridcolor\":\"white\",\"linecolor\":\"white\",\"ticks\":\"\",\"title\":{\"standoff\":15},\"zerolinecolor\":\"white\",\"automargin\":true,\"zerolinewidth\":2},\"scene\":{\"xaxis\":{\"backgroundcolor\":\"#E5ECF6\",\"gridcolor\":\"white\",\"linecolor\":\"white\",\"showbackground\":true,\"ticks\":\"\",\"zerolinecolor\":\"white\",\"gridwidth\":2},\"yaxis\":{\"backgroundcolor\":\"#E5ECF6\",\"gridcolor\":\"white\",\"linecolor\":\"white\",\"showbackground\":true,\"ticks\":\"\",\"zerolinecolor\":\"white\",\"gridwidth\":2},\"zaxis\":{\"backgroundcolor\":\"#E5ECF6\",\"gridcolor\":\"white\",\"linecolor\":\"white\",\"showbackground\":true,\"ticks\":\"\",\"zerolinecolor\":\"white\",\"gridwidth\":2}},\"shapedefaults\":{\"line\":{\"color\":\"#2a3f5f\"}},\"annotationdefaults\":{\"arrowcolor\":\"#2a3f5f\",\"arrowhead\":0,\"arrowwidth\":1},\"geo\":{\"bgcolor\":\"white\",\"landcolor\":\"#E5ECF6\",\"subunitcolor\":\"white\",\"showland\":true,\"showlakes\":true,\"lakecolor\":\"white\"},\"title\":{\"x\":0.05},\"mapbox\":{\"style\":\"light\"}}},\"title\":{\"text\":\"3. Lift Chart - Acceptance with model vs Acceptance without model\"},\"xaxis\":{\"title\":{\"text\":\"% of Customers\"}},\"yaxis\":{\"title\":{\"text\":\"Cumulative Lift\"}}},                        {\"responsive\": true}                    ).then(function(){\n",
       "                            \n",
       "var gd = document.getElementById('e3516836-9b82-40ec-9b98-8c4d499fac44');\n",
       "var x = new MutationObserver(function (mutations, observer) {{\n",
       "        var display = window.getComputedStyle(gd).display;\n",
       "        if (!display || display === 'none') {{\n",
       "            console.log([gd, 'removed!']);\n",
       "            Plotly.purge(gd);\n",
       "            observer.disconnect();\n",
       "        }}\n",
       "}});\n",
       "\n",
       "// Listen for the removal of the full notebook cells\n",
       "var notebookContainer = gd.closest('#notebook-container');\n",
       "if (notebookContainer) {{\n",
       "    x.observe(notebookContainer, {childList: true});\n",
       "}}\n",
       "\n",
       "// Listen for the clearing of the current output cell\n",
       "var outputEl = gd.closest('.output');\n",
       "if (outputEl) {{\n",
       "    x.observe(outputEl, {childList: true});\n",
       "}}\n",
       "\n",
       "                        })                };                });            </script>        </div>"
      ]
     },
     "metadata": {},
     "output_type": "display_data"
    },
    {
     "data": {
      "text/plain": [
       "237"
      ]
     },
     "execution_count": 72,
     "metadata": {},
     "output_type": "execute_result"
    }
   ],
   "source": [
    "fig = go.Figure()\n",
    "fig.add_trace(go.Scatter(x=result[result['data_type'] == 'train']['cum_perc_pop'], y=result[result['data_type'] == 'train']['lift_chart_lift'],\n",
    "                         mode='lines+markers', name='With Model (Train)'))\n",
    "\n",
    "fig.add_trace(go.Scatter(x=result[result['data_type'] == 'test']['cum_perc_pop'], y=result[result['data_type'] == 'test']['lift_chart_lift'],\n",
    "                         mode='lines+markers', name='With Model (Test)'))\n",
    "\n",
    "fig.add_trace(go.Scatter(x=result[result['data_type'] == 'test']['cum_perc_pop'], y=result[result['data_type'] == 'test']['lift_chart_ones'],\n",
    "                         mode='lines+markers', name='Random'))\n",
    "\n",
    "fig.update_layout(title='3. Lift Chart - Acceptance with model vs Acceptance without model',\n",
    "                   xaxis_title='% of Customers',\n",
    "                   yaxis_title='Cumulative Lift')\n",
    "fig.show()\n",
    "gc.collect()"
   ]
  },
  {
   "cell_type": "code",
   "execution_count": 73,
   "id": "b20aa0dd",
   "metadata": {},
   "outputs": [
    {
     "data": {
      "text/html": [
       "<div>\n",
       "<style scoped>\n",
       "    .dataframe tbody tr th:only-of-type {\n",
       "        vertical-align: middle;\n",
       "    }\n",
       "\n",
       "    .dataframe tbody tr th {\n",
       "        vertical-align: top;\n",
       "    }\n",
       "\n",
       "    .dataframe thead th {\n",
       "        text-align: right;\n",
       "    }\n",
       "</style>\n",
       "<table border=\"1\" class=\"dataframe\">\n",
       "  <thead>\n",
       "    <tr style=\"text-align: right;\">\n",
       "      <th></th>\n",
       "      <th>feature</th>\n",
       "      <th>importance</th>\n",
       "    </tr>\n",
       "  </thead>\n",
       "  <tbody>\n",
       "    <tr>\n",
       "      <th>0</th>\n",
       "      <td>duration</td>\n",
       "      <td>0.294621</td>\n",
       "    </tr>\n",
       "    <tr>\n",
       "      <th>1</th>\n",
       "      <td>poutcome_success</td>\n",
       "      <td>0.229060</td>\n",
       "    </tr>\n",
       "    <tr>\n",
       "      <th>2</th>\n",
       "      <td>euribor3m</td>\n",
       "      <td>0.153074</td>\n",
       "    </tr>\n",
       "    <tr>\n",
       "      <th>3</th>\n",
       "      <td>contact_cellular</td>\n",
       "      <td>0.122946</td>\n",
       "    </tr>\n",
       "    <tr>\n",
       "      <th>4</th>\n",
       "      <td>month_oct</td>\n",
       "      <td>0.082215</td>\n",
       "    </tr>\n",
       "    <tr>\n",
       "      <th>5</th>\n",
       "      <td>month_may</td>\n",
       "      <td>0.065784</td>\n",
       "    </tr>\n",
       "    <tr>\n",
       "      <th>6</th>\n",
       "      <td>cons.conf.idx</td>\n",
       "      <td>0.012822</td>\n",
       "    </tr>\n",
       "    <tr>\n",
       "      <th>7</th>\n",
       "      <td>age</td>\n",
       "      <td>0.012010</td>\n",
       "    </tr>\n",
       "    <tr>\n",
       "      <th>8</th>\n",
       "      <td>marital_single</td>\n",
       "      <td>0.009905</td>\n",
       "    </tr>\n",
       "    <tr>\n",
       "      <th>9</th>\n",
       "      <td>job_blue-collar</td>\n",
       "      <td>0.008402</td>\n",
       "    </tr>\n",
       "    <tr>\n",
       "      <th>10</th>\n",
       "      <td>education_university.degree</td>\n",
       "      <td>0.004554</td>\n",
       "    </tr>\n",
       "    <tr>\n",
       "      <th>11</th>\n",
       "      <td>job_services</td>\n",
       "      <td>0.003087</td>\n",
       "    </tr>\n",
       "    <tr>\n",
       "      <th>12</th>\n",
       "      <td>job_admin.</td>\n",
       "      <td>0.000892</td>\n",
       "    </tr>\n",
       "    <tr>\n",
       "      <th>13</th>\n",
       "      <td>month_jun</td>\n",
       "      <td>0.000286</td>\n",
       "    </tr>\n",
       "    <tr>\n",
       "      <th>14</th>\n",
       "      <td>job_student</td>\n",
       "      <td>0.000203</td>\n",
       "    </tr>\n",
       "    <tr>\n",
       "      <th>15</th>\n",
       "      <td>month_aug</td>\n",
       "      <td>0.000101</td>\n",
       "    </tr>\n",
       "    <tr>\n",
       "      <th>16</th>\n",
       "      <td>job_technician</td>\n",
       "      <td>0.000036</td>\n",
       "    </tr>\n",
       "  </tbody>\n",
       "</table>\n",
       "</div>"
      ],
      "text/plain": [
       "                        feature  importance\n",
       "0                      duration    0.294621\n",
       "1              poutcome_success    0.229060\n",
       "2                     euribor3m    0.153074\n",
       "3              contact_cellular    0.122946\n",
       "4                     month_oct    0.082215\n",
       "5                     month_may    0.065784\n",
       "6                 cons.conf.idx    0.012822\n",
       "7                           age    0.012010\n",
       "8                marital_single    0.009905\n",
       "9               job_blue-collar    0.008402\n",
       "10  education_university.degree    0.004554\n",
       "11                 job_services    0.003087\n",
       "12                   job_admin.    0.000892\n",
       "13                    month_jun    0.000286\n",
       "14                  job_student    0.000203\n",
       "15                    month_aug    0.000101\n",
       "16               job_technician    0.000036"
      ]
     },
     "execution_count": 73,
     "metadata": {},
     "output_type": "execute_result"
    }
   ],
   "source": [
    "importance = pd.DataFrame(final_cols,columns=['feature'])\n",
    "importance['importance'] = model.feature_importances_\n",
    "importance = importance.sort_values(by=['importance'],ascending=False).reset_index(drop=True)\n",
    "importance = importance[importance['importance'] > 0]\n",
    "importance"
   ]
  },
  {
   "cell_type": "code",
   "execution_count": 75,
   "id": "40860c38",
   "metadata": {},
   "outputs": [],
   "source": [
    "result.to_excel('result.xlsx',index=False)"
   ]
  },
  {
   "cell_type": "code",
   "execution_count": 86,
   "id": "fee53dd0",
   "metadata": {},
   "outputs": [
    {
     "data": {
      "text/html": [
       "<div>\n",
       "<style scoped>\n",
       "    .dataframe tbody tr th:only-of-type {\n",
       "        vertical-align: middle;\n",
       "    }\n",
       "\n",
       "    .dataframe tbody tr th {\n",
       "        vertical-align: top;\n",
       "    }\n",
       "\n",
       "    .dataframe thead th {\n",
       "        text-align: right;\n",
       "    }\n",
       "</style>\n",
       "<table border=\"1\" class=\"dataframe\">\n",
       "  <thead>\n",
       "    <tr style=\"text-align: right;\">\n",
       "      <th></th>\n",
       "      <th>decile</th>\n",
       "      <th>min_prob</th>\n",
       "      <th>max_prob</th>\n",
       "    </tr>\n",
       "  </thead>\n",
       "  <tbody>\n",
       "    <tr>\n",
       "      <th>0</th>\n",
       "      <td>1</td>\n",
       "      <td>0.277003</td>\n",
       "      <td>1.000000</td>\n",
       "    </tr>\n",
       "    <tr>\n",
       "      <th>1</th>\n",
       "      <td>2</td>\n",
       "      <td>0.185850</td>\n",
       "      <td>0.277003</td>\n",
       "    </tr>\n",
       "    <tr>\n",
       "      <th>2</th>\n",
       "      <td>3</td>\n",
       "      <td>0.096616</td>\n",
       "      <td>0.185850</td>\n",
       "    </tr>\n",
       "    <tr>\n",
       "      <th>3</th>\n",
       "      <td>4</td>\n",
       "      <td>0.067559</td>\n",
       "      <td>0.096616</td>\n",
       "    </tr>\n",
       "    <tr>\n",
       "      <th>4</th>\n",
       "      <td>5</td>\n",
       "      <td>0.050268</td>\n",
       "      <td>0.067559</td>\n",
       "    </tr>\n",
       "    <tr>\n",
       "      <th>5</th>\n",
       "      <td>6</td>\n",
       "      <td>0.042334</td>\n",
       "      <td>0.050268</td>\n",
       "    </tr>\n",
       "    <tr>\n",
       "      <th>6</th>\n",
       "      <td>7</td>\n",
       "      <td>0.039585</td>\n",
       "      <td>0.042334</td>\n",
       "    </tr>\n",
       "    <tr>\n",
       "      <th>7</th>\n",
       "      <td>8</td>\n",
       "      <td>0.038248</td>\n",
       "      <td>0.039585</td>\n",
       "    </tr>\n",
       "    <tr>\n",
       "      <th>8</th>\n",
       "      <td>9</td>\n",
       "      <td>0.033226</td>\n",
       "      <td>0.038248</td>\n",
       "    </tr>\n",
       "    <tr>\n",
       "      <th>9</th>\n",
       "      <td>10</td>\n",
       "      <td>0.000000</td>\n",
       "      <td>0.033226</td>\n",
       "    </tr>\n",
       "  </tbody>\n",
       "</table>\n",
       "</div>"
      ],
      "text/plain": [
       "   decile  min_prob  max_prob\n",
       "0       1  0.277003  1.000000\n",
       "1       2  0.185850  0.277003\n",
       "2       3  0.096616  0.185850\n",
       "3       4  0.067559  0.096616\n",
       "4       5  0.050268  0.067559\n",
       "5       6  0.042334  0.050268\n",
       "6       7  0.039585  0.042334\n",
       "7       8  0.038248  0.039585\n",
       "8       9  0.033226  0.038248\n",
       "9      10  0.000000  0.033226"
      ]
     },
     "execution_count": 86,
     "metadata": {},
     "output_type": "execute_result"
    }
   ],
   "source": [
    "df_decile_cuts = pd.DataFrame(range(1,11),columns=['decile'])\n",
    "df_decile_cuts['min_prob'] = decile_cuts[1:]\n",
    "df_decile_cuts['max_prob'] = [1] + decile_cuts[1:-1]\n",
    "df_decile_cuts"
   ]
  },
  {
   "cell_type": "code",
   "execution_count": null,
   "id": "b529f37d",
   "metadata": {},
   "outputs": [],
   "source": []
  },
  {
   "cell_type": "code",
   "execution_count": null,
   "id": "c91cd186",
   "metadata": {},
   "outputs": [],
   "source": []
  },
  {
   "cell_type": "code",
   "execution_count": null,
   "id": "06c8892c",
   "metadata": {},
   "outputs": [],
   "source": []
  },
  {
   "cell_type": "code",
   "execution_count": null,
   "id": "23b41b3c",
   "metadata": {},
   "outputs": [],
   "source": []
  },
  {
   "cell_type": "code",
   "execution_count": null,
   "id": "94c01bf0",
   "metadata": {},
   "outputs": [],
   "source": []
  }
 ],
 "metadata": {
  "kernelspec": {
   "display_name": "Python 3",
   "language": "python",
   "name": "python3"
  },
  "language_info": {
   "codemirror_mode": {
    "name": "ipython",
    "version": 3
   },
   "file_extension": ".py",
   "mimetype": "text/x-python",
   "name": "python",
   "nbconvert_exporter": "python",
   "pygments_lexer": "ipython3",
   "version": "3.8.8"
  }
 },
 "nbformat": 4,
 "nbformat_minor": 5
}
